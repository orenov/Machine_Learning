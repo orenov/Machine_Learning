{
 "cells": [
  {
   "cell_type": "code",
   "execution_count": 255,
   "metadata": {
    "collapsed": true
   },
   "outputs": [],
   "source": [
    "import numpy as np\n",
    "import pandas as pd\n",
    "import sklearn.linear_model"
   ]
  },
  {
   "cell_type": "code",
   "execution_count": 256,
   "metadata": {
    "collapsed": true
   },
   "outputs": [],
   "source": [
    "dtype_dict = {'bathrooms':float, 'waterfront':int, 'sqft_above':int, 'sqft_living15':float, \n",
    "              'grade':int, 'yr_renovated':int, 'price':float, 'bedrooms':float, 'zipcode':str,\n",
    "              'long':float, 'sqft_lot15':float, 'sqft_living':float, 'floors':str, 'condition':int,\n",
    "              'lat':float, 'date':str, 'sqft_basement':int, 'yr_built':int, 'id':str, 'sqft_lot':int, 'view':int}"
   ]
  },
  {
   "cell_type": "code",
   "execution_count": 257,
   "metadata": {
    "collapsed": true
   },
   "outputs": [],
   "source": [
    "def numpy_data(data_pd, features, output):\n",
    "    data_pd['constant'] = 1\n",
    "    features = ['constant'] + features\n",
    "    feature_matrix = np.array(data_pd[features], dtype = np.float32)\n",
    "    output_array = np.array(data_pd[output])\n",
    "    \n",
    "    return (feature_matrix, output_array)"
   ]
  },
  {
   "cell_type": "code",
   "execution_count": 258,
   "metadata": {
    "collapsed": true
   },
   "outputs": [],
   "source": [
    "def predict_outcome(feature_matrix, weights):\n",
    "    predictions = feature_matrix.dot(weights)\n",
    "    return(predictions)"
   ]
  },
  {
   "cell_type": "code",
   "execution_count": 259,
   "metadata": {
    "collapsed": true
   },
   "outputs": [],
   "source": [
    "def normalize_features(features):\n",
    "    norms = np.linalg.norm(features, axis = 0)\n",
    "    X_normalized = features / norms\n",
    "    \n",
    "    return (X_normalized, norms)"
   ]
  },
  {
   "cell_type": "code",
   "execution_count": 260,
   "metadata": {
    "collapsed": false
   },
   "outputs": [],
   "source": [
    "data = pd.read_csv(\"kc_house_data.csv\", dtype= dtype_dict)\n",
    "\n",
    "features1 = ['sqft_living', 'bedrooms']\n",
    "feature_matrix, output = numpy_data(data, features1, 'price')"
   ]
  },
  {
   "cell_type": "code",
   "execution_count": 261,
   "metadata": {
    "collapsed": false
   },
   "outputs": [],
   "source": [
    "feature_matrix_norm, norms = normalize_features(feature_matrix)"
   ]
  },
  {
   "cell_type": "code",
   "execution_count": 262,
   "metadata": {
    "collapsed": true
   },
   "outputs": [],
   "source": [
    "initial_weights = [1., 4., 1.]"
   ]
  },
  {
   "cell_type": "code",
   "execution_count": 263,
   "metadata": {
    "collapsed": true
   },
   "outputs": [],
   "source": [
    "prediction = predict_outcome(feature_matrix_norm, initial_weights)"
   ]
  },
  {
   "cell_type": "code",
   "execution_count": 264,
   "metadata": {
    "collapsed": false
   },
   "outputs": [],
   "source": [
    "residual = np.subtract(data['price'], prediction)\n",
    "ro = [0.] * 3\n",
    "for i in xrange(len(initial_weights)):\n",
    "    ff = np.multiply(initial_weights[i], feature_matrix_norm[:,i])\n",
    "    ff = residual + ff\n",
    "    ro[i] = np.dot(ff, feature_matrix_norm[:,i])\n"
   ]
  },
  {
   "cell_type": "code",
   "execution_count": 265,
   "metadata": {
    "collapsed": false
   },
   "outputs": [
    {
     "name": "stdout",
     "output_type": "stream",
     "text": [
      "[79400297.894738987, 87939474.579189181, 80966701.158269122]\n"
     ]
    }
   ],
   "source": [
    "print ro"
   ]
  },
  {
   "cell_type": "markdown",
   "metadata": {},
   "source": [
    "##Quiz Question: Recall that, whenever ro[i] falls between -l1_penalty/2 and l1_penalty/2, the corresponding weight w[i] is sent to zero. Now suppose we were to take one step of coordinate descent on either feature 1 or feature 2. What range of values of l1_penalty would not set w[1] zero, but would set w[2] to zero, if we were to take a step in that coordinate?"
   ]
  },
  {
   "cell_type": "code",
   "execution_count": 266,
   "metadata": {
    "collapsed": false
   },
   "outputs": [
    {
     "name": "stdout",
     "output_type": "stream",
     "text": [
      "For feature1 l1_penalty=175878949.158\n",
      "For feature2 l1_penalty=161933402.317\n"
     ]
    }
   ],
   "source": [
    "print \"For feature1 l1_penalty={0}\".format(ro[1] * 2)\n",
    "print \"For feature2 l1_penalty={0}\".format(ro[2] * 2)"
   ]
  },
  {
   "cell_type": "markdown",
   "metadata": {},
   "source": [
    "#Quiz Question: What range of values of l1_penalty would set both w[1] and w[2] to zero, if we were to take a step in that coordinate?"
   ]
  },
  {
   "cell_type": "code",
   "execution_count": 267,
   "metadata": {
    "collapsed": false
   },
   "outputs": [
    {
     "name": "stdout",
     "output_type": "stream",
     "text": [
      "Value of l1_penalty greather than 175878949.158\n"
     ]
    }
   ],
   "source": [
    "print \"Value of l1_penalty greather than {0}\".format(max(ro[1]*2, ro[2]*2))"
   ]
  },
  {
   "cell_type": "markdown",
   "metadata": {},
   "source": [
    "## Single Coordinate Descent Step"
   ]
  },
  {
   "cell_type": "code",
   "execution_count": 268,
   "metadata": {
    "collapsed": true
   },
   "outputs": [],
   "source": [
    "def lasso_coordinate_descent_step(i, feature_matrix, output, weights, l1_penalty):\n",
    "    prediction = predict_outcome(feature_matrix, weights)\n",
    "    ro_i = np.sum(feature_matrix[:,i]*(output - prediction + weights[i]*feature_matrix[:,i]))\n",
    "    if i == 0: \n",
    "        new_weight_i = ro_i\n",
    "    elif ro_i < -l1_penalty/2.:\n",
    "        new_weight_i = ro_i + l1_penalty/2.\n",
    "    elif ro_i > l1_penalty/2.:\n",
    "        new_weight_i = ro_i - l1_penalty/2.\n",
    "    else:\n",
    "        new_weight_i = 0.\n",
    "    \n",
    "    return new_weight_i"
   ]
  },
  {
   "cell_type": "markdown",
   "metadata": {},
   "source": [
    "#### Testing lasso coordinate descent step"
   ]
  },
  {
   "cell_type": "code",
   "execution_count": 269,
   "metadata": {
    "collapsed": false
   },
   "outputs": [
    {
     "name": "stdout",
     "output_type": "stream",
     "text": [
      "0.425558846691\n"
     ]
    }
   ],
   "source": [
    "# should print 0.425558846691\n",
    "import math\n",
    "print lasso_coordinate_descent_step(1, np.array([[3./math.sqrt(13),1./math.sqrt(10)],\n",
    "                   [2./math.sqrt(13),3./math.sqrt(10)]]), np.array([1., 1.]), np.array([1., 4.]), 0.1)"
   ]
  },
  {
   "cell_type": "markdown",
   "metadata": {},
   "source": [
    "## Cyclical coordinate descent"
   ]
  },
  {
   "cell_type": "markdown",
   "metadata": {},
   "source": []
  },
  {
   "cell_type": "code",
   "execution_count": 270,
   "metadata": {
    "collapsed": true
   },
   "outputs": [],
   "source": [
    "def lasso_cyclical_coordinate_descent(feature_matrix, output, initial_weights, l1_penalty, tolerance):\n",
    "    max_step = float('inf')\n",
    "    n = len(initial_weights)\n",
    "    weights = initial_weights.copy()\n",
    "    while max_step > tolerance:\n",
    "        new_weights = weights.copy()\n",
    "        for i in xrange(n):\n",
    "            new_weights[i] = lasso_coordinate_descent_step(i, feature_matrix, output, new_weights, l1_penalty)\n",
    "        max_step = max([abs(x - y) for x,y in zip(new_weights, weights)])\n",
    "        print(max_step)\n",
    "        weights = new_weights\n",
    "        \n",
    "    return weights"
   ]
  },
  {
   "cell_type": "code",
   "execution_count": 271,
   "metadata": {
    "collapsed": true
   },
   "outputs": [],
   "source": [
    "initial_weights = np.zeros(3)"
   ]
  },
  {
   "cell_type": "code",
   "execution_count": 272,
   "metadata": {
    "collapsed": true
   },
   "outputs": [],
   "source": [
    "l1_penalty = 1e7"
   ]
  },
  {
   "cell_type": "code",
   "execution_count": 273,
   "metadata": {
    "collapsed": true
   },
   "outputs": [],
   "source": [
    "tolerance = 1.0"
   ]
  },
  {
   "cell_type": "code",
   "execution_count": 274,
   "metadata": {
    "collapsed": false
   },
   "outputs": [
    {
     "name": "stdout",
     "output_type": "stream",
     "text": [
      "79400302.5179\n",
      "9138170.01931\n",
      "8194810.94739\n",
      "6598908.64094\n",
      "5522176.82669\n",
      "4621131.5355\n",
      "3867111.4047\n",
      "3236119.12337\n",
      "2708088.36084\n",
      "2266218.58703\n",
      "1896440.03312\n",
      "1587003.16224\n",
      "1328054.21346\n",
      "1111355.40081\n",
      "930021.007128\n",
      "778267.576597\n",
      "651281.660543\n",
      "545012.899507\n",
      "456084.3685\n",
      "381665.16789\n",
      "319387.99302\n",
      "267275.059868\n",
      "223665.488\n",
      "187169.540772\n",
      "156631.525265\n",
      "131073.88755\n",
      "109687.219926\n",
      "91790.0986186\n",
      "76812.5857342\n",
      "64278.2696454\n",
      "53786.9875125\n",
      "45013.3541733\n",
      "37666.0611886\n",
      "31522.1222176\n",
      "26376.7134891\n",
      "22076.4151101\n",
      "18475.1005221\n",
      "15455.6456428\n",
      "12937.6384464\n",
      "10825.0136782\n",
      "9061.88481971\n",
      "7582.71190004\n",
      "6344.61554163\n",
      "5307.22139587\n",
      "4442.49342977\n",
      "3718.72162504\n",
      "3109.07869013\n",
      "2601.99050955\n",
      "2179.30151131\n",
      "1822.40869008\n",
      "1524.70904145\n",
      "1276.87536058\n",
      "1069.47558172\n",
      "892.932380516\n",
      "746.530092664\n",
      "625.330875918\n",
      "523.074683949\n",
      "438.058347564\n",
      "366.706711549\n",
      "311.518038992\n",
      "255.617589597\n",
      "216.186915666\n",
      "178.305168569\n",
      "148.187933087\n",
      "128.153222177\n",
      "105.066576809\n",
      "87.6841048114\n",
      "73.8504106812\n",
      "60.3295640461\n",
      "51.3874487653\n",
      "43.6659588963\n",
      "38.2801195905\n",
      "31.0699062124\n",
      "23.7433725744\n",
      "19.8268187344\n",
      "18.7773515172\n",
      "15.6980073191\n",
      "11.9221254811\n",
      "9.92855919898\n",
      "9.20453763381\n",
      "6.87372618914\n",
      "5.63331609964\n",
      "7.07860218361\n",
      "4.27105889097\n",
      "3.72484612465\n",
      "2.5976613313\n",
      "3.41666316986\n",
      "3.54194159806\n",
      "4.54963930324\n",
      "1.84439888597\n",
      "3.37261302397\n",
      "1.18633657694\n",
      "1.14479865134\n",
      "1.27203781903\n",
      "1.33081516623\n",
      "0.882614586502\n"
     ]
    }
   ],
   "source": [
    "data = pd.read_csv(\"kc_house_data.csv\", dtype= dtype_dict)\n",
    "\n",
    "features1 = ['sqft_living', 'bedrooms']\n",
    "feature_matrix, output = numpy_data(data, features1, 'price')\n",
    "feature_matrix_norm, norms = normalize_features(feature_matrix)\n",
    "\n",
    "simple_weights = lasso_cyclical_coordinate_descent(feature_matrix_norm, output, initial_weights, l1_penalty, tolerance)"
   ]
  },
  {
   "cell_type": "code",
   "execution_count": 275,
   "metadata": {
    "collapsed": false
   },
   "outputs": [
    {
     "name": "stdout",
     "output_type": "stream",
     "text": [
      "[ 21624964.63404675  63157280.82672167         0.        ]\n"
     ]
    }
   ],
   "source": [
    "print simple_weights"
   ]
  },
  {
   "cell_type": "markdown",
   "metadata": {},
   "source": [
    "#Quiz Question: What is the RSS of the learned model on the normalized dataset?"
   ]
  },
  {
   "cell_type": "code",
   "execution_count": 276,
   "metadata": {
    "collapsed": false
   },
   "outputs": [
    {
     "name": "stdout",
     "output_type": "stream",
     "text": [
      "1.63049211502e+15\n"
     ]
    }
   ],
   "source": [
    "predictions = predict_outcome(feature_matrix_norm, simple_weights)\n",
    "rss = sum([(x-y)**2 for x,y in zip(predictions, output)])\n",
    "print rss"
   ]
  },
  {
   "cell_type": "markdown",
   "metadata": {},
   "source": [
    "#Quiz Question: Which features had weight zero at convergence?"
   ]
  },
  {
   "cell_type": "code",
   "execution_count": 277,
   "metadata": {
    "collapsed": false
   },
   "outputs": [
    {
     "name": "stdout",
     "output_type": "stream",
     "text": [
      "[('intercept', 21624964.634046748), ('sqft_living', 63157280.826721668), ('bedrooms', 0.0)]\n"
     ]
    }
   ],
   "source": [
    "names = ['intercept'] + features1\n",
    "print zip(names, simple_weights)"
   ]
  },
  {
   "cell_type": "markdown",
   "metadata": {},
   "source": [
    "###Evaluating LASSO fit with more features"
   ]
  },
  {
   "cell_type": "code",
   "execution_count": 278,
   "metadata": {
    "collapsed": false
   },
   "outputs": [],
   "source": [
    "train = pd.read_csv('kc_house_train_data.csv', dtype = dtype_dict)\n",
    "test  = pd.read_csv('kc_house_test_data.csv' , dtype = dtype_dict)"
   ]
  },
  {
   "cell_type": "code",
   "execution_count": 279,
   "metadata": {
    "collapsed": true
   },
   "outputs": [],
   "source": [
    "features = ['bedrooms', 'bathrooms', 'sqft_living', 'sqft_lot', 'floors', 'waterfront',\n",
    "            'view', 'condition', 'grade', 'sqft_above', 'sqft_basement', 'yr_built', 'yr_renovated']"
   ]
  },
  {
   "cell_type": "code",
   "execution_count": 280,
   "metadata": {
    "collapsed": false
   },
   "outputs": [],
   "source": [
    "feature_matrix_train, output_train = numpy_data(train, features, 'price')\n",
    "feature_matrix_test, output_test = numpy_data(test, features, 'price')"
   ]
  },
  {
   "cell_type": "code",
   "execution_count": 281,
   "metadata": {
    "collapsed": false
   },
   "outputs": [],
   "source": [
    "feature_matrix_train_norm, norms_train = normalize_features(feature_matrix_train)"
   ]
  },
  {
   "cell_type": "code",
   "execution_count": 282,
   "metadata": {
    "collapsed": false
   },
   "outputs": [
    {
     "name": "stdout",
     "output_type": "stream",
     "text": [
      "71114622.3979\n",
      "5024364.16646\n",
      "5012327.52386\n",
      "5000679.40789\n",
      "4991246.44015\n",
      "4984366.95591\n",
      "4979511.17881\n",
      "4973807.71438\n",
      "2879225.43028\n",
      "2706153.51763\n",
      "2532296.79006\n",
      "2368321.10773\n",
      "2213127.75238\n",
      "1552454.85339\n",
      "507838.582463\n",
      "438812.961151\n",
      "371481.120212\n",
      "313412.285091\n",
      "264244.076348\n",
      "222755.168268\n",
      "187769.537601\n",
      "158280.758895\n",
      "133419.929856\n",
      "112467.308541\n",
      "94801.6943416\n",
      "79914.0418673\n",
      "67359.9356365\n",
      "56780.6073409\n",
      "47863.3772326\n",
      "40347.8853403\n",
      "34008.6370201\n",
      "28669.8691455\n",
      "24167.8293467\n",
      "20370.1453181\n",
      "17170.7302933\n",
      "14474.2714256\n",
      "12201.5055174\n",
      "10283.6587528\n",
      "8669.40460893\n",
      "7307.1193908\n",
      "6159.99084576\n",
      "5191.22608656\n",
      "4376.46224042\n",
      "3691.08480185\n",
      "3111.73002204\n",
      "2622.70618035\n",
      "2208.07640421\n",
      "1862.50122612\n",
      "1569.76806283\n",
      "1321.79417718\n",
      "1117.82492193\n",
      "943.156350952\n",
      "792.697701298\n",
      "669.155771405\n",
      "559.915749256\n",
      "472.778069925\n",
      "400.014451802\n",
      "338.603125602\n",
      "284.689951107\n",
      "237.000023432\n",
      "202.21415573\n",
      "170.239466257\n",
      "145.533553362\n",
      "120.051348649\n",
      "102.852841582\n",
      "83.7823702991\n",
      "71.6311934255\n",
      "61.2407078482\n",
      "52.3738193139\n",
      "45.0778751262\n",
      "35.6551993601\n",
      "30.1842399314\n",
      "28.3597229309\n",
      "20.5334925018\n",
      "16.9982145503\n",
      "16.7629939653\n",
      "11.4687992409\n",
      "11.3880123086\n",
      "9.17378620058\n",
      "9.44167775288\n",
      "7.89241692424\n",
      "7.14455725998\n",
      "6.0948189646\n",
      "3.69322523847\n",
      "4.07472897321\n",
      "3.60881598294\n",
      "3.98368540406\n",
      "1.80330739915\n",
      "2.03982714564\n",
      "0.391041437164\n"
     ]
    }
   ],
   "source": [
    "l1_penalty = 1e7\n",
    "tolerance = 1\n",
    "initial_weights = np.zeros(1+len(features))\n",
    "weights1e7 = lasso_cyclical_coordinate_descent(feature_matrix_train_norm, output_train, initial_weights, l1_penalty, tolerance)\n",
    "full_feature1 = ['intercept'] + features"
   ]
  },
  {
   "cell_type": "markdown",
   "metadata": {},
   "source": [
    "##  Quiz Question: What features had non-zero weight in this case?"
   ]
  },
  {
   "cell_type": "code",
   "execution_count": 283,
   "metadata": {
    "collapsed": false
   },
   "outputs": [
    {
     "name": "stdout",
     "output_type": "stream",
     "text": [
      "[('intercept', 24429565.23562859), ('bedrooms', 0.0), ('bathrooms', 0.0), ('sqft_living', 48389212.057468221), ('sqft_lot', 0.0), ('floors', 0.0), ('waterfront', 3317511.7871658709), ('view', 7329956.6112941541), ('condition', 0.0), ('grade', 0.0), ('sqft_above', 0.0), ('sqft_basement', 0.0), ('yr_built', 0.0), ('yr_renovated', 0.0)]\n"
     ]
    }
   ],
   "source": [
    "print zip(full_feature1, weights1e7)"
   ]
  },
  {
   "cell_type": "code",
   "execution_count": 293,
   "metadata": {
    "collapsed": false
   },
   "outputs": [
    {
     "name": "stdout",
     "output_type": "stream",
     "text": [
      "71114622.3979\n",
      "1.9932692349\n"
     ]
    }
   ],
   "source": [
    "l1_penalty = 1e8\n",
    "tolerance = 2.\n",
    "weights1e8 = lasso_cyclical_coordinate_descent(feature_matrix_train_norm, output_train, initial_weights, l1_penalty, tolerance)"
   ]
  },
  {
   "cell_type": "markdown",
   "metadata": {},
   "source": [
    "# Quiz Question: What features had non-zero weight in this case?"
   ]
  },
  {
   "cell_type": "code",
   "execution_count": 294,
   "metadata": {
    "collapsed": false
   },
   "outputs": [
    {
     "name": "stdout",
     "output_type": "stream",
     "text": [
      "[('intercept', 71114620.404586002), ('bedrooms', 0.0), ('bathrooms', 0.0), ('sqft_living', 0.0), ('sqft_lot', 0.0), ('floors', 0.0), ('waterfront', 0.0), ('view', 0.0), ('condition', 0.0), ('grade', 0.0), ('sqft_above', 0.0), ('sqft_basement', 0.0), ('yr_built', 0.0), ('yr_renovated', 0.0)]\n"
     ]
    }
   ],
   "source": [
    "print zip(full_feature1, weights1e8)"
   ]
  },
  {
   "cell_type": "code",
   "execution_count": 285,
   "metadata": {
    "collapsed": false
   },
   "outputs": [
    {
     "name": "stdout",
     "output_type": "stream",
     "text": [
      "71114622.3979\n",
      "8441277.54274\n",
      "6789874.48413\n",
      "5538915.37507\n",
      "4527799.68887\n",
      "3700363.95256\n",
      "3022495.39217\n",
      "2468072.13926\n",
      "2015787.95289\n",
      "1647983.91106\n",
      "1389757.21243\n",
      "1334789.73554\n",
      "1293150.57179\n",
      "1261720.69464\n",
      "1238003.84478\n",
      "1220010.49033\n",
      "1206165.77815\n",
      "1194976.2662\n",
      "1185739.4927\n",
      "1177724.12085\n",
      "1170368.49609\n",
      "1163252.35645\n",
      "1156069.8513\n",
      "1148606.54012\n",
      "1140711.26236\n",
      "1132298.86037\n",
      "1123318.56394\n",
      "1113751.48713\n",
      "1103608.57288\n",
      "1092910.26466\n",
      "1081693.45585\n",
      "1070012.18886\n",
      "1057906.15521\n",
      "1045430.26512\n",
      "1032645.54058\n",
      "1019595.98642\n",
      "1006339.90768\n",
      "992920.649906\n",
      "979388.103387\n",
      "965787.624407\n",
      "952152.665576\n",
      "938523.163907\n",
      "924935.398069\n",
      "911417.121883\n",
      "897989.528843\n",
      "884687.03573\n",
      "871516.922055\n",
      "858513.25499\n",
      "845678.902182\n",
      "832358.210163\n",
      "819806.342156\n",
      "807540.816234\n",
      "795526.102892\n",
      "783745.023824\n",
      "772192.982331\n",
      "760875.52329\n",
      "749790.391892\n",
      "738949.630978\n",
      "728142.607008\n",
      "717345.583339\n",
      "706816.221229\n",
      "696574.618176\n",
      "686519.017256\n",
      "676760.167672\n",
      "667281.597809\n",
      "658070.929505\n",
      "649118.491155\n",
      "640413.25681\n",
      "631938.760247\n",
      "623703.486915\n",
      "615683.802673\n",
      "607873.889356\n",
      "600274.250501\n",
      "592883.395321\n",
      "585679.335433\n",
      "578669.951884\n",
      "571847.053184\n",
      "565204.04685\n",
      "558731.376234\n",
      "552430.38175\n",
      "546300.924121\n",
      "540334.702193\n",
      "534524.604678\n",
      "528861.037324\n",
      "523353.899298\n",
      "517986.600387\n",
      "512759.681908\n",
      "507671.6562\n",
      "502715.609483\n",
      "497895.287882\n"
     ]
    }
   ],
   "source": [
    "l1_penalty = 1e4\n",
    "tolerance = 5e5\n",
    "weights1e4 = lasso_cyclical_coordinate_descent(feature_matrix_train_norm, output_train, initial_weights, l1_penalty, tolerance)"
   ]
  },
  {
   "cell_type": "markdown",
   "metadata": {},
   "source": [
    "## Quiz Question: What features had non-zero weight in this case?"
   ]
  },
  {
   "cell_type": "code",
   "execution_count": 286,
   "metadata": {
    "collapsed": false
   },
   "outputs": [
    {
     "name": "stdout",
     "output_type": "stream",
     "text": [
      "[('intercept', 78564820.631234437), ('bedrooms', -22097301.914200727), ('bathrooms', 12791113.371316463), ('sqft_living', 93808526.078915238), ('sqft_lot', -2013174.9612432055), ('floors', -4219204.9888766222), ('waterfront', 6482843.4415590316), ('view', 7127405.4416476879), ('condition', 5001684.7571378797), ('grade', 14327471.498521565), ('sqft_above', -15771338.156859603), ('sqft_basement', -5159703.2583063636), ('yr_built', -84495509.249537185), ('yr_renovated', 2824440.8464404163)]\n"
     ]
    }
   ],
   "source": [
    "print zip(full_feature1, weights1e4)"
   ]
  },
  {
   "cell_type": "markdown",
   "metadata": {},
   "source": [
    "# Rescaling learned weights"
   ]
  },
  {
   "cell_type": "code",
   "execution_count": 287,
   "metadata": {
    "collapsed": false
   },
   "outputs": [
    {
     "name": "stdout",
     "output_type": "stream",
     "text": [
      "161.317588635\n"
     ]
    }
   ],
   "source": [
    "normalized_weights1e4 = weights1e4 / norms_train\n",
    "normalized_weights1e7 = weights1e7 / norms_train\n",
    "normalized_weights1e8 = weights1e8 / norms_train\n",
    "print normalized_weights1e7[3]"
   ]
  },
  {
   "cell_type": "markdown",
   "metadata": {},
   "source": [
    "## Evaluating all models on test data"
   ]
  },
  {
   "cell_type": "code",
   "execution_count": 289,
   "metadata": {
    "collapsed": true
   },
   "outputs": [],
   "source": [
    "predictions_weights1e4 = predict_outcome(feature_matrix_test, normalized_weights1e4)\n",
    "predictions_weights1e7 = predict_outcome(feature_matrix_test, normalized_weights1e7)\n",
    "predictions_weights1e8 = predict_outcome(feature_matrix_test, normalized_weights1e8)"
   ]
  },
  {
   "cell_type": "code",
   "execution_count": 291,
   "metadata": {
    "collapsed": false
   },
   "outputs": [],
   "source": [
    "rss_weights1e4 = sum([(x-y)**2 for x,y in zip(output_test, predictions_weights1e4)])\n",
    "rss_weights1e7 = sum([(x-y)**2 for x,y in zip(output_test, predictions_weights1e7)])\n",
    "rss_weights1e8 = sum([(x-y)**2 for x,y in zip(output_test, predictions_weights1e8)])"
   ]
  },
  {
   "cell_type": "code",
   "execution_count": 292,
   "metadata": {
    "collapsed": false
   },
   "outputs": [
    {
     "name": "stdout",
     "output_type": "stream",
     "text": [
      "2.28459948517e+14\n",
      "2.75962004975e+14\n",
      "6.15751251045e+14\n"
     ]
    }
   ],
   "source": [
    "print rss_weights1e4\n",
    "print rss_weights1e7\n",
    "print rss_weights1e8"
   ]
  },
  {
   "cell_type": "code",
   "execution_count": null,
   "metadata": {
    "collapsed": true
   },
   "outputs": [],
   "source": []
  }
 ],
 "metadata": {
  "kernelspec": {
   "display_name": "Python 2",
   "language": "python",
   "name": "python2"
  },
  "language_info": {
   "codemirror_mode": {
    "name": "ipython",
    "version": 2
   },
   "file_extension": ".py",
   "mimetype": "text/x-python",
   "name": "python",
   "nbconvert_exporter": "python",
   "pygments_lexer": "ipython2",
   "version": "2.7.10"
  }
 },
 "nbformat": 4,
 "nbformat_minor": 0
}
