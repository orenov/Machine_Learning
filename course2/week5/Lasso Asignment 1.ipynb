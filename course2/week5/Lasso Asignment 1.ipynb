{
 "cells": [
  {
   "cell_type": "code",
   "execution_count": 4,
   "metadata": {
    "collapsed": false
   },
   "outputs": [],
   "source": [
    "import pandas as pd\n",
    "import numpy as np\n",
    "import sklearn.linear_model"
   ]
  },
  {
   "cell_type": "markdown",
   "metadata": {},
   "source": [
    "### Load data sets"
   ]
  },
  {
   "cell_type": "code",
   "execution_count": 13,
   "metadata": {
    "collapsed": true
   },
   "outputs": [],
   "source": [
    "dtype_dict = {'bathrooms':float, 'waterfront':int, 'sqft_above':int, 'sqft_living15':float, 'grade':int, 'yr_renovated':int, 'price':float, 'bedrooms':float, 'zipcode':str, 'long':float, 'sqft_lot15':float, 'sqft_living':float, 'floors':float, 'condition':int, 'lat':float, 'date':str, 'sqft_basement':int, 'yr_built':int, 'id':str, 'sqft_lot':int, 'view':int}\n",
    "\n",
    "sales = pd.read_csv('kc_house_data.csv', dtype = dtype_dict)"
   ]
  },
  {
   "cell_type": "markdown",
   "metadata": {},
   "source": [
    "### Create new features"
   ]
  },
  {
   "cell_type": "code",
   "execution_count": 14,
   "metadata": {
    "collapsed": true
   },
   "outputs": [],
   "source": [
    "from math import log, sqrt\n",
    "sales['sqft_living_sqrt'] = sales['sqft_living'].apply(sqrt)\n",
    "sales['sqft_lot_sqrt'] = sales['sqft_lot'].apply(sqrt)\n",
    "sales['bedrooms_square'] = sales['bedrooms']*sales['bedrooms']\n",
    "sales['floors_square'] = sales['floors']*sales['floors']"
   ]
  },
  {
   "cell_type": "markdown",
   "metadata": {},
   "source": [
    "### Creating first Lasso model"
   ]
  },
  {
   "cell_type": "code",
   "execution_count": 17,
   "metadata": {
    "collapsed": false
   },
   "outputs": [
    {
     "data": {
      "text/plain": [
       "Lasso(alpha=500.0, copy_X=True, fit_intercept=True, max_iter=1000,\n",
       "   normalize=True, positive=False, precompute='auto', tol=0.0001,\n",
       "   warm_start=False)"
      ]
     },
     "execution_count": 17,
     "metadata": {},
     "output_type": "execute_result"
    }
   ],
   "source": [
    "from sklearn import linear_model  # using scikit-learn\n",
    "all_features = ['bedrooms', 'bedrooms_square', 'bathrooms', 'sqft_living', 'sqft_living_sqrt',\n",
    "                'sqft_lot', 'sqft_lot_sqrt', 'floors', 'floors_square', 'waterfront', 'view',\n",
    "                'condition', 'grade', 'sqft_above', 'sqft_basement', 'yr_built', 'yr_renovated']\n",
    "model_all = linear_model.Lasso(alpha = 5e2, normalize = True) # set parameters\n",
    "model_all.fit(sales[all_features], sales['price']) # learn weights"
   ]
  },
  {
   "cell_type": "markdown",
   "metadata": {},
   "source": [
    "## Quiz Question: Which features have been chosen by LASSO, i.e. which features were assigned nonzero weights?"
   ]
  },
  {
   "cell_type": "code",
   "execution_count": 20,
   "metadata": {
    "collapsed": false
   },
   "outputs": [
    {
     "name": "stdout",
     "output_type": "stream",
     "text": [
      "[     0.              0.              0.            134.43931396      0.\n",
      "      0.              0.              0.              0.              0.\n",
      "  24750.00458561      0.          61749.10309071      0.              0.\n",
      "     -0.              0.        ]\n"
     ]
    }
   ],
   "source": [
    "print model_all.coef_"
   ]
  },
  {
   "cell_type": "code",
   "execution_count": 21,
   "metadata": {
    "collapsed": false
   },
   "outputs": [
    {
     "name": "stdout",
     "output_type": "stream",
     "text": [
      "[('bedrooms', 0.0), ('bedrooms_square', 0.0), ('bathrooms', 0.0), ('sqft_living', 134.43931395540966), ('sqft_living_sqrt', 0.0), ('sqft_lot', 0.0), ('sqft_lot_sqrt', 0.0), ('floors', 0.0), ('floors_square', 0.0), ('waterfront', 0.0), ('view', 24750.004585614093), ('condition', 0.0), ('grade', 61749.103090711666), ('sqft_above', 0.0), ('sqft_basement', 0.0), ('yr_built', -0.0), ('yr_renovated', 0.0)]\n"
     ]
    }
   ],
   "source": [
    "print zip(all_features, model_all.coef_)"
   ]
  },
  {
   "cell_type": "markdown",
   "metadata": {},
   "source": [
    "## Part 2"
   ]
  },
  {
   "cell_type": "code",
   "execution_count": 22,
   "metadata": {
    "collapsed": true
   },
   "outputs": [],
   "source": [
    "testing = pd.read_csv('wk3_kc_house_test_data.csv', dtype=dtype_dict)\n",
    "training = pd.read_csv('wk3_kc_house_train_data.csv', dtype=dtype_dict)\n",
    "validation = pd.read_csv('wk3_kc_house_valid_data.csv', dtype=dtype_dict)"
   ]
  },
  {
   "cell_type": "code",
   "execution_count": 23,
   "metadata": {
    "collapsed": true
   },
   "outputs": [],
   "source": [
    "testing['sqft_living_sqrt'] = testing['sqft_living'].apply(sqrt)\n",
    "testing['sqft_lot_sqrt'] = testing['sqft_lot'].apply(sqrt)\n",
    "testing['bedrooms_square'] = testing['bedrooms']*testing['bedrooms']\n",
    "testing['floors_square'] = testing['floors']*testing['floors']\n",
    "\n",
    "training['sqft_living_sqrt'] = training['sqft_living'].apply(sqrt)\n",
    "training['sqft_lot_sqrt'] = training['sqft_lot'].apply(sqrt)\n",
    "training['bedrooms_square'] = training['bedrooms']*training['bedrooms']\n",
    "training['floors_square'] = training['floors']*training['floors']\n",
    "\n",
    "validation['sqft_living_sqrt'] = validation['sqft_living'].apply(sqrt)\n",
    "validation['sqft_lot_sqrt'] = validation['sqft_lot'].apply(sqrt)\n",
    "validation['bedrooms_square'] = validation['bedrooms']*validation['bedrooms']\n",
    "validation['floors_square'] = validation['floors']*validation['floors']"
   ]
  },
  {
   "cell_type": "code",
   "execution_count": 24,
   "metadata": {
    "collapsed": true
   },
   "outputs": [],
   "source": [
    "l1_penalty = np.logspace(1, 7, num = 13)"
   ]
  },
  {
   "cell_type": "code",
   "execution_count": 25,
   "metadata": {
    "collapsed": false
   },
   "outputs": [
    {
     "name": "stdout",
     "output_type": "stream",
     "text": [
      "[  1.00000000e+01   3.16227766e+01   1.00000000e+02   3.16227766e+02\n",
      "   1.00000000e+03   3.16227766e+03   1.00000000e+04   3.16227766e+04\n",
      "   1.00000000e+05   3.16227766e+05   1.00000000e+06   3.16227766e+06\n",
      "   1.00000000e+07]\n"
     ]
    }
   ],
   "source": [
    "print l1_penalty"
   ]
  },
  {
   "cell_type": "code",
   "execution_count": 35,
   "metadata": {
    "collapsed": true
   },
   "outputs": [],
   "source": [
    "def fit_and_rss(train, valid, l1_penalty):\n",
    "    model = linear_model.Lasso(alpha=l1_penalty, normalize=True)\n",
    "    model.fit(train[all_features], train['price'])\n",
    "    preds = model.predict(valid[all_features])\n",
    "    rss = sum([(x-y)**2 for x,y in zip(preds, valid['price'])])\n",
    "    \n",
    "    return (l1_penalty, rss, model)"
   ]
  },
  {
   "cell_type": "code",
   "execution_count": 36,
   "metadata": {
    "collapsed": false
   },
   "outputs": [],
   "source": [
    "ll = [fit_and_rss(training, validation, x) for x in l1_penalty]"
   ]
  },
  {
   "cell_type": "code",
   "execution_count": 37,
   "metadata": {
    "collapsed": false
   },
   "outputs": [
    {
     "name": "stdout",
     "output_type": "stream",
     "text": [
      "[(10.0, 398213327300134.44, Lasso(alpha=10.0, copy_X=True, fit_intercept=True, max_iter=1000,\n",
      "   normalize=True, positive=False, precompute='auto', tol=0.0001,\n",
      "   warm_start=False)), (31.622776601683793, 399041900253351.38, Lasso(alpha=31.622776601683793, copy_X=True, fit_intercept=True,\n",
      "   max_iter=1000, normalize=True, positive=False, precompute='auto',\n",
      "   tol=0.0001, warm_start=False)), (100.0, 429791604072558.12, Lasso(alpha=100.0, copy_X=True, fit_intercept=True, max_iter=1000,\n",
      "   normalize=True, positive=False, precompute='auto', tol=0.0001,\n",
      "   warm_start=False)), (316.22776601683796, 463739831045119.88, Lasso(alpha=316.22776601683796, copy_X=True, fit_intercept=True,\n",
      "   max_iter=1000, normalize=True, positive=False, precompute='auto',\n",
      "   tol=0.0001, warm_start=False)), (1000.0, 645898733633810.75, Lasso(alpha=1000.0, copy_X=True, fit_intercept=True, max_iter=1000,\n",
      "   normalize=True, positive=False, precompute='auto', tol=0.0001,\n",
      "   warm_start=False)), (3162.2776601683795, 1222506859427156.8, Lasso(alpha=3162.2776601683795, copy_X=True, fit_intercept=True,\n",
      "   max_iter=1000, normalize=True, positive=False, precompute='auto',\n",
      "   tol=0.0001, warm_start=False)), (10000.0, 1222506859427156.8, Lasso(alpha=10000.0, copy_X=True, fit_intercept=True, max_iter=1000,\n",
      "   normalize=True, positive=False, precompute='auto', tol=0.0001,\n",
      "   warm_start=False)), (31622.776601683792, 1222506859427156.8, Lasso(alpha=31622.776601683792, copy_X=True, fit_intercept=True,\n",
      "   max_iter=1000, normalize=True, positive=False, precompute='auto',\n",
      "   tol=0.0001, warm_start=False)), (100000.0, 1222506859427156.8, Lasso(alpha=100000.0, copy_X=True, fit_intercept=True, max_iter=1000,\n",
      "   normalize=True, positive=False, precompute='auto', tol=0.0001,\n",
      "   warm_start=False)), (316227.76601683791, 1222506859427156.8, Lasso(alpha=316227.76601683791, copy_X=True, fit_intercept=True,\n",
      "   max_iter=1000, normalize=True, positive=False, precompute='auto',\n",
      "   tol=0.0001, warm_start=False)), (1000000.0, 1222506859427156.8, Lasso(alpha=1000000.0, copy_X=True, fit_intercept=True, max_iter=1000,\n",
      "   normalize=True, positive=False, precompute='auto', tol=0.0001,\n",
      "   warm_start=False)), (3162277.6601683795, 1222506859427156.8, Lasso(alpha=3162277.6601683795, copy_X=True, fit_intercept=True,\n",
      "   max_iter=1000, normalize=True, positive=False, precompute='auto',\n",
      "   tol=0.0001, warm_start=False)), (10000000.0, 1222506859427156.8, Lasso(alpha=10000000.0, copy_X=True, fit_intercept=True, max_iter=1000,\n",
      "   normalize=True, positive=False, precompute='auto', tol=0.0001,\n",
      "   warm_start=False))]\n"
     ]
    }
   ],
   "source": [
    "print ll"
   ]
  },
  {
   "cell_type": "markdown",
   "metadata": {},
   "source": [
    "## Quiz Question: Which was the best value for the l1_penalty, i.e. which value of l1_penalty produced the lowest RSS on VALIDATION data?"
   ]
  },
  {
   "cell_type": "code",
   "execution_count": 39,
   "metadata": {
    "collapsed": false
   },
   "outputs": [
    {
     "name": "stdout",
     "output_type": "stream",
     "text": [
      "(10.0, 398213327300134.44, Lasso(alpha=10.0, copy_X=True, fit_intercept=True, max_iter=1000,\n",
      "   normalize=True, positive=False, precompute='auto', tol=0.0001,\n",
      "   warm_start=False))\n"
     ]
    }
   ],
   "source": [
    "best = reduce(lambda a,b: a if a[1] < b[1] else b, ll)\n",
    "print best"
   ]
  },
  {
   "cell_type": "markdown",
   "metadata": {},
   "source": [
    "## Quiz Question: Using the best L1 penalty, how many nonzero weights do you have? Count the number of nonzero coefficients first, and add 1 if the intercept is also nonzero"
   ]
  },
  {
   "cell_type": "code",
   "execution_count": 40,
   "metadata": {
    "collapsed": false
   },
   "outputs": [
    {
     "name": "stdout",
     "output_type": "stream",
     "text": [
      "[ -1.61445628e+04   3.73245384e+02   5.08412433e+04   6.17853560e+02\n",
      "  -4.44113549e+04   7.85623065e-01  -7.01194765e+02  -0.00000000e+00\n",
      "   5.01420046e+03   6.19488752e+05   3.80418557e+04   2.49987718e+04\n",
      "   1.28716235e+05   0.00000000e+00   0.00000000e+00  -3.29383118e+03\n",
      "   1.00573209e+01]\n"
     ]
    }
   ],
   "source": [
    "print best[2].coef_"
   ]
  },
  {
   "cell_type": "code",
   "execution_count": 43,
   "metadata": {
    "collapsed": false
   },
   "outputs": [
    {
     "name": "stdout",
     "output_type": "stream",
     "text": [
      "6630155.66863\n"
     ]
    }
   ],
   "source": [
    "print best[2].intercept_"
   ]
  },
  {
   "cell_type": "code",
   "execution_count": 44,
   "metadata": {
    "collapsed": false
   },
   "outputs": [
    {
     "name": "stdout",
     "output_type": "stream",
     "text": [
      "16\n"
     ]
    }
   ],
   "source": [
    "print len(best[2].coef_)-2 + 1"
   ]
  },
  {
   "cell_type": "code",
   "execution_count": 46,
   "metadata": {
    "collapsed": false
   },
   "outputs": [
    {
     "data": {
      "text/plain": [
       "15"
      ]
     },
     "execution_count": 46,
     "metadata": {},
     "output_type": "execute_result"
    }
   ],
   "source": [
    "np.count_nonzero(best[2].coef_) + np.count_nonzero(best[2].intercept_)"
   ]
  },
  {
   "cell_type": "markdown",
   "metadata": {},
   "source": [
    "## Explore feature selection using Lasso Regression"
   ]
  },
  {
   "cell_type": "markdown",
   "metadata": {},
   "source": [
    "#### Exploring large range of l1_penalty"
   ]
  },
  {
   "cell_type": "code",
   "execution_count": 47,
   "metadata": {
    "collapsed": false
   },
   "outputs": [
    {
     "name": "stdout",
     "output_type": "stream",
     "text": [
      "[    10.             14.38449888     20.69138081     29.76351442\n",
      "     42.81332399     61.58482111     88.58667904    127.42749857\n",
      "    183.29807108    263.66508987    379.26901907    545.55947812\n",
      "    784.75997035   1128.83789168   1623.77673919   2335.72146909\n",
      "   3359.81828628   4832.93023857   6951.92796178  10000.        ]\n"
     ]
    }
   ],
   "source": [
    "max_nonzeros = 7\n",
    "l1_penalty_large = np.logspace(1, 4, num = 20)\n",
    "print l1_penalty_large"
   ]
  },
  {
   "cell_type": "code",
   "execution_count": 52,
   "metadata": {
    "collapsed": true
   },
   "outputs": [],
   "source": [
    "def fit_and_extrac_useful_info(train, l1_penalty):\n",
    "    model = sklearn.linear_model.Lasso(alpha = l1_penalty, normalize = True)\n",
    "    model.fit(train[all_features], train['price'])\n",
    "    nn = np.count_nonzero(model.coef_) + np.count_nonzero(model.intercept_)\n",
    "    \n",
    "    return (nn, model, l1_penalty)"
   ]
  },
  {
   "cell_type": "code",
   "execution_count": 53,
   "metadata": {
    "collapsed": false
   },
   "outputs": [],
   "source": [
    "ll = [fit_and_extrac_useful_info(training,x) for x in l1_penalty_large]"
   ]
  },
  {
   "cell_type": "code",
   "execution_count": 54,
   "metadata": {
    "collapsed": false
   },
   "outputs": [
    {
     "name": "stdout",
     "output_type": "stream",
     "text": [
      "[(15, Lasso(alpha=10.0, copy_X=True, fit_intercept=True, max_iter=1000,\n",
      "   normalize=True, positive=False, precompute='auto', tol=0.0001,\n",
      "   warm_start=False), 10.0), (15, Lasso(alpha=14.384498882876629, copy_X=True, fit_intercept=True,\n",
      "   max_iter=1000, normalize=True, positive=False, precompute='auto',\n",
      "   tol=0.0001, warm_start=False), 14.384498882876629), (15, Lasso(alpha=20.691380811147901, copy_X=True, fit_intercept=True,\n",
      "   max_iter=1000, normalize=True, positive=False, precompute='auto',\n",
      "   tol=0.0001, warm_start=False), 20.691380811147901), (15, Lasso(alpha=29.763514416313178, copy_X=True, fit_intercept=True,\n",
      "   max_iter=1000, normalize=True, positive=False, precompute='auto',\n",
      "   tol=0.0001, warm_start=False), 29.763514416313178), (13, Lasso(alpha=42.813323987193932, copy_X=True, fit_intercept=True,\n",
      "   max_iter=1000, normalize=True, positive=False, precompute='auto',\n",
      "   tol=0.0001, warm_start=False), 42.813323987193932), (12, Lasso(alpha=61.584821106602639, copy_X=True, fit_intercept=True,\n",
      "   max_iter=1000, normalize=True, positive=False, precompute='auto',\n",
      "   tol=0.0001, warm_start=False), 61.584821106602639), (11, Lasso(alpha=88.586679041008225, copy_X=True, fit_intercept=True,\n",
      "   max_iter=1000, normalize=True, positive=False, precompute='auto',\n",
      "   tol=0.0001, warm_start=False), 88.586679041008225), (10, Lasso(alpha=127.42749857031335, copy_X=True, fit_intercept=True,\n",
      "   max_iter=1000, normalize=True, positive=False, precompute='auto',\n",
      "   tol=0.0001, warm_start=False), 127.42749857031335), (7, Lasso(alpha=183.29807108324357, copy_X=True, fit_intercept=True,\n",
      "   max_iter=1000, normalize=True, positive=False, precompute='auto',\n",
      "   tol=0.0001, warm_start=False), 183.29807108324357), (6, Lasso(alpha=263.66508987303581, copy_X=True, fit_intercept=True,\n",
      "   max_iter=1000, normalize=True, positive=False, precompute='auto',\n",
      "   tol=0.0001, warm_start=False), 263.66508987303581), (6, Lasso(alpha=379.26901907322497, copy_X=True, fit_intercept=True,\n",
      "   max_iter=1000, normalize=True, positive=False, precompute='auto',\n",
      "   tol=0.0001, warm_start=False), 379.26901907322497), (6, Lasso(alpha=545.55947811685144, copy_X=True, fit_intercept=True,\n",
      "   max_iter=1000, normalize=True, positive=False, precompute='auto',\n",
      "   tol=0.0001, warm_start=False), 545.55947811685144), (5, Lasso(alpha=784.75997035146065, copy_X=True, fit_intercept=True,\n",
      "   max_iter=1000, normalize=True, positive=False, precompute='auto',\n",
      "   tol=0.0001, warm_start=False), 784.75997035146065), (3, Lasso(alpha=1128.8378916846884, copy_X=True, fit_intercept=True,\n",
      "   max_iter=1000, normalize=True, positive=False, precompute='auto',\n",
      "   tol=0.0001, warm_start=False), 1128.8378916846884), (3, Lasso(alpha=1623.776739188721, copy_X=True, fit_intercept=True, max_iter=1000,\n",
      "   normalize=True, positive=False, precompute='auto', tol=0.0001,\n",
      "   warm_start=False), 1623.776739188721), (2, Lasso(alpha=2335.7214690901214, copy_X=True, fit_intercept=True,\n",
      "   max_iter=1000, normalize=True, positive=False, precompute='auto',\n",
      "   tol=0.0001, warm_start=False), 2335.7214690901214), (1, Lasso(alpha=3359.8182862837812, copy_X=True, fit_intercept=True,\n",
      "   max_iter=1000, normalize=True, positive=False, precompute='auto',\n",
      "   tol=0.0001, warm_start=False), 3359.8182862837812), (1, Lasso(alpha=4832.9302385717519, copy_X=True, fit_intercept=True,\n",
      "   max_iter=1000, normalize=True, positive=False, precompute='auto',\n",
      "   tol=0.0001, warm_start=False), 4832.9302385717519), (1, Lasso(alpha=6951.9279617756056, copy_X=True, fit_intercept=True,\n",
      "   max_iter=1000, normalize=True, positive=False, precompute='auto',\n",
      "   tol=0.0001, warm_start=False), 6951.9279617756056), (1, Lasso(alpha=10000.0, copy_X=True, fit_intercept=True, max_iter=1000,\n",
      "   normalize=True, positive=False, precompute='auto', tol=0.0001,\n",
      "   warm_start=False), 10000.0)]\n"
     ]
    }
   ],
   "source": [
    "print ll"
   ]
  },
  {
   "cell_type": "code",
   "execution_count": 58,
   "metadata": {
    "collapsed": true
   },
   "outputs": [],
   "source": [
    "l1_penalty_max = reduce(lambda a,b: a if a[2] < b[2] else b, filter(lambda s: s[0] < max_nonzeros, ll))[2]\n",
    "l1_penalty_min = reduce(lambda a,b: a if a[2] > b[2] else b, filter(lambda s: s[0] > max_nonzeros, ll))[2]"
   ]
  },
  {
   "cell_type": "markdown",
   "metadata": {},
   "source": [
    "# Quiz Question: What values did you find for l1_penalty_min and l1_penalty_max?"
   ]
  },
  {
   "cell_type": "code",
   "execution_count": 59,
   "metadata": {
    "collapsed": false
   },
   "outputs": [
    {
     "name": "stdout",
     "output_type": "stream",
     "text": [
      "263.665089873\n",
      "127.42749857\n"
     ]
    }
   ],
   "source": [
    "print l1_penalty_max\n",
    "print l1_penalty_min"
   ]
  },
  {
   "cell_type": "markdown",
   "metadata": {},
   "source": [
    "#### Exploring narrower range of l1_penalty"
   ]
  },
  {
   "cell_type": "code",
   "execution_count": 60,
   "metadata": {
    "collapsed": true
   },
   "outputs": [],
   "source": [
    "l1_penalty_narrow = np.linspace(l1_penalty_min, l1_penalty_max, 20)"
   ]
  },
  {
   "cell_type": "code",
   "execution_count": 61,
   "metadata": {
    "collapsed": true
   },
   "outputs": [],
   "source": [
    "def fit_and_rss(train, valid, l1_penalty):\n",
    "    model = sklearn.linear_model.Lasso(alpha = l1_penalty, normalize=True)\n",
    "    model.fit(train[all_features], train['price'])\n",
    "    nn = np.count_nonzero(model.coef_) + np.count_nonzero(model.intercept_)\n",
    "    preds = model.predict(valid[all_features])\n",
    "    rss = sum([(x-y)**2 for x,y in zip(preds, valid['price'])])\n",
    "    \n",
    "    return (rss, nn, model)"
   ]
  },
  {
   "cell_type": "code",
   "execution_count": 62,
   "metadata": {
    "collapsed": true
   },
   "outputs": [],
   "source": [
    "ll = [fit_and_rss(training, validation, x) for x in l1_penalty_narrow]"
   ]
  },
  {
   "cell_type": "code",
   "execution_count": 65,
   "metadata": {
    "collapsed": false
   },
   "outputs": [],
   "source": [
    "ll = filter(lambda s: s[1] == max_nonzeros, ll)\n",
    "best = reduce(lambda a,b: a if a[0] < b[0] else b, ll)"
   ]
  },
  {
   "cell_type": "code",
   "execution_count": 66,
   "metadata": {
    "collapsed": false
   },
   "outputs": [
    {
     "name": "stdout",
     "output_type": "stream",
     "text": [
      "(440037365263316.75, 7, Lasso(alpha=156.10909673930755, copy_X=True, fit_intercept=True,\n",
      "   max_iter=1000, normalize=True, positive=False, precompute='auto',\n",
      "   tol=0.0001, warm_start=False))\n"
     ]
    }
   ],
   "source": [
    "print best"
   ]
  },
  {
   "cell_type": "markdown",
   "metadata": {},
   "source": [
    "#Quiz Question: What value of l1_penalty in our narrow range has the lowest RSS on the VALIDATION set and has sparsity equal to ‘max_nonzeros’?"
   ]
  },
  {
   "cell_type": "code",
   "execution_count": 69,
   "metadata": {
    "collapsed": false
   },
   "outputs": [
    {
     "name": "stdout",
     "output_type": "stream",
     "text": [
      "156.109096739\n"
     ]
    }
   ],
   "source": [
    "print best[2].alpha"
   ]
  },
  {
   "cell_type": "markdown",
   "metadata": {},
   "source": [
    "#Quiz Question: What features in this model have non-zero coefficients?"
   ]
  },
  {
   "cell_type": "code",
   "execution_count": 75,
   "metadata": {
    "collapsed": false
   },
   "outputs": [
    {
     "data": {
      "text/plain": [
       "[('bathrooms', 10610.890284398854),\n",
       " ('sqft_living', 163.38025164762911),\n",
       " ('waterfront', 506451.68711485498),\n",
       " ('view', 41960.043554851894),\n",
       " ('grade', 116253.55369970684),\n",
       " ('yr_built', -2612.2348803574864)]"
      ]
     },
     "execution_count": 75,
     "metadata": {},
     "output_type": "execute_result"
    }
   ],
   "source": [
    "features = zip(all_features, best[2].coef_)\n",
    "filter(lambda s: s[1] != 0.0, features)"
   ]
  },
  {
   "cell_type": "code",
   "execution_count": null,
   "metadata": {
    "collapsed": true
   },
   "outputs": [],
   "source": []
  }
 ],
 "metadata": {
  "kernelspec": {
   "display_name": "Python 2",
   "language": "python",
   "name": "python2"
  },
  "language_info": {
   "codemirror_mode": {
    "name": "ipython",
    "version": 2
   },
   "file_extension": ".py",
   "mimetype": "text/x-python",
   "name": "python",
   "nbconvert_exporter": "python",
   "pygments_lexer": "ipython2",
   "version": "2.7.10"
  }
 },
 "nbformat": 4,
 "nbformat_minor": 0
}
