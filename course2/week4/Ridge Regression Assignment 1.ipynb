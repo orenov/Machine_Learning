{
 "cells": [
  {
   "cell_type": "markdown",
   "metadata": {},
   "source": [
    "### Importing Libraries"
   ]
  },
  {
   "cell_type": "code",
   "execution_count": 3,
   "metadata": {
    "collapsed": false
   },
   "outputs": [],
   "source": [
    "import numpy as np\n",
    "import pandas as pd\n",
    "import sklearn.linear_model"
   ]
  },
  {
   "cell_type": "code",
   "execution_count": 5,
   "metadata": {
    "collapsed": true
   },
   "outputs": [],
   "source": [
    "dtype_dict = {'bathrooms':float, 'waterfront':int, 'sqft_above':int, 'sqft_living15':float, 'grade':int, 'yr_renovated':int, 'price':float, 'bedrooms':float, 'zipcode':str, 'long':float, 'sqft_lot15':float, 'sqft_living':float, 'floors':float, 'condition':int, 'lat':float, 'date':str, 'sqft_basement':int, 'yr_built':int, 'id':str, 'sqft_lot':int, 'view':int}"
   ]
  },
  {
   "cell_type": "markdown",
   "metadata": {},
   "source": [
    "### Function for adding poly features"
   ]
  },
  {
   "cell_type": "code",
   "execution_count": 7,
   "metadata": {
    "collapsed": true
   },
   "outputs": [],
   "source": [
    "def polynomial_features(feature, degree):\n",
    "    \"\"\"\n",
    "        feature -> np.array()\n",
    "        degree  -> integer\n",
    "    \"\"\"\n",
    "    poly_df = pd.DataFrame({'power_1' : feature})\n",
    "    if degree > 1:\n",
    "        for power in range(2, degree+1):\n",
    "            name = 'power_' + str(power)\n",
    "            poly_df[name] = np.power(feature, power)\n",
    "    return poly_df"
   ]
  },
  {
   "cell_type": "code",
   "execution_count": 8,
   "metadata": {
    "collapsed": true
   },
   "outputs": [],
   "source": [
    "sales = pd.read_csv('kc_house_data.csv', dtype=dtype_dict)\n",
    "sales = sales.sort(['sqft_living','price'])"
   ]
  },
  {
   "cell_type": "code",
   "execution_count": 9,
   "metadata": {
    "collapsed": true
   },
   "outputs": [],
   "source": [
    "poly15_data = polynomial_features(sales['sqft_living'], 15)"
   ]
  },
  {
   "cell_type": "code",
   "execution_count": 10,
   "metadata": {
    "collapsed": false
   },
   "outputs": [
    {
     "data": {
      "text/plain": [
       "Ridge(alpha=1.5e-05, copy_X=True, fit_intercept=True, max_iter=None,\n",
       "   normalize=True, solver='auto', tol=0.001)"
      ]
     },
     "execution_count": 10,
     "metadata": {},
     "output_type": "execute_result"
    }
   ],
   "source": [
    "l2_penalty = 1.5e-5\n",
    "model = sklearn.linear_model.Ridge(alpha = l2_penalty, normalize = True)\n",
    "model.fit(poly15_data, sales['price'])"
   ]
  },
  {
   "cell_type": "markdown",
   "metadata": {},
   "source": [
    "##  Quiz Question: What’s the learned value for the coefficient of feature power_1?"
   ]
  },
  {
   "cell_type": "code",
   "execution_count": 13,
   "metadata": {
    "collapsed": false
   },
   "outputs": [
    {
     "name": "stdout",
     "output_type": "stream",
     "text": [
      "[  1.24873306e+02  -4.77376011e-02   3.01446238e-05  -2.44419942e-09\n",
      "  -1.94153675e-13   8.54085686e-18   1.51142121e-21   8.27979094e-26\n",
      "   6.52603100e-31  -3.27895017e-34  -3.87962315e-38  -2.72437650e-42\n",
      "  -1.07790800e-46   3.78242694e-51   1.39790296e-54]\n"
     ]
    }
   ],
   "source": [
    "print model.coef_"
   ]
  },
  {
   "cell_type": "markdown",
   "metadata": {},
   "source": [
    "# Observe Overfitting"
   ]
  },
  {
   "cell_type": "code",
   "execution_count": 19,
   "metadata": {
    "collapsed": true
   },
   "outputs": [],
   "source": [
    "set_1 = pd.read_csv('wk3_kc_house_set_1_data.csv', dtype=dtype_dict)\n",
    "set_2 = pd.read_csv('wk3_kc_house_set_2_data.csv', dtype=dtype_dict)\n",
    "set_3 = pd.read_csv('wk3_kc_house_set_3_data.csv', dtype=dtype_dict)\n",
    "set_4 = pd.read_csv('wk3_kc_house_set_4_data.csv', dtype=dtype_dict)\n",
    "\n",
    "import matplotlib.pyplot as plt\n",
    "%matplotlib inline"
   ]
  },
  {
   "cell_type": "code",
   "execution_count": 34,
   "metadata": {
    "collapsed": true
   },
   "outputs": [],
   "source": [
    "def fit_15th_order_poly(feature, target, order, l2_penalty):\n",
    "    poly = polynomial_features(feature, order)\n",
    "    model = sklearn.linear_model.Ridge(alpha = l2_penalty, normalize = True)\n",
    "    model.fit(poly, target)\n",
    "    return model, poly, target\n",
    "\n",
    "def plot_tune(model, poly, target):\n",
    "    plt.plot(poly['power_1'], target, '.',\n",
    "             poly['power_1'], model.predict(poly),'-')\n",
    "    \n",
    "def plot_tune_reduced(model, poly, target):\n",
    "    plt.plot(poly['power_1'], model.predict(poly), '-')"
   ]
  },
  {
   "cell_type": "code",
   "execution_count": 27,
   "metadata": {
    "collapsed": true
   },
   "outputs": [],
   "source": [
    "ll = [fit_15th_order_poly(x['sqft_living'], x['price'], 15, 1e-9) for x in [set_1, set_2, set_3, set_4]]"
   ]
  },
  {
   "cell_type": "code",
   "execution_count": 28,
   "metadata": {
    "collapsed": false
   },
   "outputs": [
    {
     "data": {
      "text/plain": [
       "[None, None, None, None]"
      ]
     },
     "execution_count": 28,
     "metadata": {},
     "output_type": "execute_result"
    },
    {
     "data": {
      "image/png": "[encoded data removed]",
      "text/plain": [
       "<matplotlib.figure.Figure at 0x10a663190>"
      ]
     },
     "metadata": {},
     "output_type": "display_data"
    }
   ],
   "source": [
    "[plot_tune(x[0], x[1], x[2]) for x in ll]"
   ]
  },
  {
   "cell_type": "markdown",
   "metadata": {},
   "source": [
    "### Quiz Question: For the models learned in each of these training sets, what are the smallest and largest values you learned for the coefficient of feature power_1?"
   ]
  },
  {
   "cell_type": "code",
   "execution_count": 30,
   "metadata": {
    "collapsed": false
   },
   "outputs": [
    {
     "data": {
      "text/plain": [
       "[544.66940487941861,\n",
       " 859.36266318683192,\n",
       " -755.3958208136238,\n",
       " 1119.4456924088965]"
      ]
     },
     "execution_count": 30,
     "metadata": {},
     "output_type": "execute_result"
    }
   ],
   "source": [
    "[x[0].coef_[0] for x in ll]"
   ]
  },
  {
   "cell_type": "markdown",
   "metadata": {},
   "source": [
    "## Ridge regression comes to rescue\n",
    "\n"
   ]
  },
  {
   "cell_type": "markdown",
   "metadata": {},
   "source": [
    "### Fitting Ridge with large l2 penalty"
   ]
  },
  {
   "cell_type": "code",
   "execution_count": 32,
   "metadata": {
    "collapsed": true
   },
   "outputs": [],
   "source": [
    "l2_large_penalty = 1.23e2\n",
    "ll = [fit_15th_order_poly(x['sqft_living'], x['price'], 15, l2_large_penalty) for x in [set_1, set_2, set_3, set_4]]"
   ]
  },
  {
   "cell_type": "code",
   "execution_count": 35,
   "metadata": {
    "collapsed": false
   },
   "outputs": [
    {
     "data": {
      "text/plain": [
       "[None, None, None, None]"
      ]
     },
     "execution_count": 35,
     "metadata": {},
     "output_type": "execute_result"
    },
    {
     "data": {
      "image/png": "[encoded data removed]",
      "text/plain": [
       "<matplotlib.figure.Figure at 0x108c40110>"
      ]
     },
     "metadata": {},
     "output_type": "display_data"
    }
   ],
   "source": [
    "[plot_tune_reduced(x[0], x[1], x[2]) for x in ll]"
   ]
  },
  {
   "cell_type": "markdown",
   "metadata": {},
   "source": [
    "###  QUIZ QUESTION: For the models learned with regularization in each of these training sets, what are the smallest and largest values you learned for the coefficient of feature power_1?"
   ]
  },
  {
   "cell_type": "code",
   "execution_count": 36,
   "metadata": {
    "collapsed": false
   },
   "outputs": [
    {
     "data": {
      "text/plain": [
       "[2.3280680295793248, 2.0975690277785488, 2.289062581189202, 2.0859619409193062]"
      ]
     },
     "execution_count": 36,
     "metadata": {},
     "output_type": "execute_result"
    }
   ],
   "source": [
    "[x[0].coef_[0] for x in ll]"
   ]
  },
  {
   "cell_type": "markdown",
   "metadata": {},
   "source": [
    "## Selecting an L2 penalty via cross-validation"
   ]
  },
  {
   "cell_type": "code",
   "execution_count": 37,
   "metadata": {
    "collapsed": true
   },
   "outputs": [],
   "source": [
    "train_valid_shuffled = pd.read_csv('wk3_kc_house_train_valid_shuffled.csv', dtype=dtype_dict)\n",
    "test = pd.read_csv('wk3_kc_house_test_data.csv', dtype=dtype_dict)"
   ]
  },
  {
   "cell_type": "markdown",
   "metadata": {},
   "source": [
    "## Implementing k-fold"
   ]
  },
  {
   "cell_type": "code",
   "execution_count": 43,
   "metadata": {
    "collapsed": true
   },
   "outputs": [],
   "source": [
    "def k_fold_ridge(data, target, nfold, l2_penalty):\n",
    "    n = len(data)\n",
    "    RSS_full = []\n",
    "    for i in xrange(nfold):\n",
    "        start = (n * i) / nfold\n",
    "        end = (n * (i + 1)) / nfold - 1\n",
    "        test = data[start:(end+1)]\n",
    "        train = data[0:start].append(data[(end+1):n])\n",
    "        model = sklearn.linear_model.Ridge(alpha=l2_penalty, normalize=True)\n",
    "        model.fit(train, target[0:start].append(target[(end+1):n]))\n",
    "        preds = model.predict(test)\n",
    "        RSS = sum([(x - y)**2 for x,y in zip(preds,target[start:(end + 1)])])\n",
    "        RSS_full.append(RSS)\n",
    "    \n",
    "    return np.mean(RSS)"
   ]
  },
  {
   "cell_type": "code",
   "execution_count": 39,
   "metadata": {
    "collapsed": true
   },
   "outputs": [],
   "source": [
    "l2 = np.logspace(3, 9, num=13)"
   ]
  },
  {
   "cell_type": "code",
   "execution_count": 40,
   "metadata": {
    "collapsed": false
   },
   "outputs": [
    {
     "data": {
      "text/plain": [
       "array([  1.00000000e+03,   3.16227766e+03,   1.00000000e+04,\n",
       "         3.16227766e+04,   1.00000000e+05,   3.16227766e+05,\n",
       "         1.00000000e+06,   3.16227766e+06,   1.00000000e+07,\n",
       "         3.16227766e+07,   1.00000000e+08,   3.16227766e+08,\n",
       "         1.00000000e+09])"
      ]
     },
     "execution_count": 40,
     "metadata": {},
     "output_type": "execute_result"
    }
   ],
   "source": [
    "l2"
   ]
  },
  {
   "cell_type": "code",
   "execution_count": 41,
   "metadata": {
    "collapsed": true
   },
   "outputs": [],
   "source": [
    "poly = polynomial_features(train_valid_shuffled['sqft_living'], 15)"
   ]
  },
  {
   "cell_type": "code",
   "execution_count": 46,
   "metadata": {
    "collapsed": false
   },
   "outputs": [],
   "source": [
    "ll = [{'l2_penalty' : x, 'average_rss' : k_fold_ridge(poly, train_valid_shuffled['price'], 10, x) } for x in l2]"
   ]
  },
  {
   "cell_type": "code",
   "execution_count": 47,
   "metadata": {
    "collapsed": false
   },
   "outputs": [
    {
     "name": "stdout",
     "output_type": "stream",
     "text": [
      "[{'l2_penalty': 1000.0, 'average_rss': 311930035765963.19}, {'l2_penalty': 3162.2776601683795, 'average_rss': 312887608807465.12}, {'l2_penalty': 10000.0, 'average_rss': 313192965569823.0}, {'l2_penalty': 31622.776601683792, 'average_rss': 313289785340337.0}, {'l2_penalty': 100000.0, 'average_rss': 313320428282162.62}, {'l2_penalty': 316227.76601683791, 'average_rss': 313330121018385.38}, {'l2_penalty': 1000000.0, 'average_rss': 313333186389520.62}, {'l2_penalty': 3162277.6601683795, 'average_rss': 313334155770871.62}, {'l2_penalty': 10000000.0, 'average_rss': 313334462318758.19}, {'l2_penalty': 31622776.601683792, 'average_rss': 313334559257970.88}, {'l2_penalty': 100000000.0, 'average_rss': 313334589912866.81}, {'l2_penalty': 316227766.01683795, 'average_rss': 313334599606798.88}, {'l2_penalty': 1000000000.0, 'average_rss': 313334602672290.06}]\n"
     ]
    }
   ],
   "source": [
    "print ll"
   ]
  },
  {
   "cell_type": "markdown",
   "metadata": {},
   "source": [
    "### Quiz Question: What is the best value for the L2 penalty according to 10-fold validation?"
   ]
  },
  {
   "cell_type": "code",
   "execution_count": 50,
   "metadata": {
    "collapsed": false
   },
   "outputs": [
    {
     "name": "stdout",
     "output_type": "stream",
     "text": [
      "{'l2_penalty': 1000.0, 'average_rss': 311930035765963.19}\n"
     ]
    }
   ],
   "source": [
    "best = reduce(lambda a,b : a if a['average_rss'] < b['average_rss'] else b, ll)\n",
    "print best"
   ]
  },
  {
   "cell_type": "markdown",
   "metadata": {},
   "source": [
    "### Quiz Question: Using the best L2 penalty found above, train a model using all training data. What is the RSS on the TEST data of the model you learn with this L2 penalty?"
   ]
  },
  {
   "cell_type": "code",
   "execution_count": 51,
   "metadata": {
    "collapsed": false
   },
   "outputs": [
    {
     "data": {
      "text/plain": [
       "Ridge(alpha=1000.0, copy_X=True, fit_intercept=True, max_iter=None,\n",
       "   normalize=True, solver='auto', tol=0.001)"
      ]
     },
     "execution_count": 51,
     "metadata": {},
     "output_type": "execute_result"
    }
   ],
   "source": [
    "final_model = sklearn.linear_model.Ridge(alpha= best['l2_penalty'], normalize = True)\n",
    "final_model.fit(poly, train_valid_shuffled['price'])"
   ]
  },
  {
   "cell_type": "code",
   "execution_count": 52,
   "metadata": {
    "collapsed": true
   },
   "outputs": [],
   "source": [
    "preds = final_model.predict(polynomial_features(test['sqft_living'], 15))"
   ]
  },
  {
   "cell_type": "code",
   "execution_count": 53,
   "metadata": {
    "collapsed": true
   },
   "outputs": [],
   "source": [
    "RSS = sum([(x-y)**2 for x,y in zip(preds, test['price'])])"
   ]
  },
  {
   "cell_type": "code",
   "execution_count": 54,
   "metadata": {
    "collapsed": false
   },
   "outputs": [
    {
     "name": "stdout",
     "output_type": "stream",
     "text": [
      "2.83856861224e+14\n"
     ]
    }
   ],
   "source": [
    "print RSS"
   ]
  },
  {
   "cell_type": "code",
   "execution_count": null,
   "metadata": {
    "collapsed": true
   },
   "outputs": [],
   "source": []
  }
 ],
 "metadata": {
  "kernelspec": {
   "display_name": "Python 2",
   "language": "python",
   "name": "python2"
  },
  "language_info": {
   "codemirror_mode": {
    "name": "ipython",
    "version": 2
   },
   "file_extension": ".py",
   "mimetype": "text/x-python",
   "name": "python",
   "nbconvert_exporter": "python",
   "pygments_lexer": "ipython2",
   "version": "2.7.10"
  }
 },
 "nbformat": 4,
 "nbformat_minor": 0
}
