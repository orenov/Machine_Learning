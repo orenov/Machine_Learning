{
 "cells": [
  {
   "cell_type": "code",
   "execution_count": 2,
   "metadata": {
    "collapsed": true
   },
   "outputs": [],
   "source": [
    "import pandas as pd\n",
    "import numpy as np\n",
    "\n",
    "dtype_dict = {'bathrooms':float, 'waterfront':int, 'sqft_above':int,\n",
    "              'sqft_living15':float, 'grade':int, 'yr_renovated':int,\n",
    "              'price':float, 'bedrooms':float, 'zipcode':str, 'long':float,\n",
    "              'sqft_lot15':float, 'sqft_living':float, 'floors':str, 'condition':int,\n",
    "              'lat':float, 'date':str, 'sqft_basement':int, 'yr_built':int, 'id':str,\n",
    "              'sqft_lot':int, 'view':int}"
   ]
  },
  {
   "cell_type": "code",
   "execution_count": 3,
   "metadata": {
    "collapsed": true
   },
   "outputs": [],
   "source": [
    "train_data = pd.read_csv(\"kc_house_train_data.csv\", dtype = dtype_dict)\n",
    "test_data = pd.read_csv('kc_house_test_data.csv', dtype = dtype_dict)  "
   ]
  },
  {
   "cell_type": "code",
   "execution_count": 4,
   "metadata": {
    "collapsed": true
   },
   "outputs": [],
   "source": [
    "def get_numpy_data(data_pd, features, output):\n",
    "    data_pd['constant'] = 1\n",
    "    features = ['constant'] + features\n",
    "    features_matrix = np.array(data_pd[features])\n",
    "    output_array = np.array(data_pd[output])\n",
    "\n",
    "    return(features_matrix, output_array)"
   ]
  },
  {
   "cell_type": "code",
   "execution_count": 5,
   "metadata": {
    "collapsed": true
   },
   "outputs": [],
   "source": [
    "def predict_outcome(feature_matrix, weights):\n",
    "    predictions = feature_matrix.dot(weights)\n",
    "    return(predictions)"
   ]
  },
  {
   "cell_type": "code",
   "execution_count": 6,
   "metadata": {
    "collapsed": true
   },
   "outputs": [],
   "source": [
    "def feature_derivative(errors, feature):\n",
    "    derivative = 2 * errors.dot(feature)\n",
    "    return(derivative)"
   ]
  },
  {
   "cell_type": "code",
   "execution_count": 21,
   "metadata": {
    "collapsed": true
   },
   "outputs": [],
   "source": [
    "import math\n",
    "\n",
    "def regression_gradient_descent(feature_matrix, output, initial_weights, step_size, tolerance):\n",
    "    converged = False\n",
    "    weights = np.array(initial_weights)\n",
    "    while not converged:\n",
    "        predictions = predict_outcome(feature_matrix, weights)\n",
    "        errors = np.array([x-y for x,y in zip(predictions, output)])\n",
    "        \n",
    "        gradient_sum_squares = 0\n",
    "        for i in range(len(weights)):\n",
    "            derivative = feature_derivative(errors, feature_matrix[:,i])\n",
    "            gradient_sum_squares += derivative**2\n",
    "            \n",
    "            weights[i] = weights[i] - step_size * derivative\n",
    "        \n",
    "        gradient_magnitude = math.sqrt(gradient_sum_squares)\n",
    "        print gradient_magnitude\n",
    "        if gradient_magnitude < tolerance:\n",
    "            converged = True\n",
    "    return(weights)"
   ]
  },
  {
   "cell_type": "markdown",
   "metadata": {},
   "source": [
    "### Testing code"
   ]
  },
  {
   "cell_type": "code",
   "execution_count": 22,
   "metadata": {
    "collapsed": true
   },
   "outputs": [],
   "source": [
    "simple_features = ['sqft_living']\n",
    "my_output= 'price'\n",
    "(simple_feature_matrix, output) = get_numpy_data(train_data, simple_features, my_output)\n",
    "initial_weights = np.array([-47000., 1.])\n",
    "step_size = 7e-12\n",
    "tolerance = 2.5e7"
   ]
  },
  {
   "cell_type": "code",
   "execution_count": 23,
   "metadata": {
    "collapsed": false
   },
   "outputs": [
    {
     "name": "stdout",
     "output_type": "stream",
     "text": [
      "5.0551530785e+13\n",
      "1.31274510263e+13\n",
      "3.40899608324e+12\n",
      "8.85263580285e+11\n",
      "2.29889265768e+11\n",
      "59698688272.2\n",
      "15502826425.3\n",
      "4025844402.35\n",
      "1045449748.39\n",
      "271487891.953\n",
      "70504114.8434\n",
      "18320017.2673\n"
     ]
    }
   ],
   "source": [
    "simple_weights = regression_gradient_descent(simple_feature_matrix, output,initial_weights, step_size, tolerance)"
   ]
  },
  {
   "cell_type": "code",
   "execution_count": 24,
   "metadata": {
    "collapsed": false
   },
   "outputs": [
    {
     "data": {
      "text/plain": [
       "array([-46999.88716555,    281.91211918])"
      ]
     },
     "execution_count": 24,
     "metadata": {},
     "output_type": "execute_result"
    }
   ],
   "source": [
    "simple_weights"
   ]
  },
  {
   "cell_type": "code",
   "execution_count": 25,
   "metadata": {
    "collapsed": true
   },
   "outputs": [],
   "source": [
    "(simple_test_feature_matrx, output_test) = get_numpy_data(test_data, simple_features, my_output)"
   ]
  },
  {
   "cell_type": "code",
   "execution_count": 26,
   "metadata": {
    "collapsed": true
   },
   "outputs": [],
   "source": [
    "test_predictions = predict_outcome(simple_test_feature_matrx, simple_weights)"
   ]
  },
  {
   "cell_type": "code",
   "execution_count": 27,
   "metadata": {
    "collapsed": false
   },
   "outputs": [
    {
     "name": "stdout",
     "output_type": "stream",
     "text": [
      "[ 356134.443255    784640.86440132  435069.83662406  607036.22932094\n",
      "  260284.32273543]\n"
     ]
    }
   ],
   "source": [
    "print test_predictions[:5]"
   ]
  },
  {
   "cell_type": "markdown",
   "metadata": {},
   "source": [
    "## Compute RSS on test Data"
   ]
  },
  {
   "cell_type": "code",
   "execution_count": 28,
   "metadata": {
    "collapsed": false
   },
   "outputs": [
    {
     "name": "stdout",
     "output_type": "stream",
     "text": [
      "16595181.376\n"
     ]
    }
   ],
   "source": [
    "RSS = sum([(x-y)**2 for x,y in zip(test_predictions, output_test)])\n",
    "print math.sqrt(RSS)"
   ]
  },
  {
   "cell_type": "markdown",
   "metadata": {},
   "source": [
    "### Model  Number 2"
   ]
  },
  {
   "cell_type": "code",
   "execution_count": 30,
   "metadata": {
    "collapsed": false
   },
   "outputs": [
    {
     "name": "stdout",
     "output_type": "stream",
     "text": [
      "7.3072020556e+13\n",
      "2.26732209675e+13\n",
      "7.06079458349e+12\n",
      "2.27568239659e+12\n",
      "9.28984110636e+11\n",
      "6.56307431863e+11\n",
      "6.10615358663e+11\n",
      "5.9307877202e+11\n",
      "5.78705926686e+11\n",
      "5.64945682565e+11\n",
      "5.51538687675e+11\n",
      "5.38452428981e+11\n",
      "5.25676918666e+11\n",
      "5.13204549506e+11\n",
      "5.01028105997e+11\n",
      "4.89140564644e+11\n",
      "4.77535070645e+11\n",
      "4.66204932038e+11\n",
      "4.55143615657e+11\n",
      "4.44344743348e+11\n",
      "4.33802088283e+11\n",
      "4.23509571376e+11\n",
      "4.13461257776e+11\n",
      "4.03651353442e+11\n",
      "3.94074201805e+11\n",
      "3.84724280507e+11\n",
      "3.75596198212e+11\n",
      "3.66684691503e+11\n",
      "3.57984621843e+11\n",
      "3.49490972614e+11\n",
      "3.41198846224e+11\n",
      "3.33103461282e+11\n",
      "3.25200149843e+11\n",
      "3.17484354712e+11\n",
      "3.09951626824e+11\n",
      "3.0259762267e+11\n",
      "2.95418101798e+11\n",
      "2.88408924365e+11\n",
      "2.81566048754e+11\n",
      "2.74885529238e+11\n",
      "2.68363513707e+11\n",
      "2.61996241449e+11\n",
      "2.55780040981e+11\n",
      "2.49711327926e+11\n",
      "2.43786602956e+11\n",
      "2.38002449767e+11\n",
      "2.3235553311e+11\n",
      "2.26842596872e+11\n",
      "2.21460462192e+11\n",
      "2.16206025635e+11\n",
      "2.11076257397e+11\n",
      "2.0606819956e+11\n",
      "2.01178964388e+11\n",
      "1.96405732658e+11\n",
      "1.91745752039e+11\n",
      "1.87196335501e+11\n",
      "1.82754859769e+11\n",
      "1.78418763805e+11\n",
      "1.7418554734e+11\n",
      "1.70052769423e+11\n",
      "1.66018047019e+11\n",
      "1.62079053635e+11\n",
      "1.58233517976e+11\n",
      "1.54479222635e+11\n",
      "1.50814002818e+11\n",
      "1.47235745092e+11\n",
      "1.4374238617e+11\n",
      "1.40331911717e+11\n",
      "1.37002355192e+11\n",
      "1.33751796711e+11\n",
      "1.30578361944e+11\n",
      "1.27480221031e+11\n",
      "1.24455587528e+11\n",
      "1.21502717375e+11\n",
      "1.18619907894e+11\n",
      "1.15805496806e+11\n",
      "1.13057861269e+11\n",
      "1.10375416948e+11\n",
      "1.07756617095e+11\n",
      "1.05199951664e+11\n",
      "1.02703946434e+11\n",
      "1.00267162164e+11\n",
      "97888193760.0\n",
      "95565669465.3\n",
      "93298250070.3\n",
      "91084628139.8\n",
      "88923527259.3\n",
      "86813701298.7\n",
      "84753933694.1\n",
      "82743036746.2\n",
      "80779850935.2\n",
      "78863244252.6\n",
      "76992111548.1\n",
      "75165373892.7\n",
      "73381977956.3\n",
      "71640895400.3\n",
      "69941122285.1\n",
      "68281678490.6\n",
      "66661607151.4\n",
      "65079974104.8\n",
      "63535867352.7\n",
      "62028396535.0\n",
      "60556692416.6\n",
      "59119906386.4\n",
      "57717209967.3\n",
      "56347794339.1\n",
      "55010869872.0\n",
      "53705665671.0\n",
      "52431429131.7\n",
      "51187425506.1\n",
      "49972937479.3\n",
      "48787264755.3\n",
      "47629723653.8\n",
      "46499646715.5\n",
      "45396382317.5\n",
      "44319294297.6\n",
      "43267761587.3\n",
      "42241177853.7\n",
      "41238951150.1\n",
      "40260503574.2\n",
      "39305270935.5\n",
      "38372702429.5\n",
      "37462260320.2\n",
      "36573419630.3\n",
      "35705667838.0\n",
      "34858504581.9\n",
      "34031441372.3\n",
      "33224001309.5\n",
      "32435718809.0\n",
      "31666139332.7\n",
      "30914819127.1\n",
      "30181324967.5\n",
      "29465233907.6\n",
      "28766133036.5\n",
      "28083619239.8\n",
      "27417298967.8\n",
      "26766788008.0\n",
      "26131711264.0\n",
      "25511702539.2\n",
      "24906404325.0\n",
      "24315467595.8\n",
      "23738551606.5\n",
      "23175323696.9\n",
      "22625459099.7\n",
      "22088640752.9\n",
      "21564559117.3\n",
      "21052911998.0\n",
      "20553404369.8\n",
      "20065748207.7\n",
      "19589662320.3\n",
      "19124872187.7\n",
      "18671109803.6\n",
      "18228113520.3\n",
      "17795627898.1\n",
      "17373403558.0\n",
      "16961197037.8\n",
      "16558770651.6\n",
      "16165892353.2\n",
      "15782335601.8\n",
      "15407879231.6\n",
      "15042307324.2\n",
      "14685409084.2\n",
      "14336978717.7\n",
      "13996815313.4\n",
      "13664722726.8\n",
      "13340509467.4\n",
      "13023988588.0\n",
      "12714977576.7\n",
      "12413298252.4\n",
      "12118776661.1\n",
      "11831242976.4\n",
      "11550531401.2\n",
      "11276480072.1\n",
      "11008930966.0\n",
      "10747729809.4\n",
      "10492725988.9\n",
      "10243772464.7\n",
      "10000725685.6\n",
      "9763445506.46\n",
      "9531795107.24\n",
      "9305640914.09\n",
      "9084852522.42\n",
      "8869302621.61\n",
      "8658866921.69\n",
      "8453424081.62\n",
      "8252855639.31\n",
      "8057045943.37\n",
      "7865882086.38\n",
      "7679253839.78\n",
      "7497053590.33\n",
      "7319176278.07\n",
      "7145519335.71\n",
      "6975982629.51\n",
      "6810468401.51\n",
      "6648881213.22\n",
      "6491127890.53\n",
      "6337117470.01\n",
      "6186761146.44\n",
      "6039972221.66\n",
      "5896666054.5\n",
      "5756760012.02\n",
      "5620173421.87\n",
      "5486827525.72\n",
      "5356645433.92\n",
      "5229552081.11\n",
      "5105474182.96\n",
      "4984340193.9\n",
      "4866080265.87\n",
      "4750626208.05\n",
      "4637911447.53\n",
      "4527870990.94\n",
      "4420441386.96\n",
      "4315560689.71\n",
      "4213168423.1\n",
      "4113205545.88\n",
      "4015614417.64\n",
      "3920338765.56\n",
      "3827323651.98\n",
      "3736515442.68\n",
      "3647861776.02\n",
      "3561311532.67\n",
      "3476814806.2\n",
      "3394322874.25\n",
      "3313788170.49\n",
      "3235164257.14\n",
      "3158405798.23\n",
      "3083468533.42\n",
      "3010309252.55\n",
      "2938885770.64\n",
      "2869156903.6\n",
      "2801082444.52\n",
      "2734623140.42\n",
      "2669740669.66\n",
      "2606397619.83\n",
      "2544557466.18\n",
      "2484184550.56\n",
      "2425244060.84\n",
      "2367702010.87\n",
      "2311525220.85\n",
      "2256681298.24\n",
      "2203138619.03\n",
      "2150866309.53\n",
      "2099834228.6\n",
      "2050012950.19\n",
      "2001373746.46\n",
      "1953888571.17\n",
      "1907530043.49\n",
      "1862271432.26\n",
      "1818086640.54\n",
      "1774950190.58\n",
      "1732837209.12\n",
      "1691723413.05\n",
      "1651585095.41\n",
      "1612399111.71\n",
      "1574142866.61\n",
      "1536794300.85\n",
      "1500331878.59\n",
      "1464734574.93\n",
      "1429981863.8\n",
      "1396053706.18\n",
      "1362930538.46\n",
      "1330593261.24\n",
      "1299023228.24\n",
      "1268202235.61\n",
      "1238112511.42\n",
      "1208736705.37\n",
      "1180057878.84\n",
      "1152059495.11\n",
      "1124725409.8\n",
      "1098039861.57\n",
      "1071987463.06\n",
      "1046553191.98\n",
      "1021722382.47\n",
      "997480716.63\n"
     ]
    }
   ],
   "source": [
    "model_features = ['sqft_living', 'sqft_living15']\n",
    "my_output = 'price'\n",
    "(feature_matrix, output) = get_numpy_data(train_data, model_features,my_output)\n",
    "initial_weights = np.array([-100000., 1., 1.])\n",
    "step_size = 4e-12\n",
    "tolerance = 1e9\n",
    "adv_weights = regression_gradient_descent(feature_matrix, output, initial_weights, step_size, tolerance)"
   ]
  },
  {
   "cell_type": "markdown",
   "metadata": {},
   "source": [
    "### Predicting model2 on test data"
   ]
  },
  {
   "cell_type": "code",
   "execution_count": 32,
   "metadata": {
    "collapsed": false
   },
   "outputs": [
    {
     "name": "stdout",
     "output_type": "stream",
     "text": [
      "[ 366651.41162949  762662.39850726  386312.09557541  636989.65007208\n",
      "  269618.02584477]\n",
      "[ 310000.  650000.  233000.  580500.  535000.]\n"
     ]
    }
   ],
   "source": [
    "(adv_test_feature_matrx, output_test) = get_numpy_data(test_data, model_features, my_output)\n",
    "test_predictions2 = predict_outcome(adv_test_feature_matrx, adv_weights)\n",
    "print test_predictions2[:5]\n",
    "print output_test[:5]"
   ]
  },
  {
   "cell_type": "markdown",
   "metadata": {},
   "source": [
    "## Compute RSS"
   ]
  },
  {
   "cell_type": "code",
   "execution_count": 33,
   "metadata": {
    "collapsed": false
   },
   "outputs": [
    {
     "name": "stdout",
     "output_type": "stream",
     "text": [
      "16439691.1051\n"
     ]
    }
   ],
   "source": [
    "RSS = sum([(x-y)**2 for x,y in zip(test_predictions2, output_test)])\n",
    "print math.sqrt(RSS)"
   ]
  },
  {
   "cell_type": "code",
   "execution_count": null,
   "metadata": {
    "collapsed": true
   },
   "outputs": [],
   "source": []
  }
 ],
 "metadata": {
  "kernelspec": {
   "display_name": "Python 2",
   "language": "python",
   "name": "python2"
  },
  "language_info": {
   "codemirror_mode": {
    "name": "ipython",
    "version": 2
   },
   "file_extension": ".py",
   "mimetype": "text/x-python",
   "name": "python",
   "nbconvert_exporter": "python",
   "pygments_lexer": "ipython2",
   "version": "2.7.10"
  }
 },
 "nbformat": 4,
 "nbformat_minor": 0
}
