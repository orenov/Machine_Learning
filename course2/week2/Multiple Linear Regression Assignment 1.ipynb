{
 "cells": [
  {
   "cell_type": "code",
   "execution_count": 30,
   "metadata": {
    "collapsed": false
   },
   "outputs": [],
   "source": [
    "import sframe\n",
    "import numpy as np\n",
    "import pandas as pd"
   ]
  },
  {
   "cell_type": "code",
   "execution_count": 31,
   "metadata": {
    "collapsed": false
   },
   "outputs": [],
   "source": [
    "train_data = pd.read_csv(\"kc_house_train_data.csv\")\n",
    "test_data  = pd.read_csv(\"kc_house_test_data.csv\")"
   ]
  },
  {
   "cell_type": "code",
   "execution_count": 4,
   "metadata": {
    "collapsed": true
   },
   "outputs": [],
   "source": []
  },
  {
   "cell_type": "markdown",
   "metadata": {},
   "source": [
    "### Creating new features"
   ]
  },
  {
   "cell_type": "code",
   "execution_count": 32,
   "metadata": {
    "collapsed": true
   },
   "outputs": [],
   "source": [
    "train_data['bedrooms_squared'] = train_data['bedrooms'] * train_data['bedrooms']\n",
    "train_data['bed_bath_rooms'] = train_data['bedrooms'] * train_data['bathrooms']\n",
    "train_data['log_sqft_living'] = np.log(train_data['sqft_living'])\n",
    "train_data['lat_plus_long'] = train_data['lat'] + train_data['long']\n",
    "# Test\n",
    "test_data['bedrooms_squared'] = test_data['bedrooms'] * test_data['bedrooms']\n",
    "test_data['bed_bath_rooms'] = test_data['bedrooms'] * test_data['bathrooms']\n",
    "test_data['log_sqft_living'] = np.log(test_data['sqft_living'])\n",
    "test_data['lat_plus_long'] = test_data['lat'] + test_data['long']\n",
    "\n"
   ]
  },
  {
   "cell_type": "markdown",
   "metadata": {},
   "source": [
    "###Quiz Question: what are the mean (arithmetic average) values of your 4 new variables on TEST data? (round to 2 digits)\n"
   ]
  },
  {
   "cell_type": "code",
   "execution_count": 33,
   "metadata": {
    "collapsed": false
   },
   "outputs": [
    {
     "name": "stdout",
     "output_type": "stream",
     "text": [
      "12.4466777016\n",
      "7.50390163159\n",
      "7.55027467965\n",
      "-74.653333554\n"
     ]
    }
   ],
   "source": [
    "bedrooms_sqaured_mean = test_data['bedrooms_squared'].mean()\n",
    "bed_bath_rooms_mean   = test_data['bed_bath_rooms'].mean()\n",
    "log_sqft_living_mean  = test_data['log_sqft_living'].mean()\n",
    "lat_plus_long_mean    = test_data['lat_plus_long'].mean()\n",
    "\n",
    "print bedrooms_sqaured_mean\n",
    "print bed_bath_rooms_mean\n",
    "print log_sqft_living_mean\n",
    "print lat_plus_long_mean"
   ]
  },
  {
   "cell_type": "code",
   "execution_count": 34,
   "metadata": {
    "collapsed": false
   },
   "outputs": [
    {
     "name": "stdout",
     "output_type": "stream",
     "text": [
      "-11.7881198853\n"
     ]
    }
   ],
   "source": [
    "global_mean = (bedrooms_sqaured_mean + bed_bath_rooms_mean + log_sqft_living_mean + lat_plus_long_mean) /4\n",
    "print global_mean"
   ]
  },
  {
   "cell_type": "code",
   "execution_count": 35,
   "metadata": {
    "collapsed": true
   },
   "outputs": [],
   "source": [
    "from sklearn.linear_model import LinearRegression"
   ]
  },
  {
   "cell_type": "code",
   "execution_count": 40,
   "metadata": {
    "collapsed": true
   },
   "outputs": [],
   "source": [
    "model1 = LinearRegression()\n",
    "model2 = LinearRegression()\n",
    "model3 = LinearRegression()\n"
   ]
  },
  {
   "cell_type": "code",
   "execution_count": 41,
   "metadata": {
    "collapsed": false
   },
   "outputs": [
    {
     "data": {
      "text/plain": [
       "LinearRegression(copy_X=True, fit_intercept=True, normalize=False)"
      ]
     },
     "execution_count": 41,
     "metadata": {},
     "output_type": "execute_result"
    }
   ],
   "source": [
    "model1.fit(train_data[['sqft_living', 'bedrooms', 'bathrooms', 'lat', 'long']], train_data['price'])\n",
    "model2.fit(train_data[['sqft_living', 'bedrooms', 'bathrooms', 'lat', 'long', 'bed_bath_rooms']], train_data['price'])\n",
    "model3.fit(train_data[['sqft_living', 'bedrooms', 'bathrooms', 'lat', 'long', 'bed_bath_rooms', 'bedrooms_squared', 'log_sqft_living', 'lat_plus_long']], train_data['price'])"
   ]
  },
  {
   "cell_type": "markdown",
   "metadata": {},
   "source": [
    "###Quiz Question: What is the sign (positive or negative) for the coefficient/weight for ‘bathrooms’ in Model 1?"
   ]
  },
  {
   "cell_type": "code",
   "execution_count": 45,
   "metadata": {
    "collapsed": false
   },
   "outputs": [
    {
     "name": "stdout",
     "output_type": "stream",
     "text": [
      "15706.7420827\n"
     ]
    }
   ],
   "source": [
    "print model1.coef_[2]"
   ]
  },
  {
   "cell_type": "markdown",
   "metadata": {},
   "source": [
    "###Quiz Question: What is the sign (positive or negative) for the coefficient/weight for ‘bathrooms’ in Model 2?"
   ]
  },
  {
   "cell_type": "code",
   "execution_count": 46,
   "metadata": {
    "collapsed": false
   },
   "outputs": [
    {
     "name": "stdout",
     "output_type": "stream",
     "text": [
      "-71461.3082928\n"
     ]
    }
   ],
   "source": [
    "print model2.coef_[2]"
   ]
  },
  {
   "cell_type": "markdown",
   "metadata": {},
   "source": [
    "### Compute RSS on train data"
   ]
  },
  {
   "cell_type": "code",
   "execution_count": 48,
   "metadata": {
    "collapsed": true
   },
   "outputs": [],
   "source": [
    "pred_train_model1 = model1.predict(train_data[['sqft_living', 'bedrooms', 'bathrooms', 'lat', 'long']])\n",
    "pred_train_model2 = model2.predict(train_data[['sqft_living', 'bedrooms', 'bathrooms', 'lat', 'long', 'bed_bath_rooms']])\n",
    "pred_train_model3 = model3.predict(train_data[['sqft_living', 'bedrooms', 'bathrooms', 'lat', 'long', 'bed_bath_rooms', 'bedrooms_squared', 'log_sqft_living', 'lat_plus_long']])"
   ]
  },
  {
   "cell_type": "code",
   "execution_count": 51,
   "metadata": {
    "collapsed": false
   },
   "outputs": [],
   "source": [
    "rss_train_model1 = sum([(x-y)**2 for x,y in zip(pred_train_model1, train_data['price'])])\n",
    "rss_train_model2 = sum([(x-y)**2 for x,y in zip(pred_train_model2, train_data['price'])])\n",
    "rss_train_model3 = sum([(x-y)**2 for x,y in zip(pred_train_model3, train_data['price'])])"
   ]
  },
  {
   "cell_type": "code",
   "execution_count": 52,
   "metadata": {
    "collapsed": false
   },
   "outputs": [
    {
     "name": "stdout",
     "output_type": "stream",
     "text": [
      "9.6787996305e+14\n",
      "9.58419635074e+14\n",
      "9.0343645505e+14\n"
     ]
    }
   ],
   "source": [
    "print rss_train_model1\n",
    "print rss_train_model2\n",
    "print rss_train_model3"
   ]
  },
  {
   "cell_type": "markdown",
   "metadata": {},
   "source": [
    "### COmpute RSS on test data"
   ]
  },
  {
   "cell_type": "code",
   "execution_count": 53,
   "metadata": {
    "collapsed": true
   },
   "outputs": [],
   "source": [
    "pred_test_model1 = model1.predict(test_data[['sqft_living', 'bedrooms', 'bathrooms', 'lat', 'long']])\n",
    "pred_test_model2 = model2.predict(test_data[['sqft_living', 'bedrooms', 'bathrooms', 'lat', 'long', 'bed_bath_rooms']])\n",
    "pred_test_model3 = model3.predict(test_data[['sqft_living', 'bedrooms', 'bathrooms', 'lat', 'long', 'bed_bath_rooms', 'bedrooms_squared', 'log_sqft_living', 'lat_plus_long']])"
   ]
  },
  {
   "cell_type": "code",
   "execution_count": 54,
   "metadata": {
    "collapsed": true
   },
   "outputs": [],
   "source": [
    "rss_test_model1 = sum([(x-y)**2 for x,y in zip(pred_test_model1, test_data['price'])])\n",
    "rss_test_model2 = sum([(x-y)**2 for x,y in zip(pred_test_model2, test_data['price'])])\n",
    "rss_test_model3 = sum([(x-y)**2 for x,y in zip(pred_test_model3, test_data['price'])])"
   ]
  },
  {
   "cell_type": "code",
   "execution_count": 55,
   "metadata": {
    "collapsed": false
   },
   "outputs": [
    {
     "name": "stdout",
     "output_type": "stream",
     "text": [
      "2.25500469795e+14\n",
      "2.23377462976e+14\n",
      "2.59236319207e+14\n"
     ]
    }
   ],
   "source": [
    "print rss_test_model1\n",
    "print rss_test_model2\n",
    "print rss_test_model3"
   ]
  },
  {
   "cell_type": "code",
   "execution_count": null,
   "metadata": {
    "collapsed": true
   },
   "outputs": [],
   "source": []
  }
 ],
 "metadata": {
  "kernelspec": {
   "display_name": "Python 2",
   "language": "python",
   "name": "python2"
  },
  "language_info": {
   "codemirror_mode": {
    "name": "ipython",
    "version": 2
   },
   "file_extension": ".py",
   "mimetype": "text/x-python",
   "name": "python",
   "nbconvert_exporter": "python",
   "pygments_lexer": "ipython2",
   "version": "2.7.10"
  }
 },
 "nbformat": 4,
 "nbformat_minor": 0
}
