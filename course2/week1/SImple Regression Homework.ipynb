{
 "cells": [
  {
   "cell_type": "code",
   "execution_count": 49,
   "metadata": {
    "collapsed": false
   },
   "outputs": [],
   "source": [
    "import sframe\n",
    "import numpy as np\n",
    "import pandas as pd\n",
    "import scipy"
   ]
  },
  {
   "cell_type": "code",
   "execution_count": 50,
   "metadata": {
    "collapsed": false
   },
   "outputs": [
    {
     "name": "stdout",
     "output_type": "stream",
     "text": [
      "PROGRESS: Finished parsing file /Users/oleksiirenov/Workspace/Education/ml_spec/course2/week1/kc_house_data.csv\n",
      "PROGRESS: Parsing completed. Parsed 100 lines in 0.146534 secs.\n",
      "------------------------------------------------------\n",
      "Inferred types from first line of file as \n",
      "column_type_hints=[int,str,float,int,float,int,int,float,int,int,int,int,int,int,int,int,int,float,float,int,int]\n",
      "If parsing fails due to incorrect types, you can correct\n",
      "the inferred type list above and pass it to read_csv in\n",
      "the column_type_hints argument\n",
      "------------------------------------------------------\n",
      "PROGRESS: Finished parsing file /Users/oleksiirenov/Workspace/Education/ml_spec/course2/week1/kc_house_data.csv\n",
      "PROGRESS: Parsing completed. Parsed 21613 lines in 0.120512 secs.\n",
      "PROGRESS: Finished parsing file /Users/oleksiirenov/Workspace/Education/ml_spec/course2/week1/kc_house_train_data.csv\n",
      "PROGRESS: Parsing completed. Parsed 100 lines in 0.084698 secs.\n",
      "------------------------------------------------------\n",
      "Inferred types from first line of file as \n",
      "column_type_hints=[int,str,float,int,float,int,int,float,int,int,int,int,int,int,int,int,int,float,float,int,int]\n",
      "If parsing fails due to incorrect types, you can correct\n",
      "the inferred type list above and pass it to read_csv in\n",
      "the column_type_hints argument\n",
      "------------------------------------------------------\n",
      "PROGRESS: Finished parsing file /Users/oleksiirenov/Workspace/Education/ml_spec/course2/week1/kc_house_train_data.csv\n",
      "PROGRESS: Parsing completed. Parsed 17384 lines in 0.09825 secs.\n",
      "PROGRESS: Finished parsing file /Users/oleksiirenov/Workspace/Education/ml_spec/course2/week1/kc_house_test_data.csv\n",
      "PROGRESS: Parsing completed. Parsed 100 lines in 0.033156 secs.\n",
      "------------------------------------------------------\n",
      "Inferred types from first line of file as \n",
      "column_type_hints=[int,str,float,int,float,int,int,float,int,int,int,int,int,int,int,int,int,float,float,int,int]\n",
      "If parsing fails due to incorrect types, you can correct\n",
      "the inferred type list above and pass it to read_csv in\n",
      "the column_type_hints argument\n",
      "------------------------------------------------------\n",
      "PROGRESS: Finished parsing file /Users/oleksiirenov/Workspace/Education/ml_spec/course2/week1/kc_house_test_data.csv\n",
      "PROGRESS: Parsing completed. Parsed 4229 lines in 0.028279 secs.\n"
     ]
    }
   ],
   "source": [
    "full_data = sframe.SFrame(\"kc_house_data.csv\")\n",
    "train_data = sframe.SFrame(\"kc_house_train_data.csv\")\n",
    "test_data = sframe.SFrame(\"kc_house_test_data.csv\")"
   ]
  },
  {
   "cell_type": "code",
   "execution_count": 51,
   "metadata": {
    "collapsed": true
   },
   "outputs": [],
   "source": [
    "def simple_linear_regression_closed_form(input_feature, output):\n",
    "    \"\"\"\n",
    "        Input:\n",
    "            - input_feature - 1D numpy array in float32\n",
    "            - output - 1D numpy array in float32\n",
    "        Output:\n",
    "            - Tuple of (intercept, slope)\n",
    "    \"\"\"\n",
    "    avg_input    = input_feature.mean()\n",
    "    avg_output   = output.mean()\n",
    "    avg_input_sq = np.array([x*x for x in input_feature]).mean()\n",
    "    avg_in_out   = np.array([x*y for x,y in zip(input_feature, output)]).mean()\n",
    "    \n",
    "    slope = (avg_in_out - avg_input * avg_output) / (avg_input_sq - avg_input * avg_input)\n",
    "    intercept = avg_output - slope * avg_input\n",
    "    \n",
    "    return (intercept, slope)"
   ]
  },
  {
   "cell_type": "code",
   "execution_count": 52,
   "metadata": {
    "collapsed": false
   },
   "outputs": [],
   "source": [
    "input1 = np.array(train_data['sqft_living'])\n",
    "output1 = np.array(train_data['price'])"
   ]
  },
  {
   "cell_type": "code",
   "execution_count": 53,
   "metadata": {
    "collapsed": false
   },
   "outputs": [
    {
     "name": "stdout",
     "output_type": "stream",
     "text": [
      "-47116.0790729 281.95883963\n"
     ]
    }
   ],
   "source": [
    "intercept1, slope1 = simple_linear_regression_closed_form(input1, output1)\n",
    "print intercept1, slope1"
   ]
  },
  {
   "cell_type": "code",
   "execution_count": 54,
   "metadata": {
    "collapsed": true
   },
   "outputs": [],
   "source": [
    "def get_regression_predictions(input_feature, intercept, slope):\n",
    "    \"\"\"\n",
    "        Input:\n",
    "            - input_feature -> double or np.float32\n",
    "            - intercept -> double or np.float32\n",
    "            - slope -> double or np.float32\n",
    "        Output:\n",
    "            - np.array of predictions\n",
    "    \"\"\"\n",
    "    \n",
    "    predictions = intercept + slope * input_feature\n",
    "    return predictions"
   ]
  },
  {
   "cell_type": "markdown",
   "metadata": {},
   "source": [
    "###  Using your Slope and Intercept from (4), What is the predicted price for a house with 2650 sqft?"
   ]
  },
  {
   "cell_type": "code",
   "execution_count": 55,
   "metadata": {
    "collapsed": false
   },
   "outputs": [
    {
     "name": "stdout",
     "output_type": "stream",
     "text": [
      "700074.55\n",
      "[2650]\n"
     ]
    },
    {
     "data": {
      "text/plain": [
       "array([ 700074.84594751])"
      ]
     },
     "execution_count": 55,
     "metadata": {},
     "output_type": "execute_result"
    }
   ],
   "source": [
    "inp = np.array([2650])\n",
    "print 2650 * 281.959 - 47116.8\n",
    "print inp\n",
    "get_regression_predictions(inp, intercept1, slope1)"
   ]
  },
  {
   "cell_type": "code",
   "execution_count": 23,
   "metadata": {
    "collapsed": true
   },
   "outputs": [],
   "source": [
    "def get_residual_sum_of_squares(input_feature, output, intercept,slope):\n",
    "    \"\"\"\n",
    "        Input:\n",
    "            - input_feature -> np.array\n",
    "            - output -> np.array\n",
    "            - intercept -> double or np.float32\n",
    "            - slope -> double or np.float32\n",
    "        Output:\n",
    "            - RSS -> double\n",
    "    \"\"\"\n",
    "    \n",
    "    predictions = np.array([(intercept + slope * x) for x in input_feature])\n",
    "    residuals = np.array([(y - x) for x,y in zip(predictions, output)])\n",
    "    RSS = sum([x*x for x in residuals])\n",
    "\n",
    "    return(RSS)"
   ]
  },
  {
   "cell_type": "markdown",
   "metadata": {},
   "source": [
    "### Quiz Question: According to this function and the slope and intercept from (4) What is the RSS for the simple linear regression using squarefeet to predict prices on TRAINING data?"
   ]
  },
  {
   "cell_type": "code",
   "execution_count": 24,
   "metadata": {
    "collapsed": false
   },
   "outputs": [
    {
     "name": "stdout",
     "output_type": "stream",
     "text": [
      "-47116.8 281.959\n"
     ]
    },
    {
     "data": {
      "text/plain": [
       "1201918363106895.8"
      ]
     },
     "execution_count": 24,
     "metadata": {},
     "output_type": "execute_result"
    }
   ],
   "source": [
    "print intercept1, slope1\n",
    "get_residual_sum_of_squares(input1, output1, intercept1, slope1)"
   ]
  },
  {
   "cell_type": "code",
   "execution_count": 27,
   "metadata": {
    "collapsed": true
   },
   "outputs": [],
   "source": [
    "def inverse_regression_predictions(output, intercept, slope):\n",
    "    \"\"\"\n",
    "        Input:\n",
    "            - output -> np.array\n",
    "            - intercept -> double\n",
    "            - slope -> double\n",
    "        Output:\n",
    "            - estimated_inputt -> np.array\n",
    "    \"\"\"\n",
    "    \n",
    "    predictions = np.array([(x - intercept)/slope  for x in output], np.float32)\n",
    "    \n",
    "    return(predictions)"
   ]
  },
  {
   "cell_type": "markdown",
   "metadata": {},
   "source": [
    "### Quiz Question: According to this function and the regression slope and intercept from (3) what is the estimated square-feet for a house costing $800,000?"
   ]
  },
  {
   "cell_type": "code",
   "execution_count": 28,
   "metadata": {
    "collapsed": false
   },
   "outputs": [
    {
     "data": {
      "text/plain": [
       "array([ 3004.39501953], dtype=float32)"
      ]
     },
     "execution_count": 28,
     "metadata": {},
     "output_type": "execute_result"
    }
   ],
   "source": [
    "inverse_regression_predictions(np.array([800000], np.float32), intercept1, slope1)"
   ]
  },
  {
   "cell_type": "markdown",
   "metadata": {},
   "source": [
    "### Quiz Question: Which model (square feet or bedrooms) has lowest RSS on TEST data? Think about why this might be the case."
   ]
  },
  {
   "cell_type": "code",
   "execution_count": 29,
   "metadata": {
    "collapsed": true
   },
   "outputs": [],
   "source": [
    "train_sft  = np.array(train_data['sqft_living'], np.float32)\n",
    "test_sft   = np.array(test_data['sqft_living'], np.float32)\n",
    "train_beds = np.array(train_data['bedrooms'], np.float32)\n",
    "test_beds  = np.array(test_data['bedrooms'], np.float32)\n",
    "\n",
    "train_price = np.array(train_data['price'], np.float32)\n",
    "test_price  = np.array(test_data['price'], np.float32)"
   ]
  },
  {
   "cell_type": "code",
   "execution_count": 30,
   "metadata": {
    "collapsed": true
   },
   "outputs": [],
   "source": [
    "intercept_sft, slope_sft = simple_linear_regression_closed_form(train_sft, train_price)"
   ]
  },
  {
   "cell_type": "code",
   "execution_count": 31,
   "metadata": {
    "collapsed": true
   },
   "outputs": [],
   "source": [
    "intercept_beds, slope_beds = simple_linear_regression_closed_form(train_beds, train_price)"
   ]
  },
  {
   "cell_type": "code",
   "execution_count": 32,
   "metadata": {
    "collapsed": false
   },
   "outputs": [
    {
     "data": {
      "text/plain": [
       "275402949448246.12"
      ]
     },
     "execution_count": 32,
     "metadata": {},
     "output_type": "execute_result"
    }
   ],
   "source": [
    "get_residual_sum_of_squares(test_sft, test_price, intercept_sft, slope_sft)"
   ]
  },
  {
   "cell_type": "code",
   "execution_count": 33,
   "metadata": {
    "collapsed": false
   },
   "outputs": [
    {
     "data": {
      "text/plain": [
       "493364564719289.75"
      ]
     },
     "execution_count": 33,
     "metadata": {},
     "output_type": "execute_result"
    }
   ],
   "source": [
    "get_residual_sum_of_squares(test_beds, test_price, intercept_beds, slope_beds)"
   ]
  },
  {
   "cell_type": "code",
   "execution_count": null,
   "metadata": {
    "collapsed": true
   },
   "outputs": [],
   "source": []
  }
 ],
 "metadata": {
  "kernelspec": {
   "display_name": "Python 2",
   "language": "python",
   "name": "python2"
  },
  "language_info": {
   "codemirror_mode": {
    "name": "ipython",
    "version": 2
   },
   "file_extension": ".py",
   "mimetype": "text/x-python",
   "name": "python",
   "nbconvert_exporter": "python",
   "pygments_lexer": "ipython2",
   "version": "2.7.10"
  }
 },
 "nbformat": 4,
 "nbformat_minor": 0
}
