{
 "cells": [
  {
   "cell_type": "code",
   "execution_count": 243,
   "metadata": {
    "collapsed": true
   },
   "outputs": [],
   "source": [
    "import numpy as np\n",
    "import pandas as pd"
   ]
  },
  {
   "cell_type": "code",
   "execution_count": 244,
   "metadata": {
    "collapsed": false
   },
   "outputs": [],
   "source": [
    "data = pd.read_csv(\"lending-club-data.csv\")\n",
    "data['safe_loans'] = data['bad_loans'].apply(lambda x : +1 if x==0 else -1)\n",
    "data.drop('bad_loans', axis = 1, inplace = True)"
   ]
  },
  {
   "cell_type": "markdown",
   "metadata": {},
   "source": [
    "## Selecting Features"
   ]
  },
  {
   "cell_type": "code",
   "execution_count": 245,
   "metadata": {
    "collapsed": true
   },
   "outputs": [],
   "source": [
    "target_name = 'safe_loans'\n",
    "features_names = ['grade',                     # grade of the loan (categorical)\n",
    "            'sub_grade_num',             # sub-grade of the loan as a number from 0 to 1\n",
    "            'short_emp',                 # one year or less of employment\n",
    "            'emp_length_num',            # number of years of employment\n",
    "            'home_ownership',            # home_ownership status: own, mortgage or rent\n",
    "            'dti',                       # debt to income ratio\n",
    "            'purpose',                   # the purpose of the loan\n",
    "            'payment_inc_ratio',         # ratio of the monthly payment to income\n",
    "            'delinq_2yrs',               # number of delinquincies\n",
    "            'delinq_2yrs_zero',          # no delinquincies in last 2 years\n",
    "            'inq_last_6mths',            # number of creditor inquiries in last 6 months\n",
    "            'last_delinq_none',          # has borrower had a delinquincy\n",
    "            'last_major_derog_none',     # has borrower had 90 day or worse rating\n",
    "            'open_acc',                  # number of open credit accounts\n",
    "            'pub_rec',                   # number of derogatory public records\n",
    "            'pub_rec_zero',              # no derogatory public records\n",
    "            'revol_util',                # percent of available credit being used\n",
    "            'total_rec_late_fee',        # total late fees received to day\n",
    "            'int_rate',                  # interest rate of the loan\n",
    "            'total_rec_int',             # interest received to date\n",
    "            'annual_inc',                # annual income of borrower\n",
    "            'funded_amnt',               # amount committed to the loan\n",
    "            'funded_amnt_inv',           # amount committed by investors for the loan\n",
    "            'installment',               # monthly payment owed by the borrower\n",
    "           ]"
   ]
  },
  {
   "cell_type": "code",
   "execution_count": 255,
   "metadata": {
    "collapsed": false
   },
   "outputs": [
    {
     "name": "stdout",
     "output_type": "stream",
     "text": [
      "Before :  (122607, 25)\n",
      "After :  (122578, 25)\n",
      "['safe_loans' 'grade' 'sub_grade_num' 'short_emp' 'emp_length_num'\n",
      " 'home_ownership' 'dti' 'purpose' 'payment_inc_ratio' 'delinq_2yrs'\n",
      " 'delinq_2yrs_zero' 'inq_last_6mths' 'last_delinq_none'\n",
      " 'last_major_derog_none' 'open_acc' 'pub_rec' 'pub_rec_zero' 'revol_util'\n",
      " 'total_rec_late_fee' 'int_rate' 'total_rec_int' 'annual_inc' 'funded_amnt'\n",
      " 'funded_amnt_inv' 'installment'] 25 24\n"
     ]
    }
   ],
   "source": [
    "print \"Before : \", data.shape\n",
    "data = data[[target_name] + features_names].dropna()\n",
    "print \"After : \", data.shape\n",
    "print data.columns.values, len(data.columns.values), len(features_names)"
   ]
  },
  {
   "cell_type": "code",
   "execution_count": 256,
   "metadata": {
    "collapsed": true
   },
   "outputs": [],
   "source": [
    "features = data[features_names]\n",
    "target = data[target_name]"
   ]
  },
  {
   "cell_type": "code",
   "execution_count": 259,
   "metadata": {
    "collapsed": false
   },
   "outputs": [
    {
     "name": "stdout",
     "output_type": "stream",
     "text": [
      "[1, 6, 7, 10, 12, 18, 21, 23, 45, 48]\n",
      "[24, 41, 60, 93, 132, 160, 162, 175, 184, 270]\n",
      "122576\n",
      "9284\n"
     ]
    }
   ],
   "source": [
    "def read_index(filename):\n",
    "    with open(filename, 'r') as f:\n",
    "        first_line = f.readline()\n",
    "    first_line = first_line.translate(None,'[]\"').strip().split(',')\n",
    "    first_line = [x.strip() for x in first_line]\n",
    "    return first_line\n",
    "\n",
    "train_idx = read_index('train-idx.json')\n",
    "validation_idx = read_index('valid-idx.json')\n",
    "train_idx = [int(x) for x in train_idx]\n",
    "validation_idx = [int(x) for x in validation_idx]\n",
    "print train_idx[:10]\n",
    "print validation_idx[:10]\n",
    "print max(train_idx + validation_idx)\n",
    "print len(validation_idx)"
   ]
  },
  {
   "cell_type": "code",
   "execution_count": 260,
   "metadata": {
    "collapsed": false
   },
   "outputs": [],
   "source": [
    "features = pd.get_dummies(features)\n",
    "features[target_name] = target"
   ]
  },
  {
   "cell_type": "code",
   "execution_count": 261,
   "metadata": {
    "collapsed": true
   },
   "outputs": [],
   "source": [
    "train_data = features.iloc[train_idx]\n",
    "validation_data = features.iloc[validation_idx]"
   ]
  },
  {
   "cell_type": "code",
   "execution_count": 262,
   "metadata": {
    "collapsed": false
   },
   "outputs": [
    {
     "name": "stdout",
     "output_type": "stream",
     "text": [
      "['sub_grade_num' 'short_emp' 'emp_length_num' 'dti' 'payment_inc_ratio'\n",
      " 'delinq_2yrs' 'delinq_2yrs_zero' 'inq_last_6mths' 'last_delinq_none'\n",
      " 'last_major_derog_none' 'open_acc' 'pub_rec' 'pub_rec_zero' 'revol_util'\n",
      " 'total_rec_late_fee' 'int_rate' 'total_rec_int' 'annual_inc' 'funded_amnt'\n",
      " 'funded_amnt_inv' 'installment' 'grade_A' 'grade_B' 'grade_C' 'grade_D'\n",
      " 'grade_E' 'grade_F' 'grade_G' 'home_ownership_MORTGAGE'\n",
      " 'home_ownership_OTHER' 'home_ownership_OWN' 'home_ownership_RENT'\n",
      " 'purpose_car' 'purpose_credit_card' 'purpose_debt_consolidation'\n",
      " 'purpose_home_improvement' 'purpose_house' 'purpose_major_purchase'\n",
      " 'purpose_medical' 'purpose_moving' 'purpose_other'\n",
      " 'purpose_small_business' 'purpose_vacation' 'purpose_wedding' 'safe_loans']\n",
      "['safe_loans' 'grade' 'sub_grade_num' 'short_emp' 'emp_length_num'\n",
      " 'home_ownership' 'dti' 'purpose' 'payment_inc_ratio' 'delinq_2yrs'\n",
      " 'delinq_2yrs_zero' 'inq_last_6mths' 'last_delinq_none'\n",
      " 'last_major_derog_none' 'open_acc' 'pub_rec' 'pub_rec_zero' 'revol_util'\n",
      " 'total_rec_late_fee' 'int_rate' 'total_rec_int' 'annual_inc' 'funded_amnt'\n",
      " 'funded_amnt_inv' 'installment']\n"
     ]
    }
   ],
   "source": [
    "train_data.reset_index(inplace=True)\n",
    "validation_data.reset_index(inplace=True)\n",
    "print features.columns.values\n",
    "print data.columns.values"
   ]
  },
  {
   "cell_type": "code",
   "execution_count": 263,
   "metadata": {
    "collapsed": true
   },
   "outputs": [],
   "source": [
    "from sklearn.ensemble import GradientBoostingClassifier"
   ]
  },
  {
   "cell_type": "markdown",
   "metadata": {},
   "source": [
    "## Classify"
   ]
  },
  {
   "cell_type": "code",
   "execution_count": 264,
   "metadata": {
    "collapsed": true
   },
   "outputs": [],
   "source": [
    "model_5 = GradientBoostingClassifier(max_depth=6, n_estimators=5)"
   ]
  },
  {
   "cell_type": "code",
   "execution_count": 265,
   "metadata": {
    "collapsed": false
   },
   "outputs": [
    {
     "data": {
      "text/plain": [
       "GradientBoostingClassifier(init=None, learning_rate=0.1, loss='deviance',\n",
       "              max_depth=6, max_features=None, max_leaf_nodes=None,\n",
       "              min_samples_leaf=1, min_samples_split=2, n_estimators=5,\n",
       "              random_state=None, subsample=1.0, verbose=0,\n",
       "              warm_start=False)"
      ]
     },
     "execution_count": 265,
     "metadata": {},
     "output_type": "execute_result"
    }
   ],
   "source": [
    "model_5.fit(train_data.drop(target_name, axis = 1), train_data[target_name])"
   ]
  },
  {
   "cell_type": "markdown",
   "metadata": {},
   "source": [
    "##Prepare valid data"
   ]
  },
  {
   "cell_type": "code",
   "execution_count": 266,
   "metadata": {
    "collapsed": false
   },
   "outputs": [],
   "source": [
    "val_data = np.array(validation_data.drop(target_name, axis = 1))\n",
    "val_target = np.array(validation_data[target_name])\n",
    "\n",
    "validation_safe_loans = val_data[val_target == 1]\n",
    "validation_risky_loans = val_data[val_target == -1]\n",
    "\n",
    "sample_validation_data_risky = validation_risky_loans[0:2]\n",
    "sample_validation_data_safe = validation_safe_loans[0:2]\n",
    "\n",
    "sample_validation_data = np.concatenate([sample_validation_data_safe, sample_validation_data_risky])"
   ]
  },
  {
   "cell_type": "markdown",
   "metadata": {},
   "source": [
    "## Predictions"
   ]
  },
  {
   "cell_type": "code",
   "execution_count": 267,
   "metadata": {
    "collapsed": false
   },
   "outputs": [
    {
     "name": "stdout",
     "output_type": "stream",
     "text": [
      "[ 1  1 -1  1]\n"
     ]
    }
   ],
   "source": [
    "preds = model_5.predict(sample_validation_data)\n",
    "print preds # actual 1 1 -1 -1"
   ]
  },
  {
   "cell_type": "markdown",
   "metadata": {},
   "source": [
    "##Quiz question: What percentage of the predictions on sample_validation_data did model_5 get correct?\n",
    "\n"
   ]
  },
  {
   "cell_type": "code",
   "execution_count": 268,
   "metadata": {
    "collapsed": false
   },
   "outputs": [
    {
     "data": {
      "text/plain": [
       "0.75"
      ]
     },
     "execution_count": 268,
     "metadata": {},
     "output_type": "execute_result"
    }
   ],
   "source": [
    "0.75"
   ]
  },
  {
   "cell_type": "markdown",
   "metadata": {},
   "source": [
    "## Prediction probabilities"
   ]
  },
  {
   "cell_type": "code",
   "execution_count": 269,
   "metadata": {
    "collapsed": false
   },
   "outputs": [
    {
     "name": "stdout",
     "output_type": "stream",
     "text": [
      "[[ 0.42530163  0.57469837]\n",
      " [ 0.47767421  0.52232579]\n",
      " [ 0.54789085  0.45210915]\n",
      " [ 0.41169184  0.58830816]]\n"
     ]
    }
   ],
   "source": [
    "probs = model_5.predict_proba(sample_validation_data)\n",
    "print probs"
   ]
  },
  {
   "cell_type": "markdown",
   "metadata": {},
   "source": [
    "##Quiz Question: Which loan has the highest probability of being classified as a safe loan?\n",
    "\n"
   ]
  },
  {
   "cell_type": "code",
   "execution_count": 270,
   "metadata": {
    "collapsed": true
   },
   "outputs": [],
   "source": [
    "# Fourth"
   ]
  },
  {
   "cell_type": "markdown",
   "metadata": {},
   "source": [
    "## Evaluating model on validation data"
   ]
  },
  {
   "cell_type": "code",
   "execution_count": 271,
   "metadata": {
    "collapsed": false
   },
   "outputs": [
    {
     "data": {
      "text/plain": [
       "0.66210685049547613"
      ]
     },
     "execution_count": 271,
     "metadata": {},
     "output_type": "execute_result"
    }
   ],
   "source": [
    "model_5.score(val_data,val_target)"
   ]
  },
  {
   "cell_type": "code",
   "execution_count": 272,
   "metadata": {
    "collapsed": true
   },
   "outputs": [],
   "source": [
    "preds = model_5.predict(val_data)"
   ]
  },
  {
   "cell_type": "markdown",
   "metadata": {},
   "source": [
    "##Quiz question: What is the number of false positives on the validation_data?"
   ]
  },
  {
   "cell_type": "markdown",
   "metadata": {},
   "source": [
    "Data:\n",
    " +--------------+-----------------+-------+\n",
    " | target_label | predicted_label | count |\n",
    " +--------------+-----------------+-------+\n",
    " |      1       |        1        |  3149 |\n",
    " |      -1      |        1        |  1618 |\n",
    " |      -1      |        -1       |  3054 |\n",
    " |      1       |        -1       |  1463 |\n",
    " +--------------+-----------------+-------+\n",
    " [4 rows x 3 columns]}"
   ]
  },
  {
   "cell_type": "code",
   "execution_count": 278,
   "metadata": {
    "collapsed": false
   },
   "outputs": [
    {
     "name": "stdout",
     "output_type": "stream",
     "text": [
      "1618\n"
     ]
    }
   ],
   "source": [
    "fp = 1618\n",
    "print fp"
   ]
  },
  {
   "cell_type": "markdown",
   "metadata": {},
   "source": [
    "##Calculate the number of false negatives made by the model on the validation_data.\n",
    "\n"
   ]
  },
  {
   "cell_type": "code",
   "execution_count": 279,
   "metadata": {
    "collapsed": false
   },
   "outputs": [
    {
     "name": "stdout",
     "output_type": "stream",
     "text": [
      "1463\n"
     ]
    }
   ],
   "source": [
    "fn = 1463\n",
    "print fn"
   ]
  },
  {
   "cell_type": "code",
   "execution_count": 280,
   "metadata": {
    "collapsed": false
   },
   "outputs": [
    {
     "data": {
      "text/plain": [
       "6147"
      ]
     },
     "execution_count": 280,
     "metadata": {},
     "output_type": "execute_result"
    }
   ],
   "source": [
    "sum(preds == val_target)"
   ]
  },
  {
   "cell_type": "code",
   "execution_count": 281,
   "metadata": {
    "collapsed": false
   },
   "outputs": [
    {
     "data": {
      "text/plain": [
       "9284"
      ]
     },
     "execution_count": 281,
     "metadata": {},
     "output_type": "execute_result"
    }
   ],
   "source": [
    "len(val_target)"
   ]
  },
  {
   "cell_type": "code",
   "execution_count": 282,
   "metadata": {
    "collapsed": false
   },
   "outputs": [
    {
     "data": {
      "text/plain": [
       "array([[3154, 1518],\n",
       "       [1619, 2993]])"
      ]
     },
     "execution_count": 282,
     "metadata": {},
     "output_type": "execute_result"
    }
   ],
   "source": [
    "from sklearn.metrics import confusion_matrix\n",
    "confusion_matrix(val_target, preds)"
   ]
  },
  {
   "cell_type": "markdown",
   "metadata": {},
   "source": [
    "## Comparison with Decision Trees"
   ]
  },
  {
   "cell_type": "markdown",
   "metadata": {},
   "source": [
    "## Quiz Question: Using the same costs of the false positives and false negatives, what is the cost of the mistakes made by the boosted tree model (model_5) as evaluated on the validation_set?"
   ]
  },
  {
   "cell_type": "code",
   "execution_count": 283,
   "metadata": {
    "collapsed": false
   },
   "outputs": [
    {
     "data": {
      "text/plain": [
       "46990000"
      ]
     },
     "execution_count": 283,
     "metadata": {},
     "output_type": "execute_result"
    }
   ],
   "source": [
    "10000 * fn + 20000 * fp"
   ]
  },
  {
   "cell_type": "markdown",
   "metadata": {},
   "source": [
    "## Most positive and negative loans"
   ]
  },
  {
   "cell_type": "code",
   "execution_count": 123,
   "metadata": {
    "collapsed": true
   },
   "outputs": [],
   "source": [
    "probs = model_5.predict_proba(val_data)[:,1]"
   ]
  },
  {
   "cell_type": "code",
   "execution_count": 124,
   "metadata": {
    "collapsed": false
   },
   "outputs": [
    {
     "name": "stderr",
     "output_type": "stream",
     "text": [
      "/Users/oleksiirenov/anaconda/lib/python2.7/site-packages/IPython/kernel/__main__.py:1: SettingWithCopyWarning: \n",
      "A value is trying to be set on a copy of a slice from a DataFrame.\n",
      "Try using .loc[row_indexer,col_indexer] = value instead\n",
      "\n",
      "See the the caveats in the documentation: http://pandas.pydata.org/pandas-docs/stable/indexing.html#indexing-view-versus-copy\n",
      "  if __name__ == '__main__':\n",
      "/Users/oleksiirenov/anaconda/lib/python2.7/site-packages/IPython/kernel/__main__.py:2: SettingWithCopyWarning: \n",
      "A value is trying to be set on a copy of a slice from a DataFrame.\n",
      "Try using .loc[row_indexer,col_indexer] = value instead\n",
      "\n",
      "See the the caveats in the documentation: http://pandas.pydata.org/pandas-docs/stable/indexing.html#indexing-view-versus-copy\n",
      "  from IPython.kernel.zmq import kernelapp as app\n"
     ]
    },
    {
     "data": {
      "text/html": [
       "<div>\n",
       "<table border=\"1\" class=\"dataframe\">\n",
       "  <thead>\n",
       "    <tr style=\"text-align: right;\">\n",
       "      <th></th>\n",
       "      <th>index</th>\n",
       "      <th>sub_grade_num</th>\n",
       "      <th>short_emp</th>\n",
       "      <th>emp_length_num</th>\n",
       "      <th>dti</th>\n",
       "      <th>payment_inc_ratio</th>\n",
       "      <th>delinq_2yrs</th>\n",
       "      <th>delinq_2yrs_zero</th>\n",
       "      <th>inq_last_6mths</th>\n",
       "      <th>last_delinq_none</th>\n",
       "      <th>...</th>\n",
       "      <th>purpose_major_purchase</th>\n",
       "      <th>purpose_medical</th>\n",
       "      <th>purpose_moving</th>\n",
       "      <th>purpose_other</th>\n",
       "      <th>purpose_small_business</th>\n",
       "      <th>purpose_vacation</th>\n",
       "      <th>purpose_wedding</th>\n",
       "      <th>safe_loans</th>\n",
       "      <th>predicted_prob</th>\n",
       "      <th>safe_loan</th>\n",
       "    </tr>\n",
       "  </thead>\n",
       "  <tbody>\n",
       "    <tr>\n",
       "      <th>0</th>\n",
       "      <td>24</td>\n",
       "      <td>0.4</td>\n",
       "      <td>0</td>\n",
       "      <td>3</td>\n",
       "      <td>13.97</td>\n",
       "      <td>2.96736</td>\n",
       "      <td>3</td>\n",
       "      <td>0</td>\n",
       "      <td>0</td>\n",
       "      <td>0</td>\n",
       "      <td>...</td>\n",
       "      <td>0</td>\n",
       "      <td>0</td>\n",
       "      <td>0</td>\n",
       "      <td>1</td>\n",
       "      <td>0</td>\n",
       "      <td>0</td>\n",
       "      <td>0</td>\n",
       "      <td>-1</td>\n",
       "      <td>0.452109</td>\n",
       "      <td>-1</td>\n",
       "    </tr>\n",
       "    <tr>\n",
       "      <th>1</th>\n",
       "      <td>41</td>\n",
       "      <td>1.0</td>\n",
       "      <td>0</td>\n",
       "      <td>11</td>\n",
       "      <td>16.33</td>\n",
       "      <td>1.90524</td>\n",
       "      <td>0</td>\n",
       "      <td>1</td>\n",
       "      <td>0</td>\n",
       "      <td>1</td>\n",
       "      <td>...</td>\n",
       "      <td>0</td>\n",
       "      <td>0</td>\n",
       "      <td>0</td>\n",
       "      <td>0</td>\n",
       "      <td>0</td>\n",
       "      <td>0</td>\n",
       "      <td>0</td>\n",
       "      <td>-1</td>\n",
       "      <td>0.588308</td>\n",
       "      <td>-1</td>\n",
       "    </tr>\n",
       "    <tr>\n",
       "      <th>2</th>\n",
       "      <td>60</td>\n",
       "      <td>0.4</td>\n",
       "      <td>0</td>\n",
       "      <td>5</td>\n",
       "      <td>12.48</td>\n",
       "      <td>3.57024</td>\n",
       "      <td>0</td>\n",
       "      <td>1</td>\n",
       "      <td>3</td>\n",
       "      <td>1</td>\n",
       "      <td>...</td>\n",
       "      <td>0</td>\n",
       "      <td>0</td>\n",
       "      <td>0</td>\n",
       "      <td>0</td>\n",
       "      <td>1</td>\n",
       "      <td>0</td>\n",
       "      <td>0</td>\n",
       "      <td>-1</td>\n",
       "      <td>0.476144</td>\n",
       "      <td>-1</td>\n",
       "    </tr>\n",
       "    <tr>\n",
       "      <th>3</th>\n",
       "      <td>93</td>\n",
       "      <td>0.4</td>\n",
       "      <td>0</td>\n",
       "      <td>11</td>\n",
       "      <td>23.18</td>\n",
       "      <td>14.70090</td>\n",
       "      <td>0</td>\n",
       "      <td>1</td>\n",
       "      <td>0</td>\n",
       "      <td>1</td>\n",
       "      <td>...</td>\n",
       "      <td>0</td>\n",
       "      <td>0</td>\n",
       "      <td>0</td>\n",
       "      <td>0</td>\n",
       "      <td>0</td>\n",
       "      <td>0</td>\n",
       "      <td>0</td>\n",
       "      <td>-1</td>\n",
       "      <td>0.401477</td>\n",
       "      <td>-1</td>\n",
       "    </tr>\n",
       "    <tr>\n",
       "      <th>4</th>\n",
       "      <td>132</td>\n",
       "      <td>0.2</td>\n",
       "      <td>0</td>\n",
       "      <td>3</td>\n",
       "      <td>7.83</td>\n",
       "      <td>11.04860</td>\n",
       "      <td>0</td>\n",
       "      <td>1</td>\n",
       "      <td>2</td>\n",
       "      <td>1</td>\n",
       "      <td>...</td>\n",
       "      <td>0</td>\n",
       "      <td>0</td>\n",
       "      <td>0</td>\n",
       "      <td>0</td>\n",
       "      <td>0</td>\n",
       "      <td>0</td>\n",
       "      <td>0</td>\n",
       "      <td>-1</td>\n",
       "      <td>0.549461</td>\n",
       "      <td>-1</td>\n",
       "    </tr>\n",
       "  </tbody>\n",
       "</table>\n",
       "<p>5 rows × 48 columns</p>\n",
       "</div>"
      ],
      "text/plain": [
       "   index  sub_grade_num  short_emp  emp_length_num    dti  payment_inc_ratio  \\\n",
       "0     24            0.4          0               3  13.97            2.96736   \n",
       "1     41            1.0          0              11  16.33            1.90524   \n",
       "2     60            0.4          0               5  12.48            3.57024   \n",
       "3     93            0.4          0              11  23.18           14.70090   \n",
       "4    132            0.2          0               3   7.83           11.04860   \n",
       "\n",
       "   delinq_2yrs  delinq_2yrs_zero  inq_last_6mths  last_delinq_none    ...      \\\n",
       "0            3                 0               0                 0    ...       \n",
       "1            0                 1               0                 1    ...       \n",
       "2            0                 1               3                 1    ...       \n",
       "3            0                 1               0                 1    ...       \n",
       "4            0                 1               2                 1    ...       \n",
       "\n",
       "   purpose_major_purchase  purpose_medical  purpose_moving  purpose_other  \\\n",
       "0                       0                0               0              1   \n",
       "1                       0                0               0              0   \n",
       "2                       0                0               0              0   \n",
       "3                       0                0               0              0   \n",
       "4                       0                0               0              0   \n",
       "\n",
       "   purpose_small_business  purpose_vacation  purpose_wedding  safe_loans  \\\n",
       "0                       0                 0                0          -1   \n",
       "1                       0                 0                0          -1   \n",
       "2                       1                 0                0          -1   \n",
       "3                       0                 0                0          -1   \n",
       "4                       0                 0                0          -1   \n",
       "\n",
       "   predicted_prob  safe_loan  \n",
       "0        0.452109         -1  \n",
       "1        0.588308         -1  \n",
       "2        0.476144         -1  \n",
       "3        0.401477         -1  \n",
       "4        0.549461         -1  \n",
       "\n",
       "[5 rows x 48 columns]"
      ]
     },
     "execution_count": 124,
     "metadata": {},
     "output_type": "execute_result"
    }
   ],
   "source": [
    "validation_data['predicted_prob'] = probs\n",
    "validation_data['safe_loan'] = val_target\n",
    "validation_data.head()"
   ]
  },
  {
   "cell_type": "code",
   "execution_count": 78,
   "metadata": {
    "collapsed": false
   },
   "outputs": [],
   "source": [
    "validation_data = validation_data.sort('predicted_prob', ascending=False)"
   ]
  },
  {
   "cell_type": "code",
   "execution_count": 79,
   "metadata": {
    "collapsed": false
   },
   "outputs": [
    {
     "data": {
      "text/html": [
       "<div>\n",
       "<table border=\"1\" class=\"dataframe\">\n",
       "  <thead>\n",
       "    <tr style=\"text-align: right;\">\n",
       "      <th></th>\n",
       "      <th>index</th>\n",
       "      <th>sub_grade_num</th>\n",
       "      <th>short_emp</th>\n",
       "      <th>emp_length_num</th>\n",
       "      <th>dti</th>\n",
       "      <th>payment_inc_ratio</th>\n",
       "      <th>delinq_2yrs</th>\n",
       "      <th>delinq_2yrs_zero</th>\n",
       "      <th>inq_last_6mths</th>\n",
       "      <th>last_delinq_none</th>\n",
       "      <th>...</th>\n",
       "      <th>purpose_major_purchase</th>\n",
       "      <th>purpose_medical</th>\n",
       "      <th>purpose_moving</th>\n",
       "      <th>purpose_other</th>\n",
       "      <th>purpose_small_business</th>\n",
       "      <th>purpose_vacation</th>\n",
       "      <th>purpose_wedding</th>\n",
       "      <th>safe_loans</th>\n",
       "      <th>predicted_prob</th>\n",
       "      <th>safe_loan</th>\n",
       "    </tr>\n",
       "  </thead>\n",
       "  <tbody>\n",
       "    <tr>\n",
       "      <th>5274</th>\n",
       "      <td>15252</td>\n",
       "      <td>0.6</td>\n",
       "      <td>1</td>\n",
       "      <td>1</td>\n",
       "      <td>3.33</td>\n",
       "      <td>1.64489</td>\n",
       "      <td>0</td>\n",
       "      <td>1</td>\n",
       "      <td>0</td>\n",
       "      <td>0</td>\n",
       "      <td>...</td>\n",
       "      <td>1</td>\n",
       "      <td>0</td>\n",
       "      <td>0</td>\n",
       "      <td>0</td>\n",
       "      <td>0</td>\n",
       "      <td>0</td>\n",
       "      <td>0</td>\n",
       "      <td>1</td>\n",
       "      <td>0.662855</td>\n",
       "      <td>1</td>\n",
       "    </tr>\n",
       "    <tr>\n",
       "      <th>5478</th>\n",
       "      <td>19865</td>\n",
       "      <td>1.0</td>\n",
       "      <td>0</td>\n",
       "      <td>3</td>\n",
       "      <td>14.54</td>\n",
       "      <td>2.84646</td>\n",
       "      <td>0</td>\n",
       "      <td>1</td>\n",
       "      <td>1</td>\n",
       "      <td>1</td>\n",
       "      <td>...</td>\n",
       "      <td>0</td>\n",
       "      <td>0</td>\n",
       "      <td>0</td>\n",
       "      <td>0</td>\n",
       "      <td>0</td>\n",
       "      <td>0</td>\n",
       "      <td>0</td>\n",
       "      <td>1</td>\n",
       "      <td>0.662855</td>\n",
       "      <td>1</td>\n",
       "    </tr>\n",
       "    <tr>\n",
       "      <th>7354</th>\n",
       "      <td>69995</td>\n",
       "      <td>0.4</td>\n",
       "      <td>0</td>\n",
       "      <td>11</td>\n",
       "      <td>8.73</td>\n",
       "      <td>3.40108</td>\n",
       "      <td>0</td>\n",
       "      <td>1</td>\n",
       "      <td>4</td>\n",
       "      <td>1</td>\n",
       "      <td>...</td>\n",
       "      <td>0</td>\n",
       "      <td>0</td>\n",
       "      <td>0</td>\n",
       "      <td>0</td>\n",
       "      <td>0</td>\n",
       "      <td>0</td>\n",
       "      <td>0</td>\n",
       "      <td>1</td>\n",
       "      <td>0.662855</td>\n",
       "      <td>1</td>\n",
       "    </tr>\n",
       "    <tr>\n",
       "      <th>6383</th>\n",
       "      <td>43517</td>\n",
       "      <td>0.2</td>\n",
       "      <td>1</td>\n",
       "      <td>1</td>\n",
       "      <td>9.57</td>\n",
       "      <td>6.74271</td>\n",
       "      <td>0</td>\n",
       "      <td>1</td>\n",
       "      <td>0</td>\n",
       "      <td>1</td>\n",
       "      <td>...</td>\n",
       "      <td>0</td>\n",
       "      <td>0</td>\n",
       "      <td>0</td>\n",
       "      <td>0</td>\n",
       "      <td>0</td>\n",
       "      <td>0</td>\n",
       "      <td>0</td>\n",
       "      <td>1</td>\n",
       "      <td>0.662855</td>\n",
       "      <td>1</td>\n",
       "    </tr>\n",
       "    <tr>\n",
       "      <th>6905</th>\n",
       "      <td>57584</td>\n",
       "      <td>0.2</td>\n",
       "      <td>0</td>\n",
       "      <td>7</td>\n",
       "      <td>7.55</td>\n",
       "      <td>7.30464</td>\n",
       "      <td>0</td>\n",
       "      <td>1</td>\n",
       "      <td>0</td>\n",
       "      <td>0</td>\n",
       "      <td>...</td>\n",
       "      <td>0</td>\n",
       "      <td>0</td>\n",
       "      <td>0</td>\n",
       "      <td>0</td>\n",
       "      <td>0</td>\n",
       "      <td>0</td>\n",
       "      <td>0</td>\n",
       "      <td>1</td>\n",
       "      <td>0.662855</td>\n",
       "      <td>1</td>\n",
       "    </tr>\n",
       "  </tbody>\n",
       "</table>\n",
       "<p>5 rows × 48 columns</p>\n",
       "</div>"
      ],
      "text/plain": [
       "      index  sub_grade_num  short_emp  emp_length_num    dti  \\\n",
       "5274  15252            0.6          1               1   3.33   \n",
       "5478  19865            1.0          0               3  14.54   \n",
       "7354  69995            0.4          0              11   8.73   \n",
       "6383  43517            0.2          1               1   9.57   \n",
       "6905  57584            0.2          0               7   7.55   \n",
       "\n",
       "      payment_inc_ratio  delinq_2yrs  delinq_2yrs_zero  inq_last_6mths  \\\n",
       "5274            1.64489            0                 1               0   \n",
       "5478            2.84646            0                 1               1   \n",
       "7354            3.40108            0                 1               4   \n",
       "6383            6.74271            0                 1               0   \n",
       "6905            7.30464            0                 1               0   \n",
       "\n",
       "      last_delinq_none    ...      purpose_major_purchase  purpose_medical  \\\n",
       "5274                 0    ...                           1                0   \n",
       "5478                 1    ...                           0                0   \n",
       "7354                 1    ...                           0                0   \n",
       "6383                 1    ...                           0                0   \n",
       "6905                 0    ...                           0                0   \n",
       "\n",
       "      purpose_moving  purpose_other  purpose_small_business  purpose_vacation  \\\n",
       "5274               0              0                       0                 0   \n",
       "5478               0              0                       0                 0   \n",
       "7354               0              0                       0                 0   \n",
       "6383               0              0                       0                 0   \n",
       "6905               0              0                       0                 0   \n",
       "\n",
       "      purpose_wedding  safe_loans  predicted_prob  safe_loan  \n",
       "5274                0           1        0.662855          1  \n",
       "5478                0           1        0.662855          1  \n",
       "7354                0           1        0.662855          1  \n",
       "6383                0           1        0.662855          1  \n",
       "6905                0           1        0.662855          1  \n",
       "\n",
       "[5 rows x 48 columns]"
      ]
     },
     "execution_count": 79,
     "metadata": {},
     "output_type": "execute_result"
    }
   ],
   "source": [
    "validation_data.head()"
   ]
  },
  {
   "cell_type": "markdown",
   "metadata": {},
   "source": [
    "## Quiz question: What grades are the top 5 loans?\n",
    "\n"
   ]
  },
  {
   "cell_type": "code",
   "execution_count": 80,
   "metadata": {
    "collapsed": true
   },
   "outputs": [],
   "source": [
    "# Safe loans"
   ]
  },
  {
   "cell_type": "code",
   "execution_count": 125,
   "metadata": {
    "collapsed": false
   },
   "outputs": [
    {
     "data": {
      "text/html": [
       "<div>\n",
       "<table border=\"1\" class=\"dataframe\">\n",
       "  <thead>\n",
       "    <tr style=\"text-align: right;\">\n",
       "      <th></th>\n",
       "      <th>grade_A</th>\n",
       "      <th>grade_B</th>\n",
       "      <th>grade_C</th>\n",
       "      <th>grade_D</th>\n",
       "      <th>grade_E</th>\n",
       "      <th>grade_F</th>\n",
       "      <th>grade_G</th>\n",
       "    </tr>\n",
       "  </thead>\n",
       "  <tbody>\n",
       "    <tr>\n",
       "      <th>4995</th>\n",
       "      <td>1</td>\n",
       "      <td>0</td>\n",
       "      <td>0</td>\n",
       "      <td>0</td>\n",
       "      <td>0</td>\n",
       "      <td>0</td>\n",
       "      <td>0</td>\n",
       "    </tr>\n",
       "    <tr>\n",
       "      <th>7354</th>\n",
       "      <td>1</td>\n",
       "      <td>0</td>\n",
       "      <td>0</td>\n",
       "      <td>0</td>\n",
       "      <td>0</td>\n",
       "      <td>0</td>\n",
       "      <td>0</td>\n",
       "    </tr>\n",
       "    <tr>\n",
       "      <th>5248</th>\n",
       "      <td>1</td>\n",
       "      <td>0</td>\n",
       "      <td>0</td>\n",
       "      <td>0</td>\n",
       "      <td>0</td>\n",
       "      <td>0</td>\n",
       "      <td>0</td>\n",
       "    </tr>\n",
       "    <tr>\n",
       "      <th>5214</th>\n",
       "      <td>1</td>\n",
       "      <td>0</td>\n",
       "      <td>0</td>\n",
       "      <td>0</td>\n",
       "      <td>0</td>\n",
       "      <td>0</td>\n",
       "      <td>0</td>\n",
       "    </tr>\n",
       "    <tr>\n",
       "      <th>6413</th>\n",
       "      <td>1</td>\n",
       "      <td>0</td>\n",
       "      <td>0</td>\n",
       "      <td>0</td>\n",
       "      <td>0</td>\n",
       "      <td>0</td>\n",
       "      <td>0</td>\n",
       "    </tr>\n",
       "  </tbody>\n",
       "</table>\n",
       "</div>"
      ],
      "text/plain": [
       "      grade_A  grade_B  grade_C  grade_D  grade_E  grade_F  grade_G\n",
       "4995        1        0        0        0        0        0        0\n",
       "7354        1        0        0        0        0        0        0\n",
       "5248        1        0        0        0        0        0        0\n",
       "5214        1        0        0        0        0        0        0\n",
       "6413        1        0        0        0        0        0        0"
      ]
     },
     "execution_count": 125,
     "metadata": {},
     "output_type": "execute_result"
    }
   ],
   "source": [
    "validation_data = validation_data.sort('predicted_prob', ascending=False)\n",
    "validation_data[['grade_A','grade_B','grade_C','grade_D','grade_E','grade_F','grade_G']].head()"
   ]
  },
  {
   "cell_type": "markdown",
   "metadata": {},
   "source": [
    "## Quiz question: What grades are the low 5 loans?\n",
    "\n"
   ]
  },
  {
   "cell_type": "code",
   "execution_count": 126,
   "metadata": {
    "collapsed": false
   },
   "outputs": [
    {
     "data": {
      "text/html": [
       "<div>\n",
       "<table border=\"1\" class=\"dataframe\">\n",
       "  <thead>\n",
       "    <tr style=\"text-align: right;\">\n",
       "      <th></th>\n",
       "      <th>grade_A</th>\n",
       "      <th>grade_B</th>\n",
       "      <th>grade_C</th>\n",
       "      <th>grade_D</th>\n",
       "      <th>grade_E</th>\n",
       "      <th>grade_F</th>\n",
       "      <th>grade_G</th>\n",
       "    </tr>\n",
       "  </thead>\n",
       "  <tbody>\n",
       "    <tr>\n",
       "      <th>1560</th>\n",
       "      <td>0</td>\n",
       "      <td>0</td>\n",
       "      <td>0</td>\n",
       "      <td>1</td>\n",
       "      <td>0</td>\n",
       "      <td>0</td>\n",
       "      <td>0</td>\n",
       "    </tr>\n",
       "    <tr>\n",
       "      <th>3992</th>\n",
       "      <td>0</td>\n",
       "      <td>0</td>\n",
       "      <td>0</td>\n",
       "      <td>0</td>\n",
       "      <td>1</td>\n",
       "      <td>0</td>\n",
       "      <td>0</td>\n",
       "    </tr>\n",
       "    <tr>\n",
       "      <th>8731</th>\n",
       "      <td>0</td>\n",
       "      <td>0</td>\n",
       "      <td>0</td>\n",
       "      <td>1</td>\n",
       "      <td>0</td>\n",
       "      <td>0</td>\n",
       "      <td>0</td>\n",
       "    </tr>\n",
       "    <tr>\n",
       "      <th>2690</th>\n",
       "      <td>0</td>\n",
       "      <td>0</td>\n",
       "      <td>0</td>\n",
       "      <td>1</td>\n",
       "      <td>0</td>\n",
       "      <td>0</td>\n",
       "      <td>0</td>\n",
       "    </tr>\n",
       "    <tr>\n",
       "      <th>912</th>\n",
       "      <td>0</td>\n",
       "      <td>0</td>\n",
       "      <td>0</td>\n",
       "      <td>0</td>\n",
       "      <td>0</td>\n",
       "      <td>1</td>\n",
       "      <td>0</td>\n",
       "    </tr>\n",
       "  </tbody>\n",
       "</table>\n",
       "</div>"
      ],
      "text/plain": [
       "      grade_A  grade_B  grade_C  grade_D  grade_E  grade_F  grade_G\n",
       "1560        0        0        0        1        0        0        0\n",
       "3992        0        0        0        0        1        0        0\n",
       "8731        0        0        0        1        0        0        0\n",
       "2690        0        0        0        1        0        0        0\n",
       "912         0        0        0        0        0        1        0"
      ]
     },
     "execution_count": 126,
     "metadata": {},
     "output_type": "execute_result"
    }
   ],
   "source": [
    "validation_data = validation_data.sort('predicted_prob', ascending=True)\n",
    "validation_data[['grade_A','grade_B','grade_C','grade_D','grade_E','grade_F','grade_G']].head()"
   ]
  },
  {
   "cell_type": "markdown",
   "metadata": {},
   "source": []
  },
  {
   "cell_type": "markdown",
   "metadata": {},
   "source": [
    "## Effects of edding more trees"
   ]
  },
  {
   "cell_type": "code",
   "execution_count": 82,
   "metadata": {
    "collapsed": true
   },
   "outputs": [],
   "source": [
    "model_10 = GradientBoostingClassifier(n_estimators=10, max_depth=6)\n",
    "model_50 = GradientBoostingClassifier(n_estimators=50, max_depth=6)\n",
    "model_100= GradientBoostingClassifier(n_estimators=100, max_depth=6)\n",
    "model_200= GradientBoostingClassifier(n_estimators=200, max_depth=6)\n",
    "model_500= GradientBoostingClassifier(n_estimators=500, max_depth=6)"
   ]
  },
  {
   "cell_type": "code",
   "execution_count": 83,
   "metadata": {
    "collapsed": false
   },
   "outputs": [
    {
     "data": {
      "text/plain": [
       "GradientBoostingClassifier(init=None, learning_rate=0.1, loss='deviance',\n",
       "              max_depth=6, max_features=None, max_leaf_nodes=None,\n",
       "              min_samples_leaf=1, min_samples_split=2, n_estimators=500,\n",
       "              random_state=None, subsample=1.0, verbose=0,\n",
       "              warm_start=False)"
      ]
     },
     "execution_count": 83,
     "metadata": {},
     "output_type": "execute_result"
    }
   ],
   "source": [
    "model_10.fit(train_data.drop(target_name, axis = 1), train_data[target_name])\n",
    "model_50.fit(train_data.drop(target_name, axis = 1), train_data[target_name])\n",
    "model_100.fit(train_data.drop(target_name, axis = 1), train_data[target_name])\n",
    "model_200.fit(train_data.drop(target_name, axis = 1), train_data[target_name])\n",
    "model_500.fit(train_data.drop(target_name, axis = 1), train_data[target_name])"
   ]
  },
  {
   "cell_type": "code",
   "execution_count": 84,
   "metadata": {
    "collapsed": false
   },
   "outputs": [
    {
     "name": "stdout",
     "output_type": "stream",
     "text": [
      "Accuracy for model 10 :  0.668785006463\n",
      "Accuracy for model 50 :  0.698836708315\n",
      "Accuracy for model 100 :  0.706268849634\n",
      "Accuracy for model 200 :  0.714131839724\n",
      "Accuracy for model 500 :  0.711546747092\n"
     ]
    }
   ],
   "source": [
    "print \"Accuracy for model 10 : \", model_10.score(val_data,val_target)\n",
    "print \"Accuracy for model 50 : \", model_50.score(val_data,val_target)\n",
    "print \"Accuracy for model 100 : \", model_100.score(val_data,val_target)\n",
    "print \"Accuracy for model 200 : \", model_200.score(val_data,val_target)\n",
    "print \"Accuracy for model 500 : \", model_500.score(val_data,val_target)"
   ]
  },
  {
   "cell_type": "markdown",
   "metadata": {},
   "source": [
    "## Quiz Question: Which model has the best accuracy on the validation_data?\n",
    "\n"
   ]
  },
  {
   "cell_type": "code",
   "execution_count": 85,
   "metadata": {
    "collapsed": true
   },
   "outputs": [],
   "source": [
    "#model_100"
   ]
  },
  {
   "cell_type": "markdown",
   "metadata": {},
   "source": [
    "## Quiz Question: Is it always true that the model with the most trees will perform best on test data?\n",
    "\n"
   ]
  },
  {
   "cell_type": "code",
   "execution_count": 86,
   "metadata": {
    "collapsed": true
   },
   "outputs": [],
   "source": [
    "#NO"
   ]
  },
  {
   "cell_type": "markdown",
   "metadata": {},
   "source": [
    "## Plot the training and validation error vs. number of trees\n",
    "\n"
   ]
  },
  {
   "cell_type": "code",
   "execution_count": 87,
   "metadata": {
    "collapsed": true
   },
   "outputs": [],
   "source": [
    "import matplotlib.pyplot as plt\n",
    "%matplotlib inline\n",
    "def make_figure(dim, title, xlabel, ylabel, legend):\n",
    "    plt.rcParams['figure.figsize'] = dim\n",
    "    plt.title(title)\n",
    "    plt.xlabel(xlabel)\n",
    "    plt.ylabel(ylabel)\n",
    "    if legend is not None:\n",
    "        plt.legend(loc=legend, prop={'size':15})\n",
    "    plt.rcParams.update({'font.size': 16})\n",
    "    plt.tight_layout()"
   ]
  },
  {
   "cell_type": "code",
   "execution_count": 88,
   "metadata": {
    "collapsed": true
   },
   "outputs": [],
   "source": [
    "train_err_5 = 1 - model_5.score(train_data.drop(target_name, axis = 1), train_data[target_name])\n",
    "train_err_10 = 1 - model_10.score(train_data.drop(target_name, axis = 1), train_data[target_name])\n",
    "train_err_50 = 1 - model_50.score(train_data.drop(target_name, axis = 1), train_data[target_name])\n",
    "train_err_100 = 1 - model_100.score(train_data.drop(target_name, axis = 1), train_data[target_name])\n",
    "train_err_200 = 1 - model_200.score(train_data.drop(target_name, axis = 1), train_data[target_name])\n",
    "train_err_500 = 1 - model_500.score(train_data.drop(target_name, axis = 1), train_data[target_name])"
   ]
  },
  {
   "cell_type": "code",
   "execution_count": 89,
   "metadata": {
    "collapsed": true
   },
   "outputs": [],
   "source": [
    "training_errors = [train_err_5, train_err_10, train_err_50, train_err_100, train_err_200, train_err_500]"
   ]
  },
  {
   "cell_type": "code",
   "execution_count": 90,
   "metadata": {
    "collapsed": true
   },
   "outputs": [],
   "source": [
    "valid_err_5 = 1 - model_5.score(val_data,val_target)\n",
    "valid_err_10 = 1 - model_10.score(val_data,val_target)\n",
    "valid_err_50 = 1 - model_50.score(val_data,val_target)\n",
    "valid_err_100 = 1 - model_100.score(val_data,val_target)\n",
    "valid_err_200 = 1 - model_200.score(val_data,val_target)\n",
    "valid_err_500 = 1 - model_500.score(val_data,val_target)"
   ]
  },
  {
   "cell_type": "code",
   "execution_count": 91,
   "metadata": {
    "collapsed": true
   },
   "outputs": [],
   "source": [
    "valid_errors = [valid_err_5, valid_err_10, valid_err_50, valid_err_100, valid_err_200, valid_err_500]"
   ]
  },
  {
   "cell_type": "code",
   "execution_count": 94,
   "metadata": {
    "collapsed": false
   },
   "outputs": [
    {
     "data": {
      "image/png": "[encoded data removed]",
      "text/plain": [
       "<matplotlib.figure.Figure at 0x1070e7290>"
      ]
     },
     "metadata": {},
     "output_type": "display_data"
    }
   ],
   "source": [
    "plt.plot([5, 10, 50, 100, 200, 500], training_errors, linewidth=4.0, label='Training error')\n",
    "plt.plot([5, 10, 50, 100, 200, 500], valid_errors, linewidth=4.0, label='Validation error')\n",
    "\n",
    "make_figure(dim=(10,6), title='Error vs number of trees',\n",
    "            xlabel='Number of trees',\n",
    "            ylabel='Classification error',\n",
    "            legend='best')"
   ]
  },
  {
   "cell_type": "markdown",
   "metadata": {},
   "source": [
    "## Quiz question: Does the training error reduce as the number of trees increases?\n",
    "\n"
   ]
  },
  {
   "cell_type": "code",
   "execution_count": 95,
   "metadata": {
    "collapsed": true
   },
   "outputs": [],
   "source": [
    "#Yes"
   ]
  },
  {
   "cell_type": "markdown",
   "metadata": {},
   "source": [
    "## Quiz question: Is it always true that the validation error will reduce as the number of trees increases?\n",
    "\n"
   ]
  },
  {
   "cell_type": "code",
   "execution_count": 96,
   "metadata": {
    "collapsed": true
   },
   "outputs": [],
   "source": [
    "#No"
   ]
  },
  {
   "cell_type": "code",
   "execution_count": null,
   "metadata": {
    "collapsed": true
   },
   "outputs": [],
   "source": []
  }
 ],
 "metadata": {
  "kernelspec": {
   "display_name": "Python 2",
   "language": "python",
   "name": "python2"
  },
  "language_info": {
   "codemirror_mode": {
    "name": "ipython",
    "version": 2
   },
   "file_extension": ".py",
   "mimetype": "text/x-python",
   "name": "python",
   "nbconvert_exporter": "python",
   "pygments_lexer": "ipython2",
   "version": "2.7.10"
  }
 },
 "nbformat": 4,
 "nbformat_minor": 0
}
