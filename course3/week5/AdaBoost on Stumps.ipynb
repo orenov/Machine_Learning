{
 "cells": [
  {
   "cell_type": "markdown",
   "metadata": {},
   "source": [
    "## Load Data"
   ]
  },
  {
   "cell_type": "code",
   "execution_count": 1,
   "metadata": {
    "collapsed": true
   },
   "outputs": [],
   "source": [
    "import numpy as np\n",
    "import pandas as pd"
   ]
  },
  {
   "cell_type": "code",
   "execution_count": 2,
   "metadata": {
    "collapsed": false
   },
   "outputs": [
    {
     "name": "stderr",
     "output_type": "stream",
     "text": [
      "/Users/oleksiirenov/anaconda/lib/python2.7/site-packages/pandas/io/parsers.py:1170: DtypeWarning: Columns (19,47) have mixed types. Specify dtype option on import or set low_memory=False.\n",
      "  data = self._reader.read(nrows)\n"
     ]
    },
    {
     "data": {
      "text/html": [
       "<div>\n",
       "<table border=\"1\" class=\"dataframe\">\n",
       "  <thead>\n",
       "    <tr style=\"text-align: right;\">\n",
       "      <th></th>\n",
       "      <th>id</th>\n",
       "      <th>member_id</th>\n",
       "      <th>loan_amnt</th>\n",
       "      <th>funded_amnt</th>\n",
       "      <th>funded_amnt_inv</th>\n",
       "      <th>term</th>\n",
       "      <th>int_rate</th>\n",
       "      <th>installment</th>\n",
       "      <th>grade</th>\n",
       "      <th>sub_grade</th>\n",
       "      <th>...</th>\n",
       "      <th>sub_grade_num</th>\n",
       "      <th>delinq_2yrs_zero</th>\n",
       "      <th>pub_rec_zero</th>\n",
       "      <th>collections_12_mths_zero</th>\n",
       "      <th>short_emp</th>\n",
       "      <th>payment_inc_ratio</th>\n",
       "      <th>final_d</th>\n",
       "      <th>last_delinq_none</th>\n",
       "      <th>last_record_none</th>\n",
       "      <th>last_major_derog_none</th>\n",
       "    </tr>\n",
       "  </thead>\n",
       "  <tbody>\n",
       "    <tr>\n",
       "      <th>0</th>\n",
       "      <td>1077501</td>\n",
       "      <td>1296599</td>\n",
       "      <td>5000</td>\n",
       "      <td>5000</td>\n",
       "      <td>4975</td>\n",
       "      <td>36 months</td>\n",
       "      <td>10.65</td>\n",
       "      <td>162.87</td>\n",
       "      <td>B</td>\n",
       "      <td>B2</td>\n",
       "      <td>...</td>\n",
       "      <td>0.4</td>\n",
       "      <td>1</td>\n",
       "      <td>1</td>\n",
       "      <td>1</td>\n",
       "      <td>0</td>\n",
       "      <td>8.14350</td>\n",
       "      <td>20141201T000000</td>\n",
       "      <td>1</td>\n",
       "      <td>1</td>\n",
       "      <td>1</td>\n",
       "    </tr>\n",
       "    <tr>\n",
       "      <th>1</th>\n",
       "      <td>1077430</td>\n",
       "      <td>1314167</td>\n",
       "      <td>2500</td>\n",
       "      <td>2500</td>\n",
       "      <td>2500</td>\n",
       "      <td>60 months</td>\n",
       "      <td>15.27</td>\n",
       "      <td>59.83</td>\n",
       "      <td>C</td>\n",
       "      <td>C4</td>\n",
       "      <td>...</td>\n",
       "      <td>0.8</td>\n",
       "      <td>1</td>\n",
       "      <td>1</td>\n",
       "      <td>1</td>\n",
       "      <td>1</td>\n",
       "      <td>2.39320</td>\n",
       "      <td>20161201T000000</td>\n",
       "      <td>1</td>\n",
       "      <td>1</td>\n",
       "      <td>1</td>\n",
       "    </tr>\n",
       "    <tr>\n",
       "      <th>2</th>\n",
       "      <td>1077175</td>\n",
       "      <td>1313524</td>\n",
       "      <td>2400</td>\n",
       "      <td>2400</td>\n",
       "      <td>2400</td>\n",
       "      <td>36 months</td>\n",
       "      <td>15.96</td>\n",
       "      <td>84.33</td>\n",
       "      <td>C</td>\n",
       "      <td>C5</td>\n",
       "      <td>...</td>\n",
       "      <td>1.0</td>\n",
       "      <td>1</td>\n",
       "      <td>1</td>\n",
       "      <td>1</td>\n",
       "      <td>0</td>\n",
       "      <td>8.25955</td>\n",
       "      <td>20141201T000000</td>\n",
       "      <td>1</td>\n",
       "      <td>1</td>\n",
       "      <td>1</td>\n",
       "    </tr>\n",
       "    <tr>\n",
       "      <th>3</th>\n",
       "      <td>1076863</td>\n",
       "      <td>1277178</td>\n",
       "      <td>10000</td>\n",
       "      <td>10000</td>\n",
       "      <td>10000</td>\n",
       "      <td>36 months</td>\n",
       "      <td>13.49</td>\n",
       "      <td>339.31</td>\n",
       "      <td>C</td>\n",
       "      <td>C1</td>\n",
       "      <td>...</td>\n",
       "      <td>0.2</td>\n",
       "      <td>1</td>\n",
       "      <td>1</td>\n",
       "      <td>1</td>\n",
       "      <td>0</td>\n",
       "      <td>8.27585</td>\n",
       "      <td>20141201T000000</td>\n",
       "      <td>0</td>\n",
       "      <td>1</td>\n",
       "      <td>1</td>\n",
       "    </tr>\n",
       "    <tr>\n",
       "      <th>4</th>\n",
       "      <td>1075269</td>\n",
       "      <td>1311441</td>\n",
       "      <td>5000</td>\n",
       "      <td>5000</td>\n",
       "      <td>5000</td>\n",
       "      <td>36 months</td>\n",
       "      <td>7.90</td>\n",
       "      <td>156.46</td>\n",
       "      <td>A</td>\n",
       "      <td>A4</td>\n",
       "      <td>...</td>\n",
       "      <td>0.8</td>\n",
       "      <td>1</td>\n",
       "      <td>1</td>\n",
       "      <td>1</td>\n",
       "      <td>0</td>\n",
       "      <td>5.21533</td>\n",
       "      <td>20141201T000000</td>\n",
       "      <td>1</td>\n",
       "      <td>1</td>\n",
       "      <td>1</td>\n",
       "    </tr>\n",
       "  </tbody>\n",
       "</table>\n",
       "<p>5 rows × 68 columns</p>\n",
       "</div>"
      ],
      "text/plain": [
       "        id  member_id  loan_amnt  funded_amnt  funded_amnt_inv        term  \\\n",
       "0  1077501    1296599       5000         5000             4975   36 months   \n",
       "1  1077430    1314167       2500         2500             2500   60 months   \n",
       "2  1077175    1313524       2400         2400             2400   36 months   \n",
       "3  1076863    1277178      10000        10000            10000   36 months   \n",
       "4  1075269    1311441       5000         5000             5000   36 months   \n",
       "\n",
       "   int_rate  installment grade sub_grade          ...          sub_grade_num  \\\n",
       "0     10.65       162.87     B        B2          ...                    0.4   \n",
       "1     15.27        59.83     C        C4          ...                    0.8   \n",
       "2     15.96        84.33     C        C5          ...                    1.0   \n",
       "3     13.49       339.31     C        C1          ...                    0.2   \n",
       "4      7.90       156.46     A        A4          ...                    0.8   \n",
       "\n",
       "  delinq_2yrs_zero pub_rec_zero  collections_12_mths_zero short_emp  \\\n",
       "0                1            1                         1         0   \n",
       "1                1            1                         1         1   \n",
       "2                1            1                         1         0   \n",
       "3                1            1                         1         0   \n",
       "4                1            1                         1         0   \n",
       "\n",
       "  payment_inc_ratio          final_d last_delinq_none last_record_none  \\\n",
       "0           8.14350  20141201T000000                1                1   \n",
       "1           2.39320  20161201T000000                1                1   \n",
       "2           8.25955  20141201T000000                1                1   \n",
       "3           8.27585  20141201T000000                0                1   \n",
       "4           5.21533  20141201T000000                1                1   \n",
       "\n",
       "  last_major_derog_none  \n",
       "0                     1  \n",
       "1                     1  \n",
       "2                     1  \n",
       "3                     1  \n",
       "4                     1  \n",
       "\n",
       "[5 rows x 68 columns]"
      ]
     },
     "execution_count": 2,
     "metadata": {},
     "output_type": "execute_result"
    }
   ],
   "source": [
    "data = pd.read_csv('lending-club-data.csv')\n",
    "data.head()"
   ]
  },
  {
   "cell_type": "code",
   "execution_count": 3,
   "metadata": {
    "collapsed": true
   },
   "outputs": [],
   "source": [
    "data['safe_loans'] = data['bad_loans'].apply(lambda x : +1 if x==0 else -1)\n",
    "data.drop('bad_loans', axis = 1, inplace = True)"
   ]
  },
  {
   "cell_type": "markdown",
   "metadata": {},
   "source": [
    "## Subset Features"
   ]
  },
  {
   "cell_type": "code",
   "execution_count": 4,
   "metadata": {
    "collapsed": true
   },
   "outputs": [],
   "source": [
    "features_names = ['grade',              # grade of the loan\n",
    "                  'term',               # the term of the loan\n",
    "                  'home_ownership',     # home_ownership status: own, mortgage or rent\n",
    "                  'emp_length',         # number of years of employment\n",
    "                 ]\n",
    "target_name = 'safe_loans'"
   ]
  },
  {
   "cell_type": "code",
   "execution_count": 5,
   "metadata": {
    "collapsed": true
   },
   "outputs": [],
   "source": [
    "features = data[features_names]\n",
    "target = data[target_name]"
   ]
  },
  {
   "cell_type": "code",
   "execution_count": 6,
   "metadata": {
    "collapsed": true
   },
   "outputs": [],
   "source": [
    "def read_index(filename):\n",
    "    with open(filename, 'r') as f:\n",
    "        first_line = f.readline()\n",
    "    first_line = first_line.translate(None,'[]\"').strip().split(',')\n",
    "    first_line = [x.strip() for x in first_line]\n",
    "    return first_line\n",
    "\n",
    "train_idx = read_index('train-idx.json')\n",
    "validation_idx = read_index('valid-idx.json')\n",
    "train_idx = [int(x) for x in train_idx]\n",
    "validation_idx = [int(x) for x in validation_idx]"
   ]
  },
  {
   "cell_type": "code",
   "execution_count": 7,
   "metadata": {
    "collapsed": true
   },
   "outputs": [],
   "source": [
    "features = pd.get_dummies(features)\n",
    "features[target_name] = target"
   ]
  },
  {
   "cell_type": "code",
   "execution_count": 8,
   "metadata": {
    "collapsed": true
   },
   "outputs": [],
   "source": [
    "train_data = features.iloc[train_idx]\n",
    "validation_data = features.iloc[validation_idx]"
   ]
  },
  {
   "cell_type": "code",
   "execution_count": 9,
   "metadata": {
    "collapsed": false
   },
   "outputs": [
    {
     "name": "stdout",
     "output_type": "stream",
     "text": [
      "['grade_A' 'grade_B' 'grade_C' 'grade_D' 'grade_E' 'grade_F' 'grade_G'\n",
      " 'term_ 36 months' 'term_ 60 months' 'home_ownership_MORTGAGE'\n",
      " 'home_ownership_OTHER' 'home_ownership_OWN' 'home_ownership_RENT'\n",
      " 'emp_length_1 year' 'emp_length_10+ years' 'emp_length_2 years'\n",
      " 'emp_length_3 years' 'emp_length_4 years' 'emp_length_5 years'\n",
      " 'emp_length_6 years' 'emp_length_7 years' 'emp_length_8 years'\n",
      " 'emp_length_9 years' 'emp_length_< 1 year' 'emp_length_n/a' 'safe_loans']\n"
     ]
    }
   ],
   "source": [
    "train_data.reset_index(inplace = True)\n",
    "validation_data.reset_index(inplace = True)\n",
    "print features.columns.values"
   ]
  },
  {
   "cell_type": "markdown",
   "metadata": {},
   "source": [
    "## Weighted Decision Trees"
   ]
  },
  {
   "cell_type": "code",
   "execution_count": 130,
   "metadata": {
    "collapsed": true
   },
   "outputs": [],
   "source": [
    "def intermediate_node_weighted_mistakes(labels_in_node, data_weights):\n",
    "    # Sum the weights of all entries with label +1\n",
    "    total_weight_positive = sum(data_weights[labels_in_node == +1])\n",
    "    \n",
    "    # Weight of mistakes for predicting all -1's is equal to the sum above\n",
    "    weighted_mistakes_all_negative = sum(data_weights[labels_in_node == +1])\n",
    "    \n",
    "    # Sum the weights of all entries with label -1\n",
    "    total_weight_negative = sum(data_weights[labels_in_node == -1])\n",
    "    \n",
    "    # Weight of mistakes for predicting all +1's is equal to the sum above\n",
    "    weighted_mistakes_all_positive = sum(data_weights[labels_in_node == -1])\n",
    "    \n",
    "    # Return the tuple (weight, class_label) representing the lower of the two weights\n",
    "    #    class_label should be an integer of value +1 or -1.\n",
    "    # If the two weights are identical, return (weighted_mistakes_all_positive,+1)\n",
    "    if weighted_mistakes_all_negative > weighted_mistakes_all_positive:\n",
    "        return (weighted_mistakes_all_positive, +1)\n",
    "    elif weighted_mistakes_all_negative < weighted_mistakes_all_positive:\n",
    "        return (weighted_mistakes_all_negative, -1)\n",
    "    \n",
    "    return (weighted_mistakes_all_positive, +1)"
   ]
  },
  {
   "cell_type": "markdown",
   "metadata": {},
   "source": [
    "## Quiz Question: If we set the weights α=1 for all data points, how is the weight of mistakes WM(α,ŷ) related to the classification error?"
   ]
  },
  {
   "cell_type": "markdown",
   "metadata": {},
   "source": [
    "It should be the same things"
   ]
  },
  {
   "cell_type": "code",
   "execution_count": 131,
   "metadata": {
    "collapsed": true
   },
   "outputs": [],
   "source": [
    "# If the data is identical in each feature, this function should return None\n",
    "def best_splitting_feature(data, features, target, data_weights):\n",
    "    \n",
    "    # These variables will keep track of the best feature and the corresponding error\n",
    "    best_feature = None\n",
    "    best_error = float('+inf') \n",
    "    num_points = float(len(data))\n",
    "\n",
    "    # Loop through each feature to consider splitting on that feature\n",
    "    for feature in features:\n",
    "        \n",
    "        # The left split will have all data points where the feature value is 0\n",
    "        # The right split will have all data points where the feature value is 1\n",
    "        left_split = data[data[feature] == 0]\n",
    "        right_split = data[data[feature] == 1]\n",
    "        \n",
    "        # Apply the same filtering to data_weights to create left_data_weights, right_data_weights\n",
    "        left_data_weights = data_weights[data[feature] == 0]\n",
    "        right_data_weights = data_weights[data[feature] == 1]    \n",
    "        \n",
    "        # Calculate the weight of mistakes for left and right sides\n",
    "        left_weighted_mistakes, left_class = intermediate_node_weighted_mistakes(left_split[target],\n",
    "                                                                                 left_data_weights)\n",
    "        right_weighted_mistakes, right_class = intermediate_node_weighted_mistakes(right_split[target],\n",
    "                                                                                   right_data_weights)\n",
    "        \n",
    "        # Compute weighted error by computing\n",
    "        #  ( [weight of mistakes (left)] + [weight of mistakes (right)] ) / [total weight of all data points]\n",
    "        error = (left_weighted_mistakes + right_weighted_mistakes)/sum(data_weights)\n",
    "        # If this is the best error we have found so far, store the feature and the error\n",
    "        \n",
    "        if error < best_error:\n",
    "            print '=============='\n",
    "            print left_weighted_mistakes, right_weighted_mistakes, sum(data_weights)\n",
    "            print feature, error\n",
    "            best_feature = feature\n",
    "            best_error = error\n",
    "    \n",
    "    # Return the best feature we found\n",
    "    return best_feature"
   ]
  },
  {
   "cell_type": "markdown",
   "metadata": {},
   "source": [
    "## Create leaf function"
   ]
  },
  {
   "cell_type": "code",
   "execution_count": 132,
   "metadata": {
    "collapsed": true
   },
   "outputs": [],
   "source": [
    "def create_leaf(target_values, data_weights):\n",
    "    \n",
    "    # Create a leaf node\n",
    "    leaf = {'splitting_feature' : None,\n",
    "            'is_leaf': True}\n",
    "    \n",
    "    # Computed weight of mistakes.\n",
    "    # Store the predicted class (1 or -1) in leaf['prediction']\n",
    "    weighted_error, best_class = intermediate_node_weighted_mistakes(target_values, data_weights)\n",
    "    leaf['prediction'] = best_class\n",
    "    \n",
    "    return leaf"
   ]
  },
  {
   "cell_type": "markdown",
   "metadata": {},
   "source": [
    "## Weighted Decision Tree Create Process"
   ]
  },
  {
   "cell_type": "code",
   "execution_count": 133,
   "metadata": {
    "collapsed": true
   },
   "outputs": [],
   "source": [
    "def weighted_decision_tree_create(data, features, target, data_weights, current_depth = 1, max_depth = 10):\n",
    "    print \"---- START -----\"\n",
    "    remaining_features = features[:] # Make a copy of the features.\n",
    "    target_values = data[target]\n",
    "    print \"--------------------------------------------------------------------\"\n",
    "    print \"Subtree, depth = %s (%s data points).\" % (current_depth, len(target_values))\n",
    "    \n",
    "    # Stopping condition 1. Error is 0.\n",
    "    if intermediate_node_weighted_mistakes(target_values, data_weights)[0] <= 1e-15:\n",
    "        print \"Stopping condition 1 reached.\"                \n",
    "        return create_leaf(target_values, data_weights)\n",
    "    \n",
    "    # Stopping condition 2. No more features.\n",
    "    if remaining_features == []:\n",
    "        print \"Stopping condition 2 reached.\"                \n",
    "        return create_leaf(target_values, data_weights)    \n",
    "    \n",
    "    # Additional stopping condition (limit tree depth)\n",
    "    if current_depth > max_depth:\n",
    "        print \"Reached maximum depth. Stopping for now.\"\n",
    "        return create_leaf(target_values, data_weights)\n",
    "    \n",
    "    # If all the datapoints are the same, splitting_feature will be None. Create a leaf\n",
    "    splitting_feature = best_splitting_feature(data, features, target, data_weights)\n",
    "    remaining_features.remove(splitting_feature)\n",
    "        \n",
    "    left_split = data[data[splitting_feature] == 0]\n",
    "    right_split = data[data[splitting_feature] == 1]\n",
    "    \n",
    "    left_data_weights = data_weights[data[splitting_feature] == 0]\n",
    "    right_data_weights = data_weights[data[splitting_feature] == 1]\n",
    "    \n",
    "    print \"Split on feature %s. (%s, %s)\" % (\\\n",
    "              splitting_feature, len(left_split), len(right_split))\n",
    "    \n",
    "    # Create a leaf node if the split is \"perfect\"\n",
    "    if len(left_split) == len(data):\n",
    "        print \"Creating leaf node.\"\n",
    "        return create_leaf(left_split[target], data_weights)\n",
    "    if len(right_split) == len(data):\n",
    "        print \"Creating leaf node.\"\n",
    "        return create_leaf(right_split[target], data_weights)\n",
    "    \n",
    "    # Repeat (recurse) on left and right subtrees\n",
    "    left_tree = weighted_decision_tree_create(\n",
    "        left_split, remaining_features, target, left_data_weights, current_depth + 1, max_depth)\n",
    "    right_tree = weighted_decision_tree_create(\n",
    "        right_split, remaining_features, target, right_data_weights, current_depth + 1, max_depth)\n",
    "    \n",
    "    return {'is_leaf'          : False, \n",
    "            'prediction'       : None,\n",
    "            'splitting_feature': splitting_feature,\n",
    "            'left'             : left_tree, \n",
    "            'right'            : right_tree}"
   ]
  },
  {
   "cell_type": "markdown",
   "metadata": {},
   "source": [
    "## Count nodes aka tree complexity"
   ]
  },
  {
   "cell_type": "code",
   "execution_count": 134,
   "metadata": {
    "collapsed": true
   },
   "outputs": [],
   "source": [
    "def count_nodes(tree):\n",
    "    if tree['is_leaf']:\n",
    "        return 1\n",
    "    return 1 + count_nodes(tree['left']) + count_nodes(tree['right'])"
   ]
  },
  {
   "cell_type": "markdown",
   "metadata": {},
   "source": [
    "## Classify fun"
   ]
  },
  {
   "cell_type": "code",
   "execution_count": 135,
   "metadata": {
    "collapsed": true
   },
   "outputs": [],
   "source": [
    "def classify(tree, x, annotate = False):   \n",
    "    # If the node is a leaf node.\n",
    "    if tree['is_leaf']:\n",
    "        if annotate: \n",
    "            print \"At leaf, predicting %s\" % tree['prediction']\n",
    "        return tree['prediction'] \n",
    "    else:\n",
    "        # Split on feature.\n",
    "        split_feature_value = x[tree['splitting_feature']]\n",
    "        if annotate: \n",
    "            print \"Split on %s = %s\" % (tree['splitting_feature'], split_feature_value)\n",
    "        if split_feature_value == 0:\n",
    "            return classify(tree['left'], x, annotate)\n",
    "        else:\n",
    "            return classify(tree['right'], x, annotate)"
   ]
  },
  {
   "cell_type": "markdown",
   "metadata": {},
   "source": [
    "## Evaluating the tree"
   ]
  },
  {
   "cell_type": "code",
   "execution_count": 136,
   "metadata": {
    "collapsed": true
   },
   "outputs": [],
   "source": [
    "def evaluate_classification_error(tree, data):\n",
    "    # Apply the classify(tree, x) to each row in your data\n",
    "    prediction = []\n",
    "    for i in range(data.shape[0]):\n",
    "        prediction.append(classify(tree, data.iloc[i]))\n",
    "    \n",
    "    errors = np.sum(prediction != data[target_name])\n",
    "    return errors / float(len(prediction))"
   ]
  },
  {
   "cell_type": "markdown",
   "metadata": {},
   "source": [
    "## Intuition begind weights"
   ]
  },
  {
   "cell_type": "code",
   "execution_count": 137,
   "metadata": {
    "collapsed": false
   },
   "outputs": [
    {
     "name": "stdout",
     "output_type": "stream",
     "text": [
      "[ 1.  1.  1.  1.  1.  1.  1.  1.  1.  1.  0.  0.  0.  0.  0.]\n",
      "['grade_A', 'grade_B', 'grade_C', 'grade_D', 'grade_E', 'grade_F', 'grade_G', 'term_ 36 months', 'term_ 60 months', 'home_ownership_MORTGAGE', 'home_ownership_OTHER', 'home_ownership_OWN', 'home_ownership_RENT', 'emp_length_1 year', 'emp_length_10+ years', 'emp_length_2 years', 'emp_length_3 years', 'emp_length_4 years', 'emp_length_5 years', 'emp_length_6 years', 'emp_length_7 years', 'emp_length_8 years', 'emp_length_9 years', 'emp_length_< 1 year', 'emp_length_n/a']\n"
     ]
    }
   ],
   "source": [
    "# Assign weights\n",
    "example_data_weights = np.array([1.] * 10 + [0.] * (len(train_data) - 20) + [1.] * 10)\n",
    "print(example_data_weights[:15])\n",
    "print list(features.columns.values[:-1])"
   ]
  },
  {
   "cell_type": "code",
   "execution_count": 138,
   "metadata": {
    "collapsed": false
   },
   "outputs": [
    {
     "name": "stdout",
     "output_type": "stream",
     "text": [
      "---- START -----\n",
      "--------------------------------------------------------------------\n",
      "Subtree, depth = 1 (37219 data points).\n",
      "=============="
     ]
    },
    {
     "name": "stderr",
     "output_type": "stream",
     "text": [
      "/Users/oleksiirenov/anaconda/lib/python2.7/site-packages/IPython/kernel/__main__.py:3: FutureWarning: in the future, boolean array-likes will be handled as a boolean array index\n",
      "  app.launch_new_instance()\n",
      "/Users/oleksiirenov/anaconda/lib/python2.7/site-packages/IPython/kernel/__main__.py:6: FutureWarning: in the future, boolean array-likes will be handled as a boolean array index\n",
      "/Users/oleksiirenov/anaconda/lib/python2.7/site-packages/IPython/kernel/__main__.py:9: FutureWarning: in the future, boolean array-likes will be handled as a boolean array index\n",
      "/Users/oleksiirenov/anaconda/lib/python2.7/site-packages/IPython/kernel/__main__.py:12: FutureWarning: in the future, boolean array-likes will be handled as a boolean array index\n",
      "/Users/oleksiirenov/anaconda/lib/python2.7/site-packages/IPython/kernel/__main__.py:18: FutureWarning: in the future, boolean array-likes will be handled as a boolean array index\n",
      "/Users/oleksiirenov/anaconda/lib/python2.7/site-packages/IPython/kernel/__main__.py:19: FutureWarning: in the future, boolean array-likes will be handled as a boolean array index\n",
      "/Users/oleksiirenov/anaconda/lib/python2.7/site-packages/IPython/kernel/__main__.py:30: FutureWarning: in the future, boolean array-likes will be handled as a boolean array index\n"
     ]
    },
    {
     "name": "stdout",
     "output_type": "stream",
     "text": [
      "\n",
      "31115.0 6104.0 20.0\n",
      "grade_A 1860.95\n",
      "Split on feature grade_A. (31115, 6104)\n",
      "---- START -----\n",
      "--------------------------------------------------------------------\n",
      "Subtree, depth = 2 (31115 data points).\n",
      "==============\n",
      "19937.0 11178.0 37219.0\n",
      "grade_B 0.835997743088\n",
      "Split on feature grade_B. (19937, 11178)\n",
      "---- START -----\n",
      "--------------------------------------------------------------------\n",
      "Subtree, depth = 3 (19937 data points).\n",
      "Reached maximum depth. Stopping for now.\n",
      "---- START -----\n",
      "--------------------------------------------------------------------\n",
      "Subtree, depth = 3 (11178 data points).\n",
      "Reached maximum depth. Stopping for now.\n",
      "---- START -----\n",
      "--------------------------------------------------------------------\n",
      "Subtree, depth = 2 (6104 data points).\n",
      "==============\n",
      "6104.0 0 37219.0\n",
      "grade_B 0.164002256912\n",
      "Split on feature grade_B. (6104, 0)\n",
      "Creating leaf node.\n"
     ]
    },
    {
     "name": "stderr",
     "output_type": "stream",
     "text": [
      "/Users/oleksiirenov/anaconda/lib/python2.7/site-packages/IPython/kernel/__main__.py:31: FutureWarning: in the future, boolean array-likes will be handled as a boolean array index\n"
     ]
    }
   ],
   "source": [
    "# Train a weighted decision tree model.\n",
    "small_data_decision_tree_subset_20 = weighted_decision_tree_create(train_data,  \n",
    "                                                                   list(features.columns.values[:-1]), 'safe_loans',\n",
    "                                                                   example_data_weights, max_depth=2)"
   ]
  },
  {
   "cell_type": "code",
   "execution_count": 127,
   "metadata": {
    "collapsed": false
   },
   "outputs": [
    {
     "data": {
      "text/plain": [
       "0.27260270292055133"
      ]
     },
     "execution_count": 127,
     "metadata": {},
     "output_type": "execute_result"
    }
   ],
   "source": [
    "evaluate_classification_error(small_data_decision_tree_subset_20, train_data)"
   ]
  },
  {
   "cell_type": "markdown",
   "metadata": {
    "collapsed": true
   },
   "source": [
    "## Quiz Question: Will you get the same model as small_data_decision_tree_subset_20 if you trained a decision tree with only the 20 data points with non-zero weights from the set of points in subset_20?\n",
    "\n"
   ]
  },
  {
   "cell_type": "markdown",
   "metadata": {},
   "source": [
    "Yes"
   ]
  },
  {
   "cell_type": "markdown",
   "metadata": {},
   "source": [
    "## Implementing AdaBoost"
   ]
  },
  {
   "cell_type": "code",
   "execution_count": 128,
   "metadata": {
    "collapsed": true
   },
   "outputs": [],
   "source": [
    "from math import log\n",
    "from math import exp\n",
    "\n",
    "def adaboost_with_tree_stumps(data, features, target, num_tree_stumps):\n",
    "    # start with unweighted data\n",
    "    alpha = np.array([1./len(data)]*len(data))\n",
    "    weights = []\n",
    "    tree_stumps = []\n",
    "    target_values = data[target]\n",
    "    \n",
    "    for t in xrange(num_tree_stumps):\n",
    "        print '====================================================='\n",
    "        print 'Adaboost Iteration %d' % t\n",
    "        print '====================================================='        \n",
    "        # Learn a weighted decision tree stump. Use max_depth=1\n",
    "        tree_stump = weighted_decision_tree_create(data, features, target, data_weights=alpha, max_depth=1)\n",
    "        tree_stumps.append(tree_stump)\n",
    "        \n",
    "        # Make predictions\n",
    "        predictions = []\n",
    "        for i in range(data.shape[0]):\n",
    "            predictions.append(classify(tree_stump, data.iloc[i]))\n",
    "   \n",
    "        # Produce a Boolean array indicating whether\n",
    "        # each data point was correctly classified\n",
    "        is_correct = predictions == target_values\n",
    "        is_wrong   = predictions != target_values\n",
    "        \n",
    "        # Compute weighted error\n",
    "        weighted_error = np.dot(is_wrong, alpha) / sum(alpha)\n",
    "        # Compute model coefficient using weighted error\n",
    "        weight = 0.5 * log((1 - weighted_error) / weighted_error)\n",
    "        weights.append(weight)\n",
    "        # Adjust weights on data point\n",
    "        adjustment = map(lambda s : exp(-weight) if s else exp(weight), is_correct)\n",
    "        # Scale alpha by multiplying by adjustment\n",
    "        # Then normalize data points weights\n",
    "        alpha = np.multiply(alpha, adjustment)\n",
    "        alpha = alpha / np.sum(alpha)\n",
    "    \n",
    "    return weights, tree_stumps"
   ]
  },
  {
   "cell_type": "markdown",
   "metadata": {},
   "source": [
    "## Train a Boosted Ensemble"
   ]
  },
  {
   "cell_type": "code",
   "execution_count": 129,
   "metadata": {
    "collapsed": false
   },
   "outputs": [
    {
     "name": "stderr",
     "output_type": "stream",
     "text": [
      "/Users/oleksiirenov/anaconda/lib/python2.7/site-packages/IPython/kernel/__main__.py:3: FutureWarning: in the future, boolean array-likes will be handled as a boolean array index\n",
      "  app.launch_new_instance()\n",
      "/Users/oleksiirenov/anaconda/lib/python2.7/site-packages/IPython/kernel/__main__.py:6: FutureWarning: in the future, boolean array-likes will be handled as a boolean array index\n",
      "/Users/oleksiirenov/anaconda/lib/python2.7/site-packages/IPython/kernel/__main__.py:9: FutureWarning: in the future, boolean array-likes will be handled as a boolean array index\n",
      "/Users/oleksiirenov/anaconda/lib/python2.7/site-packages/IPython/kernel/__main__.py:12: FutureWarning: in the future, boolean array-likes will be handled as a boolean array index\n",
      "/Users/oleksiirenov/anaconda/lib/python2.7/site-packages/IPython/kernel/__main__.py:18: FutureWarning: in the future, boolean array-likes will be handled as a boolean array index\n",
      "/Users/oleksiirenov/anaconda/lib/python2.7/site-packages/IPython/kernel/__main__.py:19: FutureWarning: in the future, boolean array-likes will be handled as a boolean array index\n"
     ]
    },
    {
     "name": "stdout",
     "output_type": "stream",
     "text": [
      "=====================================================\n",
      "Adaboost Iteration 0\n",
      "=====================================================\n",
      "---- START -----\n",
      "--------------------------------------------------------------------\n",
      "Subtree, depth = 1 (37219 data points).\n",
      "==============\n",
      "0.835997743089 0.164002256912\n",
      "grade_A 1.0\n",
      "Split on feature grade_A. (31115, 6104)\n",
      "---- START -----\n",
      "--------------------------------------------------------------------\n",
      "Subtree, depth = 2 (31115 data points).\n",
      "Reached maximum depth. Stopping for now.\n",
      "---- START -----\n",
      "--------------------------------------------------------------------\n",
      "Subtree, depth = 2 (6104 data points).\n",
      "Reached maximum depth. Stopping for now.\n",
      "=====================================================\n",
      "Adaboost Iteration 1\n",
      "=====================================================\n",
      "---- START -----\n",
      "--------------------------------------------------------------------\n",
      "Subtree, depth = 1 (37219 data points).\n",
      "==============\n",
      "1.53336290164 0.300808200276\n",
      "grade_A 1.83417110191\n",
      "==============\n",
      "1.81633155924 0.0178395426769\n",
      "grade_G 1.83417110191\n",
      "==============\n",
      "1.83111571063 0.00305539128721\n",
      "home_ownership_OTHER 1.83417110191\n",
      "Split on feature home_ownership_OTHER. (37157, 62)\n",
      "---- START -----\n",
      "--------------------------------------------------------------------\n",
      "Subtree, depth = 2 (37157 data points).\n",
      "Reached maximum depth. Stopping for now.\n",
      "---- START -----\n",
      "--------------------------------------------------------------------\n",
      "Subtree, depth = 2 (62 data points).\n",
      "Reached maximum depth. Stopping for now.\n",
      "=====================================================\n",
      "Adaboost Iteration 2\n",
      "=====================================================\n",
      "---- START -----\n",
      "--------------------------------------------------------------------\n",
      "Subtree, depth = 1 (37219 data points).\n",
      "==============\n",
      "1.53336290164 0.300808200276\n",
      "grade_A 1.83417110191\n",
      "==============\n",
      "1.68913857678 0.145032525133\n",
      "grade_E 1.83417110191\n",
      "==============\n",
      "1.76734673763 0.0668243642815\n",
      "grade_F 1.83417110191\n",
      "==============\n",
      "1.81633155924 0.0178395426769\n",
      "grade_G 1.83417110191\n",
      "==============\n",
      "1.83111571063 0.00305539128721\n",
      "home_ownership_OTHER 1.83417110191\n",
      "Split on feature home_ownership_OTHER. (37157, 62)\n",
      "---- START -----\n",
      "--------------------------------------------------------------------\n",
      "Subtree, depth = 2 (37157 data points).\n",
      "Reached maximum depth. Stopping for now.\n",
      "---- START -----\n",
      "--------------------------------------------------------------------\n",
      "Subtree, depth = 2 (62 data points).\n",
      "Reached maximum depth. Stopping for now.\n",
      "=====================================================\n",
      "Adaboost Iteration 3\n",
      "=====================================================\n",
      "---- START -----\n",
      "--------------------------------------------------------------------\n",
      "Subtree, depth = 1 (37219 data points).\n",
      "==============\n",
      "1.53336290164 0.300808200276\n",
      "grade_A 1.83417110191\n",
      "==============\n",
      "1.68913857678 0.145032525133\n",
      "grade_E 1.83417110191\n",
      "==============\n",
      "1.76734673763 0.0668243642815\n",
      "grade_F 1.83417110191\n",
      "==============\n",
      "1.81633155924 0.0178395426769\n",
      "grade_G 1.83417110191\n",
      "==============\n",
      "1.83111571063 0.00305539128721\n",
      "home_ownership_OTHER 1.83417110191\n",
      "Split on feature home_ownership_OTHER. (37157, 62)\n",
      "---- START -----\n",
      "--------------------------------------------------------------------\n",
      "Subtree, depth = 2 (37157 data points).\n",
      "Reached maximum depth. Stopping for now.\n",
      "---- START -----\n",
      "--------------------------------------------------------------------\n",
      "Subtree, depth = 2 (62 data points).\n",
      "Reached maximum depth. Stopping for now.\n",
      "=====================================================\n",
      "Adaboost Iteration 4\n",
      "=====================================================\n",
      "---- START -----\n",
      "--------------------------------------------------------------------\n",
      "Subtree, depth = 1 (37219 data points).\n",
      "==============\n",
      "1.53336290164 0.300808200276\n",
      "grade_A 1.83417110191\n",
      "==============\n",
      "1.68913857678 0.145032525133\n",
      "grade_E 1.83417110191\n",
      "==============\n",
      "1.76734673763 0.0668243642815\n",
      "grade_F 1.83417110191\n",
      "==============\n",
      "1.81633155924 0.0178395426769\n",
      "grade_G 1.83417110191\n",
      "==============\n",
      "1.83111571063 0.00305539128721\n",
      "home_ownership_OTHER 1.83417110191\n",
      "Split on feature home_ownership_OTHER. (37157, 62)\n",
      "---- START -----\n",
      "--------------------------------------------------------------------\n",
      "Subtree, depth = 2 (37157 data points).\n",
      "Reached maximum depth. Stopping for now.\n",
      "---- START -----\n",
      "--------------------------------------------------------------------\n",
      "Subtree, depth = 2 (62 data points).\n",
      "Reached maximum depth. Stopping for now.\n",
      "=====================================================\n",
      "Adaboost Iteration 5\n",
      "=====================================================\n",
      "---- START -----\n",
      "--------------------------------------------------------------------\n",
      "Subtree, depth = 1 (37219 data points).\n",
      "==============\n",
      "1.53336290164 0.300808200276\n",
      "grade_A 1.83417110191\n",
      "==============\n",
      "1.68913857678 0.145032525133\n",
      "grade_E 1.83417110191\n",
      "==============\n",
      "1.76734673763 0.0668243642815\n",
      "grade_F 1.83417110191\n",
      "==============\n",
      "1.81633155924 0.0178395426769\n",
      "grade_G 1.83417110191\n",
      "==============\n",
      "1.83111571063 0.00305539128721\n",
      "home_ownership_OTHER 1.83417110191\n",
      "Split on feature home_ownership_OTHER. (37157, 62)\n",
      "---- START -----\n",
      "--------------------------------------------------------------------\n",
      "Subtree, depth = 2 (37157 data points).\n",
      "Reached maximum depth. Stopping for now.\n",
      "---- START -----\n",
      "--------------------------------------------------------------------\n",
      "Subtree, depth = 2 (62 data points).\n",
      "Reached maximum depth. Stopping for now.\n",
      "=====================================================\n",
      "Adaboost Iteration 6\n",
      "=====================================================\n",
      "---- START -----\n",
      "--------------------------------------------------------------------\n",
      "Subtree, depth = 1 (37219 data points).\n",
      "==============\n",
      "1.53336290164 0.300808200276\n",
      "grade_A 1.83417110191\n",
      "==============\n",
      "1.68913857678 0.145032525133\n",
      "grade_E 1.83417110191\n",
      "==============\n",
      "1.76734673763 0.0668243642815\n",
      "grade_F 1.83417110191\n",
      "==============\n",
      "1.81633155924 0.0178395426769\n",
      "grade_G 1.83417110191\n",
      "==============\n",
      "1.83111571063 0.00305539128721\n",
      "home_ownership_OTHER 1.83417110191\n",
      "Split on feature home_ownership_OTHER. (37157, 62)\n",
      "---- START -----\n",
      "--------------------------------------------------------------------\n",
      "Subtree, depth = 2 (37157 data points).\n",
      "Reached maximum depth. Stopping for now.\n",
      "---- START -----\n",
      "--------------------------------------------------------------------\n",
      "Subtree, depth = 2 (62 data points).\n",
      "Reached maximum depth. Stopping for now.\n"
     ]
    },
    {
     "name": "stderr",
     "output_type": "stream",
     "text": [
      "/Users/oleksiirenov/anaconda/lib/python2.7/site-packages/IPython/kernel/__main__.py:30: FutureWarning: in the future, boolean array-likes will be handled as a boolean array index\n",
      "/Users/oleksiirenov/anaconda/lib/python2.7/site-packages/IPython/kernel/__main__.py:31: FutureWarning: in the future, boolean array-likes will be handled as a boolean array index\n"
     ]
    },
    {
     "ename": "KeyboardInterrupt",
     "evalue": "",
     "output_type": "error",
     "traceback": [
      "\u001b[0;31m---------------------------------------------------------------------------\u001b[0m",
      "\u001b[0;31mKeyboardInterrupt\u001b[0m                         Traceback (most recent call last)",
      "\u001b[0;32m<ipython-input-129-f6d130851bca>\u001b[0m in \u001b[0;36m<module>\u001b[0;34m()\u001b[0m\n\u001b[1;32m      1\u001b[0m adaboost_with_tree_stumps2 = adaboost_with_tree_stumps(train_data, list(features.columns.values[:-1]),\n\u001b[0;32m----> 2\u001b[0;31m                                                       'safe_loans', num_tree_stumps = 10)\n\u001b[0m",
      "\u001b[0;32m<ipython-input-128-9eec1917140c>\u001b[0m in \u001b[0;36madaboost_with_tree_stumps\u001b[0;34m(data, features, target, num_tree_stumps)\u001b[0m\n\u001b[1;32m     20\u001b[0m         \u001b[0mpredictions\u001b[0m \u001b[0;34m=\u001b[0m \u001b[0;34m[\u001b[0m\u001b[0;34m]\u001b[0m\u001b[0;34m\u001b[0m\u001b[0m\n\u001b[1;32m     21\u001b[0m         \u001b[0;32mfor\u001b[0m \u001b[0mi\u001b[0m \u001b[0;32min\u001b[0m \u001b[0mrange\u001b[0m\u001b[0;34m(\u001b[0m\u001b[0mdata\u001b[0m\u001b[0;34m.\u001b[0m\u001b[0mshape\u001b[0m\u001b[0;34m[\u001b[0m\u001b[0;36m0\u001b[0m\u001b[0;34m]\u001b[0m\u001b[0;34m)\u001b[0m\u001b[0;34m:\u001b[0m\u001b[0;34m\u001b[0m\u001b[0m\n\u001b[0;32m---> 22\u001b[0;31m             \u001b[0mpredictions\u001b[0m\u001b[0;34m.\u001b[0m\u001b[0mappend\u001b[0m\u001b[0;34m(\u001b[0m\u001b[0mclassify\u001b[0m\u001b[0;34m(\u001b[0m\u001b[0mtree_stump\u001b[0m\u001b[0;34m,\u001b[0m \u001b[0mdata\u001b[0m\u001b[0;34m.\u001b[0m\u001b[0miloc\u001b[0m\u001b[0;34m[\u001b[0m\u001b[0mi\u001b[0m\u001b[0;34m]\u001b[0m\u001b[0;34m)\u001b[0m\u001b[0;34m)\u001b[0m\u001b[0;34m\u001b[0m\u001b[0m\n\u001b[0m\u001b[1;32m     23\u001b[0m \u001b[0;34m\u001b[0m\u001b[0m\n\u001b[1;32m     24\u001b[0m         \u001b[0;31m# Produce a Boolean array indicating whether\u001b[0m\u001b[0;34m\u001b[0m\u001b[0;34m\u001b[0m\u001b[0m\n",
      "\u001b[0;32m<ipython-input-123-fae019e36ba9>\u001b[0m in \u001b[0;36mclassify\u001b[0;34m(tree, x, annotate)\u001b[0m\n\u001b[1;32m     10\u001b[0m         \u001b[0;32mif\u001b[0m \u001b[0mannotate\u001b[0m\u001b[0;34m:\u001b[0m\u001b[0;34m\u001b[0m\u001b[0m\n\u001b[1;32m     11\u001b[0m             \u001b[0;32mprint\u001b[0m \u001b[0;34m\"Split on %s = %s\"\u001b[0m \u001b[0;34m%\u001b[0m \u001b[0;34m(\u001b[0m\u001b[0mtree\u001b[0m\u001b[0;34m[\u001b[0m\u001b[0;34m'splitting_feature'\u001b[0m\u001b[0;34m]\u001b[0m\u001b[0;34m,\u001b[0m \u001b[0msplit_feature_value\u001b[0m\u001b[0;34m)\u001b[0m\u001b[0;34m\u001b[0m\u001b[0m\n\u001b[0;32m---> 12\u001b[0;31m         \u001b[0;32mif\u001b[0m \u001b[0msplit_feature_value\u001b[0m \u001b[0;34m==\u001b[0m \u001b[0;36m0\u001b[0m\u001b[0;34m:\u001b[0m\u001b[0;34m\u001b[0m\u001b[0m\n\u001b[0m\u001b[1;32m     13\u001b[0m             \u001b[0;32mreturn\u001b[0m \u001b[0mclassify\u001b[0m\u001b[0;34m(\u001b[0m\u001b[0mtree\u001b[0m\u001b[0;34m[\u001b[0m\u001b[0;34m'left'\u001b[0m\u001b[0;34m]\u001b[0m\u001b[0;34m,\u001b[0m \u001b[0mx\u001b[0m\u001b[0;34m,\u001b[0m \u001b[0mannotate\u001b[0m\u001b[0;34m)\u001b[0m\u001b[0;34m\u001b[0m\u001b[0m\n\u001b[1;32m     14\u001b[0m         \u001b[0;32melse\u001b[0m\u001b[0;34m:\u001b[0m\u001b[0;34m\u001b[0m\u001b[0m\n",
      "\u001b[0;31mKeyboardInterrupt\u001b[0m: "
     ]
    }
   ],
   "source": [
    "adaboost_with_tree_stumps2 = adaboost_with_tree_stumps(train_data, list(features.columns.values[:-1]),\n",
    "                                                      'safe_loans', num_tree_stumps = 10)"
   ]
  },
  {
   "cell_type": "markdown",
   "metadata": {},
   "source": [
    "## Evaluating AdaBoost Classifier"
   ]
  },
  {
   "cell_type": "code",
   "execution_count": 81,
   "metadata": {
    "collapsed": true
   },
   "outputs": [],
   "source": [
    "def predict_stump(tree_stump, data, stump_weight):\n",
    "    predictions = []\n",
    "    for i in range(data.shape[0]):\n",
    "        predictions.append(classify(tree_stump, data.iloc[i]) * stump_weight)\n",
    "    \n",
    "    return predictions\n",
    "\n",
    "def predict_adaboost(stump_weights, tree_stumps, data):\n",
    "    scores = np.array([0.] * len(data))\n",
    "    \n",
    "    for i, tree_stump in enumerate(tree_stumps):\n",
    "        predictions = predict_stump(tree_stump, data, stump_weights[i])\n",
    "        scores = np.add(predictions, scores)\n",
    "    \n",
    "    return map(lambda score : +1 if score > 0 else -1, scores)"
   ]
  },
  {
   "cell_type": "markdown",
   "metadata": {},
   "source": [
    "## Quiz Question: Are the weights monotonically decreasing, monotonically increasing, or neither?\n",
    "\n"
   ]
  },
  {
   "cell_type": "code",
   "execution_count": 82,
   "metadata": {
    "collapsed": false
   },
   "outputs": [
    {
     "name": "stdout",
     "output_type": "stream",
     "text": [
      "[0.49072869106598693, 1.7430501486611918e-13, 1.1768364061025273e-13, -1.1102230246251688e-14, -5.995204332975882e-15, -4.8849813083507124e-15, 1.176836406102652e-14, -5.995204332975882e-15, -4.8849813083507124e-15, 1.176836406102652e-14]\n"
     ]
    }
   ],
   "source": [
    "print adaboost_with_tree_stumps2[0]"
   ]
  },
  {
   "cell_type": "markdown",
   "metadata": {},
   "source": [
    "Monotonically decreasing"
   ]
  },
  {
   "cell_type": "markdown",
   "metadata": {},
   "source": [
    "## AdaBoost with 30 estimators"
   ]
  },
  {
   "cell_type": "code",
   "execution_count": 83,
   "metadata": {
    "collapsed": false
   },
   "outputs": [
    {
     "name": "stderr",
     "output_type": "stream",
     "text": [
      "/Users/oleksiirenov/anaconda/lib/python2.7/site-packages/IPython/kernel/__main__.py:3: FutureWarning: in the future, boolean array-likes will be handled as a boolean array index\n",
      "  app.launch_new_instance()\n",
      "/Users/oleksiirenov/anaconda/lib/python2.7/site-packages/IPython/kernel/__main__.py:6: FutureWarning: in the future, boolean array-likes will be handled as a boolean array index\n",
      "/Users/oleksiirenov/anaconda/lib/python2.7/site-packages/IPython/kernel/__main__.py:9: FutureWarning: in the future, boolean array-likes will be handled as a boolean array index\n",
      "/Users/oleksiirenov/anaconda/lib/python2.7/site-packages/IPython/kernel/__main__.py:12: FutureWarning: in the future, boolean array-likes will be handled as a boolean array index\n",
      "/Users/oleksiirenov/anaconda/lib/python2.7/site-packages/IPython/kernel/__main__.py:18: FutureWarning: in the future, boolean array-likes will be handled as a boolean array index\n",
      "/Users/oleksiirenov/anaconda/lib/python2.7/site-packages/IPython/kernel/__main__.py:19: FutureWarning: in the future, boolean array-likes will be handled as a boolean array index\n",
      "/Users/oleksiirenov/anaconda/lib/python2.7/site-packages/IPython/kernel/__main__.py:30: FutureWarning: in the future, boolean array-likes will be handled as a boolean array index\n"
     ]
    },
    {
     "name": "stdout",
     "output_type": "stream",
     "text": [
      "=====================================================\n",
      "Adaboost Iteration 0\n",
      "=====================================================\n",
      "---- START -----\n",
      "--------------------------------------------------------------------\n",
      "Subtree, depth = 1 (37219 data points).\n",
      "Split on feature grade_A. (31115, 6104)\n",
      "---- START -----\n",
      "--------------------------------------------------------------------\n",
      "Subtree, depth = 2 (31115 data points).\n",
      "Reached maximum depth. Stopping for now.\n",
      "---- START -----\n",
      "--------------------------------------------------------------------\n",
      "Subtree, depth = 2 (6104 data points).\n",
      "Reached maximum depth. Stopping for now.\n",
      "=====================================================\n",
      "Adaboost Iteration 1\n",
      "=====================================================\n",
      "---- START -----\n",
      "--------------------------------------------------------------------\n",
      "Subtree, depth = 1 (37219 data points).\n",
      "Split on feature home_ownership_OTHER. (37157, 62)\n",
      "---- START -----\n",
      "--------------------------------------------------------------------\n",
      "Subtree, depth = 2 (37157 data points).\n",
      "Reached maximum depth. Stopping for now.\n",
      "---- START -----\n",
      "--------------------------------------------------------------------\n",
      "Subtree, depth = 2 (62 data points).\n",
      "Reached maximum depth. Stopping for now.\n",
      "=====================================================\n",
      "Adaboost Iteration 2\n",
      "=====================================================\n",
      "---- START -----\n",
      "--------------------------------------------------------------------\n",
      "Subtree, depth = 1 (37219 data points).\n",
      "Split on feature home_ownership_OTHER. (37157, 62)\n",
      "---- START -----\n",
      "--------------------------------------------------------------------\n",
      "Subtree, depth = 2 (37157 data points).\n",
      "Reached maximum depth. Stopping for now.\n",
      "---- START -----\n",
      "--------------------------------------------------------------------\n",
      "Subtree, depth = 2 (62 data points).\n",
      "Reached maximum depth. Stopping for now.\n",
      "=====================================================\n",
      "Adaboost Iteration 3\n",
      "=====================================================\n",
      "---- START -----\n",
      "--------------------------------------------------------------------\n",
      "Subtree, depth = 1 (37219 data points).\n",
      "Split on feature home_ownership_OTHER. (37157, 62)\n",
      "---- START -----\n",
      "--------------------------------------------------------------------\n",
      "Subtree, depth = 2 (37157 data points).\n",
      "Reached maximum depth. Stopping for now.\n",
      "---- START -----\n",
      "--------------------------------------------------------------------\n",
      "Subtree, depth = 2 (62 data points).\n",
      "Reached maximum depth. Stopping for now.\n",
      "=====================================================\n",
      "Adaboost Iteration 4\n",
      "=====================================================\n",
      "---- START -----\n",
      "--------------------------------------------------------------------\n",
      "Subtree, depth = 1 (37219 data points).\n",
      "Split on feature home_ownership_OTHER. (37157, 62)\n",
      "---- START -----\n",
      "--------------------------------------------------------------------\n",
      "Subtree, depth = 2 (37157 data points).\n",
      "Reached maximum depth. Stopping for now.\n",
      "---- START -----\n",
      "--------------------------------------------------------------------\n",
      "Subtree, depth = 2 (62 data points).\n",
      "Reached maximum depth. Stopping for now.\n",
      "=====================================================\n",
      "Adaboost Iteration 5\n",
      "=====================================================\n",
      "---- START -----\n",
      "--------------------------------------------------------------------\n",
      "Subtree, depth = 1 (37219 data points).\n",
      "Split on feature home_ownership_OTHER. (37157, 62)\n",
      "---- START -----\n",
      "--------------------------------------------------------------------\n",
      "Subtree, depth = 2 (37157 data points).\n",
      "Reached maximum depth. Stopping for now.\n",
      "---- START -----\n",
      "--------------------------------------------------------------------\n",
      "Subtree, depth = 2 (62 data points).\n",
      "Reached maximum depth. Stopping for now.\n",
      "=====================================================\n",
      "Adaboost Iteration 6\n",
      "=====================================================\n",
      "---- START -----\n",
      "--------------------------------------------------------------------\n",
      "Subtree, depth = 1 (37219 data points).\n",
      "Split on feature home_ownership_OTHER. (37157, 62)\n",
      "---- START -----\n",
      "--------------------------------------------------------------------\n",
      "Subtree, depth = 2 (37157 data points).\n",
      "Reached maximum depth. Stopping for now.\n",
      "---- START -----\n",
      "--------------------------------------------------------------------\n",
      "Subtree, depth = 2 (62 data points).\n",
      "Reached maximum depth. Stopping for now.\n",
      "=====================================================\n",
      "Adaboost Iteration 7\n",
      "=====================================================\n",
      "---- START -----\n",
      "--------------------------------------------------------------------\n",
      "Subtree, depth = 1 (37219 data points).\n",
      "Split on feature home_ownership_OTHER. (37157, 62)\n",
      "---- START -----\n",
      "--------------------------------------------------------------------\n",
      "Subtree, depth = 2 (37157 data points).\n",
      "Reached maximum depth. Stopping for now.\n",
      "---- START -----\n",
      "--------------------------------------------------------------------\n",
      "Subtree, depth = 2 (62 data points).\n",
      "Reached maximum depth. Stopping for now.\n",
      "=====================================================\n",
      "Adaboost Iteration 8\n",
      "=====================================================\n",
      "---- START -----\n",
      "--------------------------------------------------------------------\n",
      "Subtree, depth = 1 (37219 data points).\n",
      "Split on feature home_ownership_OTHER. (37157, 62)\n",
      "---- START -----\n",
      "--------------------------------------------------------------------\n",
      "Subtree, depth = 2 (37157 data points).\n",
      "Reached maximum depth. Stopping for now.\n",
      "---- START -----\n",
      "--------------------------------------------------------------------\n",
      "Subtree, depth = 2 (62 data points).\n",
      "Reached maximum depth. Stopping for now.\n",
      "=====================================================\n",
      "Adaboost Iteration 9\n",
      "=====================================================\n",
      "---- START -----\n",
      "--------------------------------------------------------------------\n",
      "Subtree, depth = 1 (37219 data points).\n",
      "Split on feature home_ownership_OTHER. (37157, 62)\n",
      "---- START -----\n",
      "--------------------------------------------------------------------\n",
      "Subtree, depth = 2 (37157 data points).\n",
      "Reached maximum depth. Stopping for now.\n",
      "---- START -----\n",
      "--------------------------------------------------------------------\n",
      "Subtree, depth = 2 (62 data points).\n",
      "Reached maximum depth. Stopping for now.\n",
      "=====================================================\n",
      "Adaboost Iteration 10\n",
      "=====================================================\n",
      "---- START -----\n",
      "--------------------------------------------------------------------\n",
      "Subtree, depth = 1 (37219 data points).\n",
      "Split on feature home_ownership_OTHER. (37157, 62)\n",
      "---- START -----\n",
      "--------------------------------------------------------------------\n",
      "Subtree, depth = 2 (37157 data points).\n",
      "Reached maximum depth. Stopping for now.\n",
      "---- START -----\n",
      "--------------------------------------------------------------------\n",
      "Subtree, depth = 2 (62 data points).\n",
      "Reached maximum depth. Stopping for now.\n",
      "=====================================================\n",
      "Adaboost Iteration 11\n",
      "=====================================================\n",
      "---- START -----\n",
      "--------------------------------------------------------------------\n",
      "Subtree, depth = 1 (37219 data points).\n",
      "Split on feature home_ownership_OTHER. (37157, 62)\n",
      "---- START -----\n",
      "--------------------------------------------------------------------\n",
      "Subtree, depth = 2 (37157 data points).\n",
      "Reached maximum depth. Stopping for now.\n",
      "---- START -----\n",
      "--------------------------------------------------------------------\n",
      "Subtree, depth = 2 (62 data points).\n",
      "Reached maximum depth. Stopping for now.\n",
      "=====================================================\n",
      "Adaboost Iteration 12\n",
      "=====================================================\n",
      "---- START -----\n",
      "--------------------------------------------------------------------\n",
      "Subtree, depth = 1 (37219 data points).\n",
      "Split on feature home_ownership_OTHER. (37157, 62)\n",
      "---- START -----\n",
      "--------------------------------------------------------------------\n",
      "Subtree, depth = 2 (37157 data points).\n",
      "Reached maximum depth. Stopping for now.\n",
      "---- START -----\n",
      "--------------------------------------------------------------------\n",
      "Subtree, depth = 2 (62 data points).\n",
      "Reached maximum depth. Stopping for now.\n",
      "=====================================================\n",
      "Adaboost Iteration 13\n",
      "=====================================================\n",
      "---- START -----\n",
      "--------------------------------------------------------------------\n",
      "Subtree, depth = 1 (37219 data points).\n",
      "Split on feature home_ownership_OTHER. (37157, 62)\n",
      "---- START -----\n",
      "--------------------------------------------------------------------\n",
      "Subtree, depth = 2 (37157 data points).\n",
      "Reached maximum depth. Stopping for now.\n",
      "---- START -----\n",
      "--------------------------------------------------------------------\n",
      "Subtree, depth = 2 (62 data points).\n",
      "Reached maximum depth. Stopping for now.\n",
      "=====================================================\n",
      "Adaboost Iteration 14\n",
      "=====================================================\n",
      "---- START -----\n",
      "--------------------------------------------------------------------\n",
      "Subtree, depth = 1 (37219 data points).\n",
      "Split on feature home_ownership_OTHER. (37157, 62)\n",
      "---- START -----\n",
      "--------------------------------------------------------------------\n",
      "Subtree, depth = 2 (37157 data points).\n",
      "Reached maximum depth. Stopping for now.\n",
      "---- START -----\n",
      "--------------------------------------------------------------------\n",
      "Subtree, depth = 2 (62 data points).\n",
      "Reached maximum depth. Stopping for now.\n",
      "=====================================================\n",
      "Adaboost Iteration 15\n",
      "=====================================================\n",
      "---- START -----\n",
      "--------------------------------------------------------------------\n",
      "Subtree, depth = 1 (37219 data points).\n",
      "Split on feature home_ownership_OTHER. (37157, 62)\n",
      "---- START -----\n",
      "--------------------------------------------------------------------\n",
      "Subtree, depth = 2 (37157 data points).\n",
      "Reached maximum depth. Stopping for now.\n",
      "---- START -----\n",
      "--------------------------------------------------------------------\n",
      "Subtree, depth = 2 (62 data points).\n",
      "Reached maximum depth. Stopping for now.\n",
      "=====================================================\n",
      "Adaboost Iteration 16\n",
      "=====================================================\n",
      "---- START -----\n",
      "--------------------------------------------------------------------\n",
      "Subtree, depth = 1 (37219 data points).\n",
      "Split on feature home_ownership_OTHER. (37157, 62)\n",
      "---- START -----\n",
      "--------------------------------------------------------------------\n",
      "Subtree, depth = 2 (37157 data points).\n",
      "Reached maximum depth. Stopping for now.\n",
      "---- START -----\n",
      "--------------------------------------------------------------------\n",
      "Subtree, depth = 2 (62 data points).\n",
      "Reached maximum depth. Stopping for now.\n",
      "=====================================================\n",
      "Adaboost Iteration 17\n",
      "=====================================================\n",
      "---- START -----\n",
      "--------------------------------------------------------------------\n",
      "Subtree, depth = 1 (37219 data points).\n",
      "Split on feature home_ownership_OTHER. (37157, 62)\n",
      "---- START -----\n",
      "--------------------------------------------------------------------\n",
      "Subtree, depth = 2 (37157 data points).\n",
      "Reached maximum depth. Stopping for now.\n",
      "---- START -----\n",
      "--------------------------------------------------------------------\n",
      "Subtree, depth = 2 (62 data points).\n",
      "Reached maximum depth. Stopping for now.\n",
      "=====================================================\n",
      "Adaboost Iteration 18\n",
      "=====================================================\n",
      "---- START -----\n",
      "--------------------------------------------------------------------\n",
      "Subtree, depth = 1 (37219 data points).\n",
      "Split on feature home_ownership_OTHER. (37157, 62)\n",
      "---- START -----\n",
      "--------------------------------------------------------------------\n",
      "Subtree, depth = 2 (37157 data points).\n",
      "Reached maximum depth. Stopping for now.\n",
      "---- START -----\n",
      "--------------------------------------------------------------------\n",
      "Subtree, depth = 2 (62 data points).\n",
      "Reached maximum depth. Stopping for now.\n",
      "=====================================================\n",
      "Adaboost Iteration 19\n",
      "=====================================================\n",
      "---- START -----\n",
      "--------------------------------------------------------------------\n",
      "Subtree, depth = 1 (37219 data points).\n",
      "Split on feature home_ownership_OTHER. (37157, 62)\n",
      "---- START -----\n",
      "--------------------------------------------------------------------\n",
      "Subtree, depth = 2 (37157 data points).\n",
      "Reached maximum depth. Stopping for now.\n",
      "---- START -----\n",
      "--------------------------------------------------------------------\n",
      "Subtree, depth = 2 (62 data points).\n",
      "Reached maximum depth. Stopping for now.\n",
      "=====================================================\n",
      "Adaboost Iteration 20\n",
      "=====================================================\n",
      "---- START -----\n",
      "--------------------------------------------------------------------\n",
      "Subtree, depth = 1 (37219 data points).\n",
      "Split on feature home_ownership_OTHER. (37157, 62)\n",
      "---- START -----\n",
      "--------------------------------------------------------------------\n",
      "Subtree, depth = 2 (37157 data points).\n",
      "Reached maximum depth. Stopping for now.\n",
      "---- START -----\n",
      "--------------------------------------------------------------------\n",
      "Subtree, depth = 2 (62 data points).\n",
      "Reached maximum depth. Stopping for now.\n",
      "=====================================================\n",
      "Adaboost Iteration 21\n",
      "=====================================================\n",
      "---- START -----\n",
      "--------------------------------------------------------------------\n",
      "Subtree, depth = 1 (37219 data points).\n",
      "Split on feature home_ownership_OTHER. (37157, 62)\n",
      "---- START -----\n",
      "--------------------------------------------------------------------\n",
      "Subtree, depth = 2 (37157 data points).\n",
      "Reached maximum depth. Stopping for now.\n",
      "---- START -----\n",
      "--------------------------------------------------------------------\n",
      "Subtree, depth = 2 (62 data points).\n",
      "Reached maximum depth. Stopping for now.\n",
      "=====================================================\n",
      "Adaboost Iteration 22\n",
      "=====================================================\n",
      "---- START -----\n",
      "--------------------------------------------------------------------\n",
      "Subtree, depth = 1 (37219 data points).\n",
      "Split on feature home_ownership_OTHER. (37157, 62)\n",
      "---- START -----\n",
      "--------------------------------------------------------------------\n",
      "Subtree, depth = 2 (37157 data points).\n",
      "Reached maximum depth. Stopping for now.\n",
      "---- START -----\n",
      "--------------------------------------------------------------------\n",
      "Subtree, depth = 2 (62 data points).\n",
      "Reached maximum depth. Stopping for now.\n",
      "=====================================================\n",
      "Adaboost Iteration 23\n",
      "=====================================================\n",
      "---- START -----\n",
      "--------------------------------------------------------------------\n",
      "Subtree, depth = 1 (37219 data points).\n",
      "Split on feature home_ownership_OTHER. (37157, 62)\n",
      "---- START -----\n",
      "--------------------------------------------------------------------\n",
      "Subtree, depth = 2 (37157 data points).\n",
      "Reached maximum depth. Stopping for now.\n",
      "---- START -----\n",
      "--------------------------------------------------------------------\n",
      "Subtree, depth = 2 (62 data points).\n",
      "Reached maximum depth. Stopping for now.\n",
      "=====================================================\n",
      "Adaboost Iteration 24\n",
      "=====================================================\n",
      "---- START -----\n",
      "--------------------------------------------------------------------\n",
      "Subtree, depth = 1 (37219 data points).\n",
      "Split on feature home_ownership_OTHER. (37157, 62)\n",
      "---- START -----\n",
      "--------------------------------------------------------------------\n",
      "Subtree, depth = 2 (37157 data points).\n",
      "Reached maximum depth. Stopping for now.\n",
      "---- START -----\n",
      "--------------------------------------------------------------------\n",
      "Subtree, depth = 2 (62 data points).\n",
      "Reached maximum depth. Stopping for now.\n",
      "=====================================================\n",
      "Adaboost Iteration 25\n",
      "=====================================================\n",
      "---- START -----\n",
      "--------------------------------------------------------------------\n",
      "Subtree, depth = 1 (37219 data points).\n",
      "Split on feature home_ownership_OTHER. (37157, 62)\n",
      "---- START -----\n",
      "--------------------------------------------------------------------\n",
      "Subtree, depth = 2 (37157 data points).\n",
      "Reached maximum depth. Stopping for now.\n",
      "---- START -----\n",
      "--------------------------------------------------------------------\n",
      "Subtree, depth = 2 (62 data points).\n",
      "Reached maximum depth. Stopping for now.\n",
      "=====================================================\n",
      "Adaboost Iteration 26\n",
      "=====================================================\n",
      "---- START -----\n",
      "--------------------------------------------------------------------\n",
      "Subtree, depth = 1 (37219 data points).\n",
      "Split on feature home_ownership_OTHER. (37157, 62)\n",
      "---- START -----\n",
      "--------------------------------------------------------------------\n",
      "Subtree, depth = 2 (37157 data points).\n",
      "Reached maximum depth. Stopping for now.\n",
      "---- START -----\n",
      "--------------------------------------------------------------------\n",
      "Subtree, depth = 2 (62 data points).\n",
      "Reached maximum depth. Stopping for now.\n",
      "=====================================================\n",
      "Adaboost Iteration 27\n",
      "=====================================================\n",
      "---- START -----\n",
      "--------------------------------------------------------------------\n",
      "Subtree, depth = 1 (37219 data points).\n",
      "Split on feature home_ownership_OTHER. (37157, 62)\n",
      "---- START -----\n",
      "--------------------------------------------------------------------\n",
      "Subtree, depth = 2 (37157 data points).\n",
      "Reached maximum depth. Stopping for now.\n",
      "---- START -----\n",
      "--------------------------------------------------------------------\n",
      "Subtree, depth = 2 (62 data points).\n",
      "Reached maximum depth. Stopping for now.\n",
      "=====================================================\n",
      "Adaboost Iteration 28\n",
      "=====================================================\n",
      "---- START -----\n",
      "--------------------------------------------------------------------\n",
      "Subtree, depth = 1 (37219 data points).\n",
      "Split on feature home_ownership_OTHER. (37157, 62)\n",
      "---- START -----\n",
      "--------------------------------------------------------------------\n",
      "Subtree, depth = 2 (37157 data points).\n",
      "Reached maximum depth. Stopping for now.\n",
      "---- START -----\n",
      "--------------------------------------------------------------------\n",
      "Subtree, depth = 2 (62 data points).\n",
      "Reached maximum depth. Stopping for now.\n",
      "=====================================================\n",
      "Adaboost Iteration 29\n",
      "=====================================================\n",
      "---- START -----\n",
      "--------------------------------------------------------------------\n",
      "Subtree, depth = 1 (37219 data points).\n",
      "Split on feature home_ownership_OTHER. (37157, 62)\n",
      "---- START -----\n",
      "--------------------------------------------------------------------\n",
      "Subtree, depth = 2 (37157 data points).\n",
      "Reached maximum depth. Stopping for now.\n",
      "---- START -----\n",
      "--------------------------------------------------------------------\n",
      "Subtree, depth = 2 (62 data points).\n",
      "Reached maximum depth. Stopping for now.\n"
     ]
    },
    {
     "name": "stderr",
     "output_type": "stream",
     "text": [
      "/Users/oleksiirenov/anaconda/lib/python2.7/site-packages/IPython/kernel/__main__.py:31: FutureWarning: in the future, boolean array-likes will be handled as a boolean array index\n"
     ]
    }
   ],
   "source": [
    "adaboost30_stump = adaboost_with_tree_stumps(train_data, list(features.columns.values[:-1]), 'safe_loans', num_tree_stumps = 30)"
   ]
  },
  {
   "cell_type": "code",
   "execution_count": 84,
   "metadata": {
    "collapsed": true
   },
   "outputs": [],
   "source": [
    "stump_weights, tree_stumps = adaboost30_stump"
   ]
  },
  {
   "cell_type": "code",
   "execution_count": 85,
   "metadata": {
    "collapsed": false
   },
   "outputs": [
    {
     "name": "stdout",
     "output_type": "stream",
     "text": [
      "Iteration 1, training error = 0.272602702921\n",
      "Iteration 2, training error = 0.272602702921\n",
      "Iteration 3, training error = 0.272602702921\n",
      "Iteration 4, training error = 0.272602702921\n"
     ]
    },
    {
     "ename": "KeyboardInterrupt",
     "evalue": "",
     "output_type": "error",
     "traceback": [
      "\u001b[0;31m---------------------------------------------------------------------------\u001b[0m",
      "\u001b[0;31mKeyboardInterrupt\u001b[0m                         Traceback (most recent call last)",
      "\u001b[0;32m<ipython-input-85-f7f2e7b2b130>\u001b[0m in \u001b[0;36m<module>\u001b[0;34m()\u001b[0m\n\u001b[1;32m      1\u001b[0m \u001b[0merror_all\u001b[0m \u001b[0;34m=\u001b[0m \u001b[0;34m[\u001b[0m\u001b[0;34m]\u001b[0m\u001b[0;34m\u001b[0m\u001b[0m\n\u001b[1;32m      2\u001b[0m \u001b[0;32mfor\u001b[0m \u001b[0mn\u001b[0m \u001b[0;32min\u001b[0m \u001b[0mxrange\u001b[0m\u001b[0;34m(\u001b[0m\u001b[0;36m1\u001b[0m\u001b[0;34m,\u001b[0m \u001b[0;36m31\u001b[0m\u001b[0;34m)\u001b[0m\u001b[0;34m:\u001b[0m\u001b[0;34m\u001b[0m\u001b[0m\n\u001b[0;32m----> 3\u001b[0;31m     \u001b[0mpredictions\u001b[0m \u001b[0;34m=\u001b[0m \u001b[0mpredict_adaboost\u001b[0m\u001b[0;34m(\u001b[0m\u001b[0mstump_weights\u001b[0m\u001b[0;34m[\u001b[0m\u001b[0;34m:\u001b[0m\u001b[0mn\u001b[0m\u001b[0;34m]\u001b[0m\u001b[0;34m,\u001b[0m \u001b[0mtree_stumps\u001b[0m\u001b[0;34m[\u001b[0m\u001b[0;34m:\u001b[0m\u001b[0mn\u001b[0m\u001b[0;34m]\u001b[0m\u001b[0;34m,\u001b[0m \u001b[0mtrain_data\u001b[0m\u001b[0;34m)\u001b[0m\u001b[0;34m\u001b[0m\u001b[0m\n\u001b[0m\u001b[1;32m      4\u001b[0m     \u001b[0merror\u001b[0m \u001b[0;34m=\u001b[0m \u001b[0;36m1.0\u001b[0m \u001b[0;34m-\u001b[0m \u001b[0mnp\u001b[0m\u001b[0;34m.\u001b[0m\u001b[0msum\u001b[0m\u001b[0;34m(\u001b[0m\u001b[0mtrain_data\u001b[0m\u001b[0;34m[\u001b[0m\u001b[0;34m'safe_loans'\u001b[0m\u001b[0;34m]\u001b[0m \u001b[0;34m==\u001b[0m \u001b[0mpredictions\u001b[0m\u001b[0;34m)\u001b[0m\u001b[0;34m/\u001b[0m\u001b[0mfloat\u001b[0m\u001b[0;34m(\u001b[0m\u001b[0mlen\u001b[0m\u001b[0;34m(\u001b[0m\u001b[0mpredictions\u001b[0m\u001b[0;34m)\u001b[0m\u001b[0;34m)\u001b[0m\u001b[0;34m\u001b[0m\u001b[0m\n\u001b[1;32m      5\u001b[0m     \u001b[0merror_all\u001b[0m\u001b[0;34m.\u001b[0m\u001b[0mappend\u001b[0m\u001b[0;34m(\u001b[0m\u001b[0merror\u001b[0m\u001b[0;34m)\u001b[0m\u001b[0;34m\u001b[0m\u001b[0m\n",
      "\u001b[0;32m<ipython-input-81-1b479d73ea0b>\u001b[0m in \u001b[0;36mpredict_adaboost\u001b[0;34m(stump_weights, tree_stumps, data)\u001b[0m\n\u001b[1;32m     10\u001b[0m \u001b[0;34m\u001b[0m\u001b[0m\n\u001b[1;32m     11\u001b[0m     \u001b[0;32mfor\u001b[0m \u001b[0mi\u001b[0m\u001b[0;34m,\u001b[0m \u001b[0mtree_stump\u001b[0m \u001b[0;32min\u001b[0m \u001b[0menumerate\u001b[0m\u001b[0;34m(\u001b[0m\u001b[0mtree_stumps\u001b[0m\u001b[0;34m)\u001b[0m\u001b[0;34m:\u001b[0m\u001b[0;34m\u001b[0m\u001b[0m\n\u001b[0;32m---> 12\u001b[0;31m         \u001b[0mpredictions\u001b[0m \u001b[0;34m=\u001b[0m \u001b[0mpredict_stump\u001b[0m\u001b[0;34m(\u001b[0m\u001b[0mtree_stump\u001b[0m\u001b[0;34m,\u001b[0m \u001b[0mdata\u001b[0m\u001b[0;34m,\u001b[0m \u001b[0mstump_weights\u001b[0m\u001b[0;34m[\u001b[0m\u001b[0mi\u001b[0m\u001b[0;34m]\u001b[0m\u001b[0;34m)\u001b[0m\u001b[0;34m\u001b[0m\u001b[0m\n\u001b[0m\u001b[1;32m     13\u001b[0m         \u001b[0mscores\u001b[0m \u001b[0;34m=\u001b[0m \u001b[0mnp\u001b[0m\u001b[0;34m.\u001b[0m\u001b[0madd\u001b[0m\u001b[0;34m(\u001b[0m\u001b[0mpredictions\u001b[0m\u001b[0;34m,\u001b[0m \u001b[0mscores\u001b[0m\u001b[0;34m)\u001b[0m\u001b[0;34m\u001b[0m\u001b[0m\n\u001b[1;32m     14\u001b[0m \u001b[0;34m\u001b[0m\u001b[0m\n",
      "\u001b[0;32m<ipython-input-81-1b479d73ea0b>\u001b[0m in \u001b[0;36mpredict_stump\u001b[0;34m(tree_stump, data, stump_weight)\u001b[0m\n\u001b[1;32m      2\u001b[0m     \u001b[0mpredictions\u001b[0m \u001b[0;34m=\u001b[0m \u001b[0;34m[\u001b[0m\u001b[0;34m]\u001b[0m\u001b[0;34m\u001b[0m\u001b[0m\n\u001b[1;32m      3\u001b[0m     \u001b[0;32mfor\u001b[0m \u001b[0mi\u001b[0m \u001b[0;32min\u001b[0m \u001b[0mrange\u001b[0m\u001b[0;34m(\u001b[0m\u001b[0mdata\u001b[0m\u001b[0;34m.\u001b[0m\u001b[0mshape\u001b[0m\u001b[0;34m[\u001b[0m\u001b[0;36m0\u001b[0m\u001b[0;34m]\u001b[0m\u001b[0;34m)\u001b[0m\u001b[0;34m:\u001b[0m\u001b[0;34m\u001b[0m\u001b[0m\n\u001b[0;32m----> 4\u001b[0;31m         \u001b[0mpredictions\u001b[0m\u001b[0;34m.\u001b[0m\u001b[0mappend\u001b[0m\u001b[0;34m(\u001b[0m\u001b[0mclassify\u001b[0m\u001b[0;34m(\u001b[0m\u001b[0mtree_stump\u001b[0m\u001b[0;34m,\u001b[0m \u001b[0mdata\u001b[0m\u001b[0;34m.\u001b[0m\u001b[0miloc\u001b[0m\u001b[0;34m[\u001b[0m\u001b[0mi\u001b[0m\u001b[0;34m]\u001b[0m\u001b[0;34m)\u001b[0m \u001b[0;34m*\u001b[0m \u001b[0mstump_weight\u001b[0m\u001b[0;34m)\u001b[0m\u001b[0;34m\u001b[0m\u001b[0m\n\u001b[0m\u001b[1;32m      5\u001b[0m \u001b[0;34m\u001b[0m\u001b[0m\n\u001b[1;32m      6\u001b[0m     \u001b[0;32mreturn\u001b[0m \u001b[0mpredictions\u001b[0m\u001b[0;34m\u001b[0m\u001b[0m\n",
      "\u001b[0;32m/Users/oleksiirenov/anaconda/lib/python2.7/site-packages/pandas/core/indexing.pyc\u001b[0m in \u001b[0;36m__getitem__\u001b[0;34m(self, key)\u001b[0m\n\u001b[1;32m   1187\u001b[0m             \u001b[0;32mreturn\u001b[0m \u001b[0mself\u001b[0m\u001b[0;34m.\u001b[0m\u001b[0m_getitem_tuple\u001b[0m\u001b[0;34m(\u001b[0m\u001b[0mkey\u001b[0m\u001b[0;34m)\u001b[0m\u001b[0;34m\u001b[0m\u001b[0m\n\u001b[1;32m   1188\u001b[0m         \u001b[0;32melse\u001b[0m\u001b[0;34m:\u001b[0m\u001b[0;34m\u001b[0m\u001b[0m\n\u001b[0;32m-> 1189\u001b[0;31m             \u001b[0;32mreturn\u001b[0m \u001b[0mself\u001b[0m\u001b[0;34m.\u001b[0m\u001b[0m_getitem_axis\u001b[0m\u001b[0;34m(\u001b[0m\u001b[0mkey\u001b[0m\u001b[0;34m,\u001b[0m \u001b[0maxis\u001b[0m\u001b[0;34m=\u001b[0m\u001b[0;36m0\u001b[0m\u001b[0;34m)\u001b[0m\u001b[0;34m\u001b[0m\u001b[0m\n\u001b[0m\u001b[1;32m   1190\u001b[0m \u001b[0;34m\u001b[0m\u001b[0m\n\u001b[1;32m   1191\u001b[0m     \u001b[0;32mdef\u001b[0m \u001b[0m_getitem_axis\u001b[0m\u001b[0;34m(\u001b[0m\u001b[0mself\u001b[0m\u001b[0;34m,\u001b[0m \u001b[0mkey\u001b[0m\u001b[0;34m,\u001b[0m \u001b[0maxis\u001b[0m\u001b[0;34m=\u001b[0m\u001b[0;36m0\u001b[0m\u001b[0;34m)\u001b[0m\u001b[0;34m:\u001b[0m\u001b[0;34m\u001b[0m\u001b[0m\n",
      "\u001b[0;32m/Users/oleksiirenov/anaconda/lib/python2.7/site-packages/pandas/core/indexing.pyc\u001b[0m in \u001b[0;36m_getitem_axis\u001b[0;34m(self, key, axis)\u001b[0m\n\u001b[1;32m   1478\u001b[0m                 \u001b[0mself\u001b[0m\u001b[0;34m.\u001b[0m\u001b[0m_is_valid_integer\u001b[0m\u001b[0;34m(\u001b[0m\u001b[0mkey\u001b[0m\u001b[0;34m,\u001b[0m \u001b[0maxis\u001b[0m\u001b[0;34m)\u001b[0m\u001b[0;34m\u001b[0m\u001b[0m\n\u001b[1;32m   1479\u001b[0m \u001b[0;34m\u001b[0m\u001b[0m\n\u001b[0;32m-> 1480\u001b[0;31m             \u001b[0;32mreturn\u001b[0m \u001b[0mself\u001b[0m\u001b[0;34m.\u001b[0m\u001b[0m_get_loc\u001b[0m\u001b[0;34m(\u001b[0m\u001b[0mkey\u001b[0m\u001b[0;34m,\u001b[0m \u001b[0maxis\u001b[0m\u001b[0;34m=\u001b[0m\u001b[0maxis\u001b[0m\u001b[0;34m)\u001b[0m\u001b[0;34m\u001b[0m\u001b[0m\n\u001b[0m\u001b[1;32m   1481\u001b[0m \u001b[0;34m\u001b[0m\u001b[0m\n\u001b[1;32m   1482\u001b[0m     \u001b[0;32mdef\u001b[0m \u001b[0m_convert_to_indexer\u001b[0m\u001b[0;34m(\u001b[0m\u001b[0mself\u001b[0m\u001b[0;34m,\u001b[0m \u001b[0mobj\u001b[0m\u001b[0;34m,\u001b[0m \u001b[0maxis\u001b[0m\u001b[0;34m=\u001b[0m\u001b[0;36m0\u001b[0m\u001b[0;34m,\u001b[0m \u001b[0mis_setter\u001b[0m\u001b[0;34m=\u001b[0m\u001b[0mFalse\u001b[0m\u001b[0;34m)\u001b[0m\u001b[0;34m:\u001b[0m\u001b[0;34m\u001b[0m\u001b[0m\n",
      "\u001b[0;32m/Users/oleksiirenov/anaconda/lib/python2.7/site-packages/pandas/core/indexing.pyc\u001b[0m in \u001b[0;36m_get_loc\u001b[0;34m(self, key, axis)\u001b[0m\n\u001b[1;32m     87\u001b[0m \u001b[0;34m\u001b[0m\u001b[0m\n\u001b[1;32m     88\u001b[0m     \u001b[0;32mdef\u001b[0m \u001b[0m_get_loc\u001b[0m\u001b[0;34m(\u001b[0m\u001b[0mself\u001b[0m\u001b[0;34m,\u001b[0m \u001b[0mkey\u001b[0m\u001b[0;34m,\u001b[0m \u001b[0maxis\u001b[0m\u001b[0;34m=\u001b[0m\u001b[0;36m0\u001b[0m\u001b[0;34m)\u001b[0m\u001b[0;34m:\u001b[0m\u001b[0;34m\u001b[0m\u001b[0m\n\u001b[0;32m---> 89\u001b[0;31m         \u001b[0;32mreturn\u001b[0m \u001b[0mself\u001b[0m\u001b[0;34m.\u001b[0m\u001b[0mobj\u001b[0m\u001b[0;34m.\u001b[0m\u001b[0m_ixs\u001b[0m\u001b[0;34m(\u001b[0m\u001b[0mkey\u001b[0m\u001b[0;34m,\u001b[0m \u001b[0maxis\u001b[0m\u001b[0;34m=\u001b[0m\u001b[0maxis\u001b[0m\u001b[0;34m)\u001b[0m\u001b[0;34m\u001b[0m\u001b[0m\n\u001b[0m\u001b[1;32m     90\u001b[0m \u001b[0;34m\u001b[0m\u001b[0m\n\u001b[1;32m     91\u001b[0m     \u001b[0;32mdef\u001b[0m \u001b[0m_slice\u001b[0m\u001b[0;34m(\u001b[0m\u001b[0mself\u001b[0m\u001b[0;34m,\u001b[0m \u001b[0mobj\u001b[0m\u001b[0;34m,\u001b[0m \u001b[0maxis\u001b[0m\u001b[0;34m=\u001b[0m\u001b[0;36m0\u001b[0m\u001b[0;34m,\u001b[0m \u001b[0mkind\u001b[0m\u001b[0;34m=\u001b[0m\u001b[0mNone\u001b[0m\u001b[0;34m)\u001b[0m\u001b[0;34m:\u001b[0m\u001b[0;34m\u001b[0m\u001b[0m\n",
      "\u001b[0;32m/Users/oleksiirenov/anaconda/lib/python2.7/site-packages/pandas/core/frame.pyc\u001b[0m in \u001b[0;36m_ixs\u001b[0;34m(self, i, axis)\u001b[0m\n\u001b[1;32m   1728\u001b[0m                     \u001b[0mcopy\u001b[0m \u001b[0;34m=\u001b[0m \u001b[0misinstance\u001b[0m\u001b[0;34m(\u001b[0m\u001b[0mnew_values\u001b[0m\u001b[0;34m,\u001b[0m\u001b[0mnp\u001b[0m\u001b[0;34m.\u001b[0m\u001b[0mndarray\u001b[0m\u001b[0;34m)\u001b[0m \u001b[0;32mand\u001b[0m \u001b[0mnew_values\u001b[0m\u001b[0;34m.\u001b[0m\u001b[0mbase\u001b[0m \u001b[0;32mis\u001b[0m \u001b[0mNone\u001b[0m\u001b[0;34m\u001b[0m\u001b[0m\n\u001b[1;32m   1729\u001b[0m                     result = Series(new_values, index=self.columns,\n\u001b[0;32m-> 1730\u001b[0;31m                                     name=self.index[i], dtype=new_values.dtype)\n\u001b[0m\u001b[1;32m   1731\u001b[0m                 \u001b[0mresult\u001b[0m\u001b[0;34m.\u001b[0m\u001b[0m_set_is_copy\u001b[0m\u001b[0;34m(\u001b[0m\u001b[0mself\u001b[0m\u001b[0;34m,\u001b[0m \u001b[0mcopy\u001b[0m\u001b[0;34m=\u001b[0m\u001b[0mcopy\u001b[0m\u001b[0;34m)\u001b[0m\u001b[0;34m\u001b[0m\u001b[0m\n\u001b[1;32m   1732\u001b[0m                 \u001b[0;32mreturn\u001b[0m \u001b[0mresult\u001b[0m\u001b[0;34m\u001b[0m\u001b[0m\n",
      "\u001b[0;32m/Users/oleksiirenov/anaconda/lib/python2.7/site-packages/pandas/core/series.pyc\u001b[0m in \u001b[0;36m__init__\u001b[0;34m(self, data, index, dtype, name, copy, fastpath)\u001b[0m\n\u001b[1;32m    216\u001b[0m             \u001b[0;32melse\u001b[0m\u001b[0;34m:\u001b[0m\u001b[0;34m\u001b[0m\u001b[0m\n\u001b[1;32m    217\u001b[0m                 data = _sanitize_array(data, index, dtype, copy,\n\u001b[0;32m--> 218\u001b[0;31m                                        raise_cast_failure=True)\n\u001b[0m\u001b[1;32m    219\u001b[0m \u001b[0;34m\u001b[0m\u001b[0m\n\u001b[1;32m    220\u001b[0m                 \u001b[0mdata\u001b[0m \u001b[0;34m=\u001b[0m \u001b[0mSingleBlockManager\u001b[0m\u001b[0;34m(\u001b[0m\u001b[0mdata\u001b[0m\u001b[0;34m,\u001b[0m \u001b[0mindex\u001b[0m\u001b[0;34m,\u001b[0m \u001b[0mfastpath\u001b[0m\u001b[0;34m=\u001b[0m\u001b[0mTrue\u001b[0m\u001b[0;34m)\u001b[0m\u001b[0;34m\u001b[0m\u001b[0m\n",
      "\u001b[0;32m/Users/oleksiirenov/anaconda/lib/python2.7/site-packages/pandas/core/series.pyc\u001b[0m in \u001b[0;36m_sanitize_array\u001b[0;34m(data, index, dtype, copy, raise_cast_failure)\u001b[0m\n\u001b[1;32m   2649\u001b[0m                         \u001b[0;32mraise\u001b[0m \u001b[0mTypeError\u001b[0m\u001b[0;34m(\u001b[0m\u001b[0;34m'Cannot cast datetime64 to %s'\u001b[0m \u001b[0;34m%\u001b[0m \u001b[0mdtype\u001b[0m\u001b[0;34m)\u001b[0m\u001b[0;34m\u001b[0m\u001b[0m\n\u001b[1;32m   2650\u001b[0m                 \u001b[0;32melse\u001b[0m\u001b[0;34m:\u001b[0m\u001b[0;34m\u001b[0m\u001b[0m\n\u001b[0;32m-> 2651\u001b[0;31m                     \u001b[0msubarr\u001b[0m \u001b[0;34m=\u001b[0m \u001b[0m_try_cast\u001b[0m\u001b[0;34m(\u001b[0m\u001b[0mdata\u001b[0m\u001b[0;34m,\u001b[0m \u001b[0mTrue\u001b[0m\u001b[0;34m)\u001b[0m\u001b[0;34m\u001b[0m\u001b[0m\n\u001b[0m\u001b[1;32m   2652\u001b[0m         \u001b[0;32melif\u001b[0m \u001b[0misinstance\u001b[0m\u001b[0;34m(\u001b[0m\u001b[0mdata\u001b[0m\u001b[0;34m,\u001b[0m \u001b[0mIndex\u001b[0m\u001b[0;34m)\u001b[0m\u001b[0;34m:\u001b[0m\u001b[0;34m\u001b[0m\u001b[0m\n\u001b[1;32m   2653\u001b[0m             \u001b[0;31m# don't coerce Index types\u001b[0m\u001b[0;34m\u001b[0m\u001b[0;34m\u001b[0m\u001b[0m\n",
      "\u001b[0;32m/Users/oleksiirenov/anaconda/lib/python2.7/site-packages/pandas/core/series.pyc\u001b[0m in \u001b[0;36m_try_cast\u001b[0;34m(arr, take_fast_path)\u001b[0m\n\u001b[1;32m   2617\u001b[0m \u001b[0;34m\u001b[0m\u001b[0m\n\u001b[1;32m   2618\u001b[0m         \u001b[0;32mtry\u001b[0m\u001b[0;34m:\u001b[0m\u001b[0;34m\u001b[0m\u001b[0m\n\u001b[0;32m-> 2619\u001b[0;31m             \u001b[0marr\u001b[0m \u001b[0;34m=\u001b[0m \u001b[0m_possibly_cast_to_datetime\u001b[0m\u001b[0;34m(\u001b[0m\u001b[0marr\u001b[0m\u001b[0;34m,\u001b[0m \u001b[0mdtype\u001b[0m\u001b[0;34m)\u001b[0m\u001b[0;34m\u001b[0m\u001b[0m\n\u001b[0m\u001b[1;32m   2620\u001b[0m             \u001b[0msubarr\u001b[0m \u001b[0;34m=\u001b[0m \u001b[0mnp\u001b[0m\u001b[0;34m.\u001b[0m\u001b[0marray\u001b[0m\u001b[0;34m(\u001b[0m\u001b[0marr\u001b[0m\u001b[0;34m,\u001b[0m \u001b[0mdtype\u001b[0m\u001b[0;34m=\u001b[0m\u001b[0mdtype\u001b[0m\u001b[0;34m,\u001b[0m \u001b[0mcopy\u001b[0m\u001b[0;34m=\u001b[0m\u001b[0mcopy\u001b[0m\u001b[0;34m)\u001b[0m\u001b[0;34m\u001b[0m\u001b[0m\n\u001b[1;32m   2621\u001b[0m         \u001b[0;32mexcept\u001b[0m \u001b[0;34m(\u001b[0m\u001b[0mValueError\u001b[0m\u001b[0;34m,\u001b[0m \u001b[0mTypeError\u001b[0m\u001b[0;34m)\u001b[0m\u001b[0;34m:\u001b[0m\u001b[0;34m\u001b[0m\u001b[0m\n",
      "\u001b[0;32m/Users/oleksiirenov/anaconda/lib/python2.7/site-packages/pandas/core/common.pyc\u001b[0m in \u001b[0;36m_possibly_cast_to_datetime\u001b[0;34m(value, dtype, coerce)\u001b[0m\n\u001b[1;32m   1977\u001b[0m     \"\"\"\n\u001b[1;32m   1978\u001b[0m     \u001b[0;32mfrom\u001b[0m \u001b[0mpandas\u001b[0m\u001b[0;34m.\u001b[0m\u001b[0mtseries\u001b[0m\u001b[0;34m.\u001b[0m\u001b[0mtimedeltas\u001b[0m \u001b[0;32mimport\u001b[0m \u001b[0mto_timedelta\u001b[0m\u001b[0;34m\u001b[0m\u001b[0m\n\u001b[0;32m-> 1979\u001b[0;31m     \u001b[0;32mfrom\u001b[0m \u001b[0mpandas\u001b[0m\u001b[0;34m.\u001b[0m\u001b[0mtseries\u001b[0m\u001b[0;34m.\u001b[0m\u001b[0mtools\u001b[0m \u001b[0;32mimport\u001b[0m \u001b[0mto_datetime\u001b[0m\u001b[0;34m\u001b[0m\u001b[0m\n\u001b[0m\u001b[1;32m   1980\u001b[0m \u001b[0;34m\u001b[0m\u001b[0m\n\u001b[1;32m   1981\u001b[0m     \u001b[0;32mif\u001b[0m \u001b[0mdtype\u001b[0m \u001b[0;32mis\u001b[0m \u001b[0;32mnot\u001b[0m \u001b[0mNone\u001b[0m\u001b[0;34m:\u001b[0m\u001b[0;34m\u001b[0m\u001b[0m\n",
      "\u001b[0;31mKeyboardInterrupt\u001b[0m: "
     ]
    }
   ],
   "source": [
    "error_all = []\n",
    "for n in xrange(1, 31):\n",
    "    predictions = predict_adaboost(stump_weights[:n], tree_stumps[:n], train_data)\n",
    "    error = 1.0 - np.sum(train_data['safe_loans'] == predictions)/float(len(predictions))\n",
    "    error_all.append(error)\n",
    "    print \"Iteration %s, training error = %s\" % (n, error_all[n-1])"
   ]
  },
  {
   "cell_type": "markdown",
   "metadata": {
    "collapsed": true
   },
   "source": [
    "##Visualizing training error vs number of iterations\n",
    "\n"
   ]
  },
  {
   "cell_type": "code",
   "execution_count": null,
   "metadata": {
    "collapsed": true
   },
   "outputs": [],
   "source": []
  }
 ],
 "metadata": {
  "kernelspec": {
   "display_name": "Python 2",
   "language": "python",
   "name": "python2"
  },
  "language_info": {
   "codemirror_mode": {
    "name": "ipython",
    "version": 2
   },
   "file_extension": ".py",
   "mimetype": "text/x-python",
   "name": "python",
   "nbconvert_exporter": "python",
   "pygments_lexer": "ipython2",
   "version": "2.7.10"
  }
 },
 "nbformat": 4,
 "nbformat_minor": 0
}
